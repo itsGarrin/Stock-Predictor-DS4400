{
 "cells": [
  {
   "cell_type": "code",
   "execution_count": null,
   "metadata": {
    "ExecuteTime": {
     "end_time": "2023-04-03T13:36:10.509364Z",
     "start_time": "2023-04-03T13:36:08.968932Z"
    },
    "collapsed": true
   },
   "outputs": [],
   "source": [
    "# Import libraries and dependencies\n",
    "\n",
    "import numpy as np\n",
    "import pandas as pd\n",
    "import time\n",
    "from finsymbols import symbols\n",
    "\n",
    "import api_calls"
   ]
  },
  {
   "cell_type": "code",
   "execution_count": null,
   "metadata": {},
   "outputs": [],
   "source": [
    "sp500 = symbols.get_sp500_symbols()\n",
    "listings = api_calls.call_listings()\n",
    "\n",
    "# Create a DataFrame from the listings data, with the first row as the column names\n",
    "all_stocks = pd.DataFrame(listings[1:], columns=listings[0])"
   ]
  },
  {
   "cell_type": "code",
   "execution_count": null,
   "metadata": {},
   "outputs": [],
   "source": [
    "# Get the symbols from the S&P 500\n",
    "sp500_symbols = [sp500[i]['symbol'] for i in range(len(sp500))]\n",
    "\n",
    "# Remove \\n from the symbols\n",
    "sp500_symbols = [sp500_symbols[i].replace('\\n', '') for i in range(len(sp500_symbols))]\n",
    "\n",
    "# Replace \"BF.B\" with \"BF-B\"\n",
    "sp500_symbols = [sp500_symbols[i].replace('BF.B', 'BF-B') for i in range(len(sp500_symbols))]\n",
    "\n",
    "# Display sample data\n",
    "sp500_symbols"
   ]
  },
  {
   "cell_type": "code",
   "execution_count": null,
   "outputs": [],
   "source": [
    "# Remove all ETFs from the DataFrame\n",
    "all_stocks = all_stocks[all_stocks['assetType'] != 'ETF']\n",
    "\n",
    "# Remove all stocks that are not on the NYSE or NASDAQ\n",
    "all_stocks = all_stocks[(all_stocks['exchange'] == 'NYSE') | (all_stocks['exchange'] == 'NASDAQ')]\n",
    "\n",
    "# Create a list with the symbols from all stocks\n",
    "all_stocks_symbols = all_stocks['symbol'].tolist()\n",
    "\n",
    "all_stocks_symbols"
   ],
   "metadata": {
    "collapsed": false
   }
  },
  {
   "cell_type": "code",
   "execution_count": null,
   "metadata": {},
   "outputs": [],
   "source": [
    "# Create a function to calculate the 100-day return for stocks in the list\n",
    "def get_returns(symbols):\n",
    "    # Create an empty DataFrame with symbol and return columns\n",
    "    df = pd.DataFrame(columns=['symbol', 'stock_return_100', 'market_return_100'])\n",
    "\n",
    "    # Find the 100-day return for the market\n",
    "    market_return_100 = get_return('VTI')\n",
    "\n",
    "    for i, symbol in enumerate(symbols):\n",
    "        print(symbol)\n",
    "        # Calculate the 100-day return\n",
    "        stock_return_100 = get_return(symbol)\n",
    "\n",
    "        # Add the symbol, stock return, and market return to the DataFrame using pd.concat\n",
    "        df = pd.concat([df, pd.DataFrame({'symbol': symbol, 'stock_return_100': stock_return_100, 'market_return_100': market_return_100}, index=[0])], axis=0)\n",
    "\n",
    "        # If the index is at 1200, pause for 60 seconds to avoid the API limit\n",
    "        if i % 1150 == 0:\n",
    "            time.sleep(60)\n",
    "\n",
    "    return df\n",
    "\n",
    "# Create a function to calculate the return for a stock over the last 100 days\n",
    "def get_return(symbol):\n",
    "    # Call the alpha vantage api to get the data\n",
    "    stock_data = api_calls.call_daily(symbol)\n",
    "\n",
    "    # Return None if there is no data or less than 100 days of data\n",
    "    try:\n",
    "        if len(stock_data['Time Series (Daily)']) < 100:\n",
    "            return None\n",
    "    except:\n",
    "        return None\n",
    "\n",
    "    # Get the adjusted closing prices\n",
    "    stock_data_df = pd.DataFrame(stock_data['Time Series (Daily)']).T\n",
    "\n",
    "    # Calculate the return from the first day to the last day\n",
    "    return_100 = (float(stock_data_df['5. adjusted close'][0]) - float(stock_data_df['5. adjusted close'][-1])) / float(stock_data_df['5. adjusted close'][-1])\n",
    "\n",
    "    return return_100"
   ]
  },
  {
   "cell_type": "code",
   "execution_count": null,
   "metadata": {},
   "outputs": [],
   "source": [
    "# Create an empty DataFrame with symbol and return columns\n",
    "df = pd.DataFrame(columns=['symbol', 'stock_return_100', 'market_return_100'])\n",
    "\n",
    "# Indicate which symbols to use\n",
    "symbols = all_stocks_symbols"
   ]
  },
  {
   "cell_type": "code",
   "execution_count": null,
   "metadata": {},
   "outputs": [],
   "source": [
    "# Loop through the symbols and get the company overview data, calculating the 100-day return for each company and saving it to a DataFrame\n",
    "\n",
    "df = get_returns(symbols)"
   ]
  },
  {
   "cell_type": "code",
   "execution_count": null,
   "outputs": [],
   "source": [
    "df"
   ],
   "metadata": {
    "collapsed": false
   }
  },
  {
   "cell_type": "code",
   "execution_count": null,
   "outputs": [],
   "source": [
    "print(api_calls.call_daily('AESI'))"
   ],
   "metadata": {
    "collapsed": false
   }
  },
  {
   "cell_type": "code",
   "execution_count": null,
   "outputs": [],
   "source": [
    "# Print the companies that have None for the 100-day return\n",
    "df[df['stock_return_100'].isnull()]"
   ],
   "metadata": {
    "collapsed": false
   }
  },
  {
   "cell_type": "code",
   "execution_count": null,
   "outputs": [],
   "source": [
    "#Rerun the 100-day return data for the companies that have None for the 100-day return using get_returns\n",
    "for symbol in df[df['stock_return_100'].isnull()]['symbol']:\n",
    "    # Calculate the 100-day return\n",
    "    stock_return_100 = get_return(symbol)\n",
    "\n",
    "    # Replace the None value with the calculated return\n",
    "    df.loc[df['symbol'] == symbol, 'stock_return_100'] = stock_return_100\n",
    "\n",
    "    # Print the progress\n",
    "    print(symbol, stock_return_100)"
   ],
   "metadata": {
    "collapsed": false
   }
  },
  {
   "cell_type": "code",
   "execution_count": null,
   "outputs": [],
   "source": [
    "df.to_pickle('progress.csv')"
   ],
   "metadata": {
    "collapsed": false
   }
  },
  {
   "cell_type": "code",
   "execution_count": null,
   "outputs": [],
   "source": [
    "df = pd.read_pickle('progress.csv')"
   ],
   "metadata": {
    "collapsed": false
   }
  },
  {
   "cell_type": "code",
   "execution_count": null,
   "outputs": [],
   "source": [
    "# Create a function to calculate the news sentiment for stocks in the list\n",
    "def get_sentiment(symbols):\n",
    "    # Create an empty DataFrame with symbol and sentiment columns\n",
    "    df = pd.DataFrame(columns=['symbol', 'sentiment'])\n",
    "\n",
    "    for i, symbol in enumerate(symbols):\n",
    "        print(symbol)\n",
    "        # Call the alpha vantage api to get the news data\n",
    "        news = api_calls.call_news(symbol)\n",
    "\n",
    "        # If there is no news data, return None\n",
    "        try:\n",
    "            if news['items'] == '0':\n",
    "                df = pd.concat([df, pd.DataFrame({'symbol': symbol, 'sentiment': None}, index=[0])], axis=0)\n",
    "                continue\n",
    "        except:\n",
    "            df = pd.concat([df, pd.DataFrame({'symbol': symbol, 'sentiment': None}, index=[0])], axis=0)\n",
    "            continue\n",
    "\n",
    "        # Create a Pandas DataFrame\n",
    "        stock_news = pd.DataFrame(news['feed'])\n",
    "\n",
    "        # Calculate the average sentiment\n",
    "        sentiment = stock_news['overall_sentiment_score'].mean()\n",
    "\n",
    "        # Add the symbol and sentiment to the DataFrame using pd.concat\n",
    "        df = pd.concat([df, pd.DataFrame({'symbol': symbol, 'sentiment': sentiment}, index=[0])], axis=0)\n",
    "\n",
    "        # If the index is at 1200, pause for 60 seconds to avoid the API limit\n",
    "        if i % 1150 == 0:\n",
    "            time.sleep(60)\n",
    "\n",
    "    return df"
   ],
   "metadata": {
    "collapsed": false
   }
  },
  {
   "cell_type": "code",
   "execution_count": null,
   "metadata": {},
   "outputs": [],
   "source": [
    "# Append the news sentiment data to the company overview DataFrame\n",
    "df = pd.merge(df, get_sentiment(symbols), on='symbol', how='left')"
   ]
  },
  {
   "cell_type": "code",
   "execution_count": null,
   "outputs": [],
   "source": [
    "df"
   ],
   "metadata": {
    "collapsed": false
   }
  },
  {
   "cell_type": "code",
   "execution_count": null,
   "outputs": [],
   "source": [
    "# Print the companies that have None for the sentiment\n",
    "df[df['sentiment'].isnull()]"
   ],
   "metadata": {
    "collapsed": false
   }
  },
  {
   "cell_type": "code",
   "execution_count": null,
   "outputs": [],
   "source": [
    "# Rerun the sentiment data for the companies that have None for the sentiment\n",
    "for symbol in df[df['sentiment'].isnull()]['symbol']:\n",
    "    # Call the alpha vantage api to get the news data\n",
    "    news = api_calls.call_news(symbol)\n",
    "\n",
    "    # If there is no news data, return None\n",
    "    try:\n",
    "        if news['items'] == '0':\n",
    "            df.loc[df['symbol'] == symbol, 'sentiment'] = None\n",
    "            continue\n",
    "    except:\n",
    "        df.loc[df['symbol'] == symbol, 'sentiment'] = None\n",
    "        continue\n",
    "\n",
    "    # Create a Pandas DataFrame\n",
    "    stock_news = pd.DataFrame(news['feed'])\n",
    "\n",
    "    # Calculate the average sentiment\n",
    "    sentiment = stock_news['overall_sentiment_score'].mean()\n",
    "\n",
    "    # Replace the None with the sentiment\n",
    "    df.loc[df['symbol'] == symbol, 'sentiment'] = sentiment"
   ],
   "metadata": {
    "collapsed": false
   }
  },
  {
   "cell_type": "code",
   "execution_count": null,
   "outputs": [],
   "source": [
    "df.to_pickle('progress.csv')"
   ],
   "metadata": {
    "collapsed": false
   }
  },
  {
   "cell_type": "code",
   "execution_count": null,
   "outputs": [],
   "source": [
    "df = pd.read_pickle('progress.csv')"
   ],
   "metadata": {
    "collapsed": false
   }
  },
  {
   "cell_type": "code",
   "execution_count": null,
   "outputs": [],
   "source": [
    "# Create a function to calculate the company overview data for stocks in the list\n",
    "def get_overview(symbols):\n",
    "    # Create an empty DataFrame with symbol and return columns\n",
    "    df = pd.DataFrame(columns=['symbol', 'market_cap', 'ebitda', 'pe_ratio', 'peg_ratio', 'book_value', 'dividend_per_share', 'dividend_yield', 'eps', 'revenue_per_share', 'profit_margin', 'operating_margin', 'return_on_assets', 'return_on_equity', 'revenue', 'gross_profit', 'diluted_eps', 'quarterly_earnings_growth', 'quarterly_revenue_growth', 'trailing_pe', 'forward_pe', 'price_to_sales_ratio', 'price_to_book_ratio', 'ev_to_revenue', 'ev_to_ebitda', 'beta'])\n",
    "\n",
    "    for i, symbol in enumerate(symbols):\n",
    "        print(symbol)\n",
    "\n",
    "        # Call the alpha vantage api to get the company overview data\n",
    "        overview = api_calls.call_company_overview(symbol)\n",
    "\n",
    "        # If there is no overview data, return None\n",
    "        try:\n",
    "            if overview['Symbol'] == '0':\n",
    "                df = pd.concat([df, pd.DataFrame({'symbol': symbol, 'market_cap': None, 'ebitda': None, 'pe_ratio': None, 'peg_ratio': None, 'book_value': None, 'dividend_per_share': None, 'dividend_yield': None, 'eps': None, 'revenue_per_share': None, 'profit_margin': None, 'operating_margin': None, 'return_on_assets': None, 'return_on_equity': None, 'revenue': None, 'gross_profit': None, 'diluted_eps': None, 'quarterly_earnings_growth': None, 'quarterly_revenue_growth': None, 'trailing_pe': None, 'forward_pe': None, 'price_to_sales_ratio': None, 'price_to_book_ratio': None, 'ev_to_revenue': None, 'ev_to_ebitda': None, 'beta': None}, index=[0])], axis=0)\n",
    "                continue\n",
    "        except:\n",
    "            df = pd.concat([df, pd.DataFrame({'symbol': symbol, 'market_cap': None, 'ebitda': None, 'pe_ratio': None, 'peg_ratio': None, 'book_value': None, 'dividend_per_share': None, 'dividend_yield': None, 'eps': None, 'revenue_per_share': None, 'profit_margin': None, 'operating_margin': None, 'return_on_assets': None, 'return_on_equity': None, 'revenue': None, 'gross_profit': None, 'diluted_eps': None, 'quarterly_earnings_growth': None, 'quarterly_revenue_growth': None, 'trailing_pe': None, 'forward_pe': None, 'price_to_sales_ratio': None, 'price_to_book_ratio': None, 'ev_to_revenue': None, 'ev_to_ebitda': None, 'beta': None}, index=[0])], axis=0)\n",
    "            continue\n",
    "\n",
    "        # Add the symbol and overview data to the DataFrame using pd.concat\n",
    "        df = pd.concat([df, pd.DataFrame({'symbol': symbol, 'market_cap': overview['MarketCapitalization'], 'ebitda': overview['EBITDA'], 'pe_ratio': overview['PERatio'], 'peg_ratio': overview['PEGRatio'], 'book_value': overview['BookValue'], 'dividend_per_share': overview['DividendPerShare'], 'dividend_yield': overview['DividendYield'], 'eps': overview['EPS'], 'revenue_per_share': overview['RevenuePerShareTTM'], 'profit_margin': overview['ProfitMargin'], 'operating_margin': overview['OperatingMarginTTM'], 'return_on_assets': overview['ReturnOnAssetsTTM'], 'return_on_equity': overview['ReturnOnEquityTTM'], 'revenue': overview['RevenueTTM'], 'gross_profit': overview['GrossProfitTTM'], 'diluted_eps': overview['DilutedEPSTTM'], 'quarterly_earnings_growth': overview['QuarterlyEarningsGrowthYOY'], 'quarterly_revenue_growth': overview['QuarterlyRevenueGrowthYOY'], 'trailing_pe': overview['TrailingPE'], 'forward_pe': overview['ForwardPE'], 'price_to_sales_ratio': overview['PriceToSalesRatioTTM'], 'price_to_book_ratio': overview['PriceToBookRatio'], 'ev_to_revenue': overview['EVToRevenue'], 'ev_to_ebitda': overview['EVToEBITDA'], 'beta': overview['Beta']}, index=[0])], axis=0)\n",
    "\n",
    "        # If the index is at 1200, pause for 60 seconds to avoid the API limit\n",
    "        if i % 1150 == 0:\n",
    "            time.sleep(60)\n",
    "\n",
    "    return df"
   ],
   "metadata": {
    "collapsed": false
   }
  },
  {
   "cell_type": "code",
   "execution_count": null,
   "outputs": [],
   "source": [
    "# Append the company overview data to the DataFrame\n",
    "df = pd.merge(df, get_overview(symbols), on='symbol', how='left')"
   ],
   "metadata": {
    "collapsed": false
   }
  },
  {
   "cell_type": "code",
   "execution_count": null,
   "outputs": [],
   "source": [
    "df"
   ],
   "metadata": {
    "collapsed": false
   }
  },
  {
   "cell_type": "code",
   "execution_count": null,
   "outputs": [],
   "source": [
    "# Print the companies that have None for the beta\n",
    "df[df['market_cap'].isnull()]"
   ],
   "metadata": {
    "collapsed": false
   }
  },
  {
   "cell_type": "code",
   "execution_count": null,
   "outputs": [],
   "source": [
    "# Rerun the api call for the companies that have None for the market cap\n",
    "for symbol in df[df['beta'].isnull()]['symbol']:\n",
    "    # Call the alpha vantage api to get the company overview data\n",
    "    company_overview = api_calls.call_company_overview(symbol)\n",
    "\n",
    "    # If there is no company overview data, return None\n",
    "    try:\n",
    "        if company_overview['MarketCapitalization'] == 'N/A':\n",
    "            df.loc[df['symbol'] == symbol, 'market_cap'] = None\n",
    "            continue\n",
    "    except:\n",
    "        df.loc[df['symbol'] == symbol, 'market_cap'] = None\n",
    "        continue\n",
    "\n",
    "    # Add the market cap, ebitda, pe ratio, peg ratio, book value, dividend per share, dividend yield, eps, revenue per share, profit margin, operating margin, return on assets, return on equity, revenue, gross profit, diluted eps, quarterly earnings growth, quarterly revenue growth, trailing pe, forward pe, price to sales ratio, price to book ratio, ev to revenue, ev to ebitda, beta to the DataFrame\n",
    "    df.loc[df['symbol'] == symbol, 'market_cap'] = company_overview['MarketCapitalization']\n",
    "    df.loc[df['symbol'] == symbol, 'ebitda'] = company_overview['EBITDA']\n",
    "    df.loc[df['symbol'] == symbol, 'pe_ratio'] = company_overview['PERatio']\n",
    "    df.loc[df['symbol'] == symbol, 'peg_ratio'] = company_overview['PEGRatio']\n",
    "    df.loc[df['symbol'] == symbol, 'book_value'] = company_overview['BookValue']\n",
    "    df.loc[df['symbol'] == symbol, 'dividend_per_share'] = company_overview['DividendPerShare']\n",
    "    df.loc[df['symbol'] == symbol, 'dividend_yield'] = company_overview['DividendYield']\n",
    "    df.loc[df['symbol'] == symbol, 'eps'] = company_overview['EPS']\n",
    "    df.loc[df['symbol'] == symbol, 'revenue_per_share'] = company_overview['RevenuePerShareTTM']\n",
    "    df.loc[df['symbol'] == symbol, 'profit_margin'] = company_overview['ProfitMargin']\n",
    "    df.loc[df['symbol'] == symbol, 'operating_margin'] = company_overview['OperatingMarginTTM']\n",
    "    df.loc[df['symbol'] == symbol, 'return_on_assets'] = company_overview['ReturnOnAssetsTTM']\n",
    "    df.loc[df['symbol'] == symbol, 'return_on_equity'] = company_overview['ReturnOnEquityTTM']\n",
    "    df.loc[df['symbol'] == symbol, 'revenue'] = company_overview['RevenueTTM']\n",
    "    df.loc[df['symbol'] == symbol, 'gross_profit'] = company_overview['GrossProfitTTM']\n",
    "    df.loc[df['symbol'] == symbol, 'diluted_eps'] = company_overview['DilutedEPSTTM']\n",
    "    df.loc[df['symbol'] == symbol, 'quarterly_earnings_growth'] = company_overview['QuarterlyEarningsGrowthYOY']\n",
    "    df.loc[df['symbol'] == symbol, 'quarterly_revenue_growth'] = company_overview['QuarterlyRevenueGrowthYOY']\n",
    "    df.loc[df['symbol'] == symbol, 'trailing_pe'] = company_overview['TrailingPE']\n",
    "    df.loc[df['symbol'] == symbol, 'forward_pe'] = company_overview['ForwardPE']\n",
    "    df.loc[df['symbol'] == symbol, 'price_to_sales_ratio'] = company_overview['PriceToSalesRatioTTM']\n",
    "    df.loc[df['symbol'] == symbol, 'price_to_book_ratio'] = company_overview['PriceToBookRatio']\n",
    "    df.loc[df['symbol'] == symbol, 'ev_to_revenue'] = company_overview['EVToRevenue']\n",
    "    df.loc[df['symbol'] == symbol, 'ev_to_ebitda'] = company_overview['EVToEBITDA']\n",
    "    df.loc[df['symbol'] == symbol, 'beta'] = company_overview['Beta']"
   ],
   "metadata": {
    "collapsed": false
   }
  },
  {
   "cell_type": "code",
   "execution_count": null,
   "outputs": [],
   "source": [
    "df.to_pickle('progress.csv')"
   ],
   "metadata": {
    "collapsed": false
   }
  },
  {
   "cell_type": "code",
   "execution_count": null,
   "outputs": [],
   "source": [
    "df = pd.read_pickle('progress.csv')"
   ],
   "metadata": {
    "collapsed": false
   }
  },
  {
   "cell_type": "code",
   "execution_count": null,
   "outputs": [],
   "source": [
    "df.to_csv('stocks.csv')"
   ],
   "metadata": {
    "collapsed": false
   }
  },
  {
   "cell_type": "code",
   "execution_count": null,
   "outputs": [],
   "source": [],
   "metadata": {
    "collapsed": false
   }
  }
 ],
 "metadata": {
  "kernelspec": {
   "display_name": "Python 3 (ipykernel)",
   "language": "python",
   "name": "python3"
  },
  "language_info": {
   "codemirror_mode": {
    "name": "ipython",
    "version": 3
   },
   "file_extension": ".py",
   "mimetype": "text/x-python",
   "name": "python",
   "nbconvert_exporter": "python",
   "pygments_lexer": "ipython3",
   "version": "3.9.13"
  }
 },
 "nbformat": 4,
 "nbformat_minor": 1
}
