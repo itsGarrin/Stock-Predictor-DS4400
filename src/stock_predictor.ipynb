{
 "cells": [
  {
   "cell_type": "code",
   "execution_count": 53,
   "metadata": {
    "collapsed": true,
    "ExecuteTime": {
     "start_time": "2023-04-09T15:37:10.542606Z",
     "end_time": "2023-04-09T15:37:10.551136Z"
    }
   },
   "outputs": [],
   "source": [
    "# Import libraries and modules\n",
    "import numpy as np\n",
    "import pandas as pd\n",
    "from matplotlib import pyplot as plt\n",
    "from sklearn.ensemble import AdaBoostClassifier, RandomForestClassifier, GradientBoostingClassifier\n",
    "from sklearn.feature_selection import RFE\n",
    "from sklearn.linear_model import Perceptron, LogisticRegression\n",
    "from sklearn.model_selection import RepeatedStratifiedKFold\n",
    "from sklearn.model_selection import cross_val_score\n",
    "from sklearn.pipeline import Pipeline\n",
    "from sklearn.tree import DecisionTreeClassifier"
   ]
  },
  {
   "cell_type": "code",
   "execution_count": 54,
   "outputs": [],
   "source": [
    "# Load the data\n",
    "df = pd.read_csv('stocks.csv')"
   ],
   "metadata": {
    "collapsed": false,
    "ExecuteTime": {
     "start_time": "2023-04-09T15:37:11.138400Z",
     "end_time": "2023-04-09T15:37:11.175295Z"
    }
   }
  },
  {
   "cell_type": "code",
   "execution_count": 55,
   "outputs": [],
   "source": [
    "# Convert all None values to NaN\n",
    "df = df.replace('None', np.nan)\n",
    "\n",
    "# Convert all - values to NaN\n",
    "df = df.replace('-', np.nan)\n",
    "\n",
    "# Remove any null values from the training set\n",
    "df.dropna(inplace=True)\n",
    "\n",
    "# Replace the boolean values in \"outperformed\" with 1 and 0\n",
    "df['outperformed'].replace(True, 1, inplace=True)\n",
    "df['outperformed'].replace(False, 0, inplace=True)\n",
    "\n",
    "# Cast the columns to the correct data types\n",
    "df = df.astype(\n",
    "    {'market_cap': float, 'beta': float, 'ebitda': float, 'pe_ratio': float, 'peg_ratio': float, 'book_value': float,\n",
    "     'trailing_pe': float, 'forward_pe': float, 'price_to_sales_ratio': float, 'dividend_per_share': float,\n",
    "     'dividend_yield': float,\n",
    "     'eps': float, 'price_to_book_ratio': float, 'ev_to_revenue': float, 'ev_to_ebitda': float})"
   ],
   "metadata": {
    "collapsed": false,
    "ExecuteTime": {
     "start_time": "2023-04-09T15:37:11.797281Z",
     "end_time": "2023-04-09T15:37:11.829775Z"
    }
   }
  },
  {
   "cell_type": "code",
   "execution_count": 56,
   "outputs": [],
   "source": [
    "# Drop the returns from both sets\n",
    "df.drop(['stock_return_100', 'market_return_100'], axis=1, inplace=True)\n",
    "\n",
    "# Drop the \"Unnamed: 0\" column from the training set\n",
    "df.drop('Unnamed: 0', axis=1, inplace=True)"
   ],
   "metadata": {
    "collapsed": false,
    "ExecuteTime": {
     "start_time": "2023-04-09T15:37:12.683573Z",
     "end_time": "2023-04-09T15:37:12.716169Z"
    }
   }
  },
  {
   "cell_type": "code",
   "execution_count": 57,
   "outputs": [
    {
     "data": {
      "text/plain": "        sentiment    market_cap        ebitda  pe_ratio  peg_ratio  \\\nsymbol                                                               \nA        0.221348  4.101120e+10  2.019000e+09     31.13      2.360   \nAAP      0.159260  7.208287e+09  1.037605e+09     14.71      0.909   \nAAPL     0.134550  2.620581e+12  1.252880e+11     28.17      2.750   \nABB      0.225050  6.393383e+10  4.477000e+09     25.98      0.276   \nABBV     0.158136  2.843970e+11  3.108900e+10     24.32      1.279   \n...           ...           ...           ...       ...        ...   \nZTO      0.184920  2.325894e+10  1.040703e+10     23.40     23.960   \nZTS      0.199179  7.741807e+10  3.332000e+09     37.21      3.526   \nZUMZ     0.042960  3.716670e+08  5.122600e+07     17.18      0.820   \nZWS      0.039737  3.754832e+09  2.132000e+08     56.21      1.084   \nZYXI     0.170081  4.603460e+08  2.606500e+07     27.91      0.000   \n\n        book_value  dividend_per_share  dividend_yield   eps  \\\nsymbol                                                         \nA           18.960               0.855          0.0065  4.44   \nAAP         45.490               6.000          0.0493  8.27   \nAAPL         3.581               0.910          0.0055  5.88   \nABB          1.713               0.908          0.0268  1.32   \nABBV         9.750               5.710          0.0369  6.63   \n...            ...                 ...             ...   ...   \nZTO         66.760               0.000          0.0104  1.23   \nZTS          9.500               1.300          0.0089  4.49   \nZUMZ        20.900               0.000          0.0000  1.11   \nZWS          9.130               0.200          0.0131  0.38   \nZYXI         1.774               0.000          0.0000  0.43   \n\n        revenue_per_share  ...  quarterly_earnings_growth  \\\nsymbol                     ...                              \nA                  23.270  ...                      0.279   \nAAP               184.830  ...                      0.383   \nAAPL               24.080  ...                     -0.105   \nABB                 3.877  ...                     -0.546   \nABBV               32.780  ...                     -0.388   \n...                   ...  ...                        ...   \nZTO                43.700  ...                      0.197   \nZTS                17.230  ...                      0.125   \nZUMZ               49.900  ...                     -0.651   \nZWS                 8.460  ...                     -0.528   \nZYXI                4.112  ...                     -0.132   \n\n        quarterly_revenue_growth  trailing_pe  forward_pe  \\\nsymbol                                                      \nA                          0.049        31.13       26.95   \nAAP                        0.032        14.71       11.03   \nAAPL                      -0.055        28.17       23.09   \nABB                        0.034        25.98       18.98   \nABBV                       0.016        24.32       14.39   \n...                          ...          ...         ...   \nZTO                        0.071        23.40       18.45   \nZTS                        0.037        37.21       30.12   \nZUMZ                      -0.192        17.18       12.21   \nZWS                        0.465        56.21       21.69   \nZYXI                       0.209        27.91       26.18   \n\n        price_to_sales_ratio  price_to_book_ratio  ev_to_revenue  \\\nsymbol                                                             \nA                      6.500                8.630          6.920   \nAAP                    0.766                3.130          1.077   \nAAPL                   5.510               44.630          5.920   \nABB                    1.934                5.030          2.207   \nABBV                   4.989               18.230          6.040   \n...                      ...                  ...            ...   \nZTO                    0.626                2.903          0.594   \nZTS                    8.660               15.170          9.370   \nZUMZ                   0.398                1.162          0.542   \nZWS                    3.290                2.664          5.330   \nZYXI                   3.566                7.880          3.468   \n\n        ev_to_ebitda    beta  outperformed  \nsymbol                                      \nA             24.870  1.0450             0  \nAAP           12.610  1.1370             0  \nAAPL          17.530  1.2970             1  \nABB           10.460  1.0240             1  \nABBV          13.800  0.5870             0  \n...              ...     ...           ...  \nZTO            2.599  0.0137             1  \nZTS           23.100  0.7590             1  \nZUMZ           6.240  1.5010             0  \nZWS           39.840  1.0740             0  \nZYXI          19.020  0.6620             0  \n\n[1346 rows x 27 columns]",
      "text/html": "<div>\n<style scoped>\n    .dataframe tbody tr th:only-of-type {\n        vertical-align: middle;\n    }\n\n    .dataframe tbody tr th {\n        vertical-align: top;\n    }\n\n    .dataframe thead th {\n        text-align: right;\n    }\n</style>\n<table border=\"1\" class=\"dataframe\">\n  <thead>\n    <tr style=\"text-align: right;\">\n      <th></th>\n      <th>sentiment</th>\n      <th>market_cap</th>\n      <th>ebitda</th>\n      <th>pe_ratio</th>\n      <th>peg_ratio</th>\n      <th>book_value</th>\n      <th>dividend_per_share</th>\n      <th>dividend_yield</th>\n      <th>eps</th>\n      <th>revenue_per_share</th>\n      <th>...</th>\n      <th>quarterly_earnings_growth</th>\n      <th>quarterly_revenue_growth</th>\n      <th>trailing_pe</th>\n      <th>forward_pe</th>\n      <th>price_to_sales_ratio</th>\n      <th>price_to_book_ratio</th>\n      <th>ev_to_revenue</th>\n      <th>ev_to_ebitda</th>\n      <th>beta</th>\n      <th>outperformed</th>\n    </tr>\n    <tr>\n      <th>symbol</th>\n      <th></th>\n      <th></th>\n      <th></th>\n      <th></th>\n      <th></th>\n      <th></th>\n      <th></th>\n      <th></th>\n      <th></th>\n      <th></th>\n      <th></th>\n      <th></th>\n      <th></th>\n      <th></th>\n      <th></th>\n      <th></th>\n      <th></th>\n      <th></th>\n      <th></th>\n      <th></th>\n      <th></th>\n    </tr>\n  </thead>\n  <tbody>\n    <tr>\n      <th>A</th>\n      <td>0.221348</td>\n      <td>4.101120e+10</td>\n      <td>2.019000e+09</td>\n      <td>31.13</td>\n      <td>2.360</td>\n      <td>18.960</td>\n      <td>0.855</td>\n      <td>0.0065</td>\n      <td>4.44</td>\n      <td>23.270</td>\n      <td>...</td>\n      <td>0.279</td>\n      <td>0.049</td>\n      <td>31.13</td>\n      <td>26.95</td>\n      <td>6.500</td>\n      <td>8.630</td>\n      <td>6.920</td>\n      <td>24.870</td>\n      <td>1.0450</td>\n      <td>0</td>\n    </tr>\n    <tr>\n      <th>AAP</th>\n      <td>0.159260</td>\n      <td>7.208287e+09</td>\n      <td>1.037605e+09</td>\n      <td>14.71</td>\n      <td>0.909</td>\n      <td>45.490</td>\n      <td>6.000</td>\n      <td>0.0493</td>\n      <td>8.27</td>\n      <td>184.830</td>\n      <td>...</td>\n      <td>0.383</td>\n      <td>0.032</td>\n      <td>14.71</td>\n      <td>11.03</td>\n      <td>0.766</td>\n      <td>3.130</td>\n      <td>1.077</td>\n      <td>12.610</td>\n      <td>1.1370</td>\n      <td>0</td>\n    </tr>\n    <tr>\n      <th>AAPL</th>\n      <td>0.134550</td>\n      <td>2.620581e+12</td>\n      <td>1.252880e+11</td>\n      <td>28.17</td>\n      <td>2.750</td>\n      <td>3.581</td>\n      <td>0.910</td>\n      <td>0.0055</td>\n      <td>5.88</td>\n      <td>24.080</td>\n      <td>...</td>\n      <td>-0.105</td>\n      <td>-0.055</td>\n      <td>28.17</td>\n      <td>23.09</td>\n      <td>5.510</td>\n      <td>44.630</td>\n      <td>5.920</td>\n      <td>17.530</td>\n      <td>1.2970</td>\n      <td>1</td>\n    </tr>\n    <tr>\n      <th>ABB</th>\n      <td>0.225050</td>\n      <td>6.393383e+10</td>\n      <td>4.477000e+09</td>\n      <td>25.98</td>\n      <td>0.276</td>\n      <td>1.713</td>\n      <td>0.908</td>\n      <td>0.0268</td>\n      <td>1.32</td>\n      <td>3.877</td>\n      <td>...</td>\n      <td>-0.546</td>\n      <td>0.034</td>\n      <td>25.98</td>\n      <td>18.98</td>\n      <td>1.934</td>\n      <td>5.030</td>\n      <td>2.207</td>\n      <td>10.460</td>\n      <td>1.0240</td>\n      <td>1</td>\n    </tr>\n    <tr>\n      <th>ABBV</th>\n      <td>0.158136</td>\n      <td>2.843970e+11</td>\n      <td>3.108900e+10</td>\n      <td>24.32</td>\n      <td>1.279</td>\n      <td>9.750</td>\n      <td>5.710</td>\n      <td>0.0369</td>\n      <td>6.63</td>\n      <td>32.780</td>\n      <td>...</td>\n      <td>-0.388</td>\n      <td>0.016</td>\n      <td>24.32</td>\n      <td>14.39</td>\n      <td>4.989</td>\n      <td>18.230</td>\n      <td>6.040</td>\n      <td>13.800</td>\n      <td>0.5870</td>\n      <td>0</td>\n    </tr>\n    <tr>\n      <th>...</th>\n      <td>...</td>\n      <td>...</td>\n      <td>...</td>\n      <td>...</td>\n      <td>...</td>\n      <td>...</td>\n      <td>...</td>\n      <td>...</td>\n      <td>...</td>\n      <td>...</td>\n      <td>...</td>\n      <td>...</td>\n      <td>...</td>\n      <td>...</td>\n      <td>...</td>\n      <td>...</td>\n      <td>...</td>\n      <td>...</td>\n      <td>...</td>\n      <td>...</td>\n      <td>...</td>\n    </tr>\n    <tr>\n      <th>ZTO</th>\n      <td>0.184920</td>\n      <td>2.325894e+10</td>\n      <td>1.040703e+10</td>\n      <td>23.40</td>\n      <td>23.960</td>\n      <td>66.760</td>\n      <td>0.000</td>\n      <td>0.0104</td>\n      <td>1.23</td>\n      <td>43.700</td>\n      <td>...</td>\n      <td>0.197</td>\n      <td>0.071</td>\n      <td>23.40</td>\n      <td>18.45</td>\n      <td>0.626</td>\n      <td>2.903</td>\n      <td>0.594</td>\n      <td>2.599</td>\n      <td>0.0137</td>\n      <td>1</td>\n    </tr>\n    <tr>\n      <th>ZTS</th>\n      <td>0.199179</td>\n      <td>7.741807e+10</td>\n      <td>3.332000e+09</td>\n      <td>37.21</td>\n      <td>3.526</td>\n      <td>9.500</td>\n      <td>1.300</td>\n      <td>0.0089</td>\n      <td>4.49</td>\n      <td>17.230</td>\n      <td>...</td>\n      <td>0.125</td>\n      <td>0.037</td>\n      <td>37.21</td>\n      <td>30.12</td>\n      <td>8.660</td>\n      <td>15.170</td>\n      <td>9.370</td>\n      <td>23.100</td>\n      <td>0.7590</td>\n      <td>1</td>\n    </tr>\n    <tr>\n      <th>ZUMZ</th>\n      <td>0.042960</td>\n      <td>3.716670e+08</td>\n      <td>5.122600e+07</td>\n      <td>17.18</td>\n      <td>0.820</td>\n      <td>20.900</td>\n      <td>0.000</td>\n      <td>0.0000</td>\n      <td>1.11</td>\n      <td>49.900</td>\n      <td>...</td>\n      <td>-0.651</td>\n      <td>-0.192</td>\n      <td>17.18</td>\n      <td>12.21</td>\n      <td>0.398</td>\n      <td>1.162</td>\n      <td>0.542</td>\n      <td>6.240</td>\n      <td>1.5010</td>\n      <td>0</td>\n    </tr>\n    <tr>\n      <th>ZWS</th>\n      <td>0.039737</td>\n      <td>3.754832e+09</td>\n      <td>2.132000e+08</td>\n      <td>56.21</td>\n      <td>1.084</td>\n      <td>9.130</td>\n      <td>0.200</td>\n      <td>0.0131</td>\n      <td>0.38</td>\n      <td>8.460</td>\n      <td>...</td>\n      <td>-0.528</td>\n      <td>0.465</td>\n      <td>56.21</td>\n      <td>21.69</td>\n      <td>3.290</td>\n      <td>2.664</td>\n      <td>5.330</td>\n      <td>39.840</td>\n      <td>1.0740</td>\n      <td>0</td>\n    </tr>\n    <tr>\n      <th>ZYXI</th>\n      <td>0.170081</td>\n      <td>4.603460e+08</td>\n      <td>2.606500e+07</td>\n      <td>27.91</td>\n      <td>0.000</td>\n      <td>1.774</td>\n      <td>0.000</td>\n      <td>0.0000</td>\n      <td>0.43</td>\n      <td>4.112</td>\n      <td>...</td>\n      <td>-0.132</td>\n      <td>0.209</td>\n      <td>27.91</td>\n      <td>26.18</td>\n      <td>3.566</td>\n      <td>7.880</td>\n      <td>3.468</td>\n      <td>19.020</td>\n      <td>0.6620</td>\n      <td>0</td>\n    </tr>\n  </tbody>\n</table>\n<p>1346 rows × 27 columns</p>\n</div>"
     },
     "execution_count": 57,
     "metadata": {},
     "output_type": "execute_result"
    }
   ],
   "source": [
    "# Make the symbols the index\n",
    "df.set_index('symbol', inplace=True)\n",
    "\n",
    "df"
   ],
   "metadata": {
    "collapsed": false,
    "ExecuteTime": {
     "start_time": "2023-04-09T15:37:13.471689Z",
     "end_time": "2023-04-09T15:37:13.500378Z"
    }
   }
  },
  {
   "cell_type": "code",
   "execution_count": 58,
   "outputs": [],
   "source": [
    "# Get a list of models to evaluate\n",
    "def get_models():\n",
    "    models = dict()\n",
    "    # lr\n",
    "    rfe = RFE(estimator=LogisticRegression())\n",
    "    model = DecisionTreeClassifier()\n",
    "    models['lr'] = Pipeline(steps=[('s',rfe),('m',model)])\n",
    "    # perceptron\n",
    "    rfe = RFE(estimator=Perceptron())\n",
    "    model = DecisionTreeClassifier()\n",
    "    models['per'] = Pipeline(steps=[('s',rfe),('m',model)])\n",
    "    # cart\n",
    "    rfe = RFE(estimator=DecisionTreeClassifier())\n",
    "    model = DecisionTreeClassifier()\n",
    "    models['cart'] = Pipeline(steps=[('s',rfe),('m',model)])\n",
    "    # rf\n",
    "    rfe = RFE(estimator=RandomForestClassifier())\n",
    "    model = DecisionTreeClassifier()\n",
    "    models['rf'] = Pipeline(steps=[('s',rfe),('m',model)])\n",
    "    # gbm\n",
    "    rfe = RFE(estimator=GradientBoostingClassifier())\n",
    "    model = DecisionTreeClassifier()\n",
    "    models['gbm'] = Pipeline(steps=[('s',rfe),('m',model)])\n",
    "    # ada\n",
    "    rfe = RFE(estimator=AdaBoostClassifier())\n",
    "    model = DecisionTreeClassifier()\n",
    "    models['ada'] = Pipeline(steps=[('s',rfe),('m',model)])\n",
    "    return models\n",
    "\n",
    "# Evaluate a model using cross-validation\n",
    "def evaluate_model(model, X, y):\n",
    "    cv = RepeatedStratifiedKFold(n_splits=10, n_repeats=3, random_state=1)\n",
    "    scores = cross_val_score(model, X, y, scoring='accuracy', cv=cv, n_jobs=-1)\n",
    "    return scores"
   ],
   "metadata": {
    "collapsed": false,
    "ExecuteTime": {
     "start_time": "2023-04-09T15:37:14.614990Z",
     "end_time": "2023-04-09T15:37:14.621616Z"
    }
   }
  },
  {
   "cell_type": "code",
   "execution_count": 59,
   "outputs": [
    {
     "name": "stdout",
     "output_type": "stream",
     "text": [
      ">lr 0.541 (0.047)\n",
      ">per 0.544 (0.049)\n",
      ">cart 0.549 (0.042)\n",
      ">rf 0.550 (0.056)\n",
      ">gbm 0.557 (0.043)\n",
      ">ada 0.557 (0.041)\n"
     ]
    },
    {
     "data": {
      "text/plain": "<Figure size 640x480 with 1 Axes>",
      "image/png": "[encoded data removed]"
     },
     "metadata": {},
     "output_type": "display_data"
    }
   ],
   "source": [
    "# Get the models to evaluate\n",
    "models = get_models()\n",
    "\n",
    "# Evaluate the models and store results\n",
    "\n",
    "# Get the training data\n",
    "X = df[df.columns[:-1]]\n",
    "\n",
    "# Get the target data\n",
    "y = df.iloc[:, -1]\n",
    "\n",
    "results, names = list(), list()\n",
    "for name, model in models.items():\n",
    "    scores = evaluate_model(model, X, y)\n",
    "    results.append(scores)\n",
    "    names.append(name)\n",
    "    print('>%s %.3f (%.3f)' % (name, np.mean(scores), np.std(scores)))\n",
    "\n",
    "# Plot model performance for comparison\n",
    "plt.boxplot(results, labels=names, showmeans=True)\n",
    "plt.show()"
   ],
   "metadata": {
    "collapsed": false,
    "ExecuteTime": {
     "start_time": "2023-04-09T15:37:16.984864Z",
     "end_time": "2023-04-09T15:38:24.720607Z"
    }
   }
  }
 ],
 "metadata": {
  "kernelspec": {
   "display_name": "Python 3",
   "language": "python",
   "name": "python3"
  },
  "language_info": {
   "codemirror_mode": {
    "name": "ipython",
    "version": 2
   },
   "file_extension": ".py",
   "mimetype": "text/x-python",
   "name": "python",
   "nbconvert_exporter": "python",
   "pygments_lexer": "ipython2",
   "version": "2.7.6"
  }
 },
 "nbformat": 4,
 "nbformat_minor": 0
}
