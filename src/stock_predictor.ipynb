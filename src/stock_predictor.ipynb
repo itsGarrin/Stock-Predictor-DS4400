{
 "cells": [
  {
   "cell_type": "code",
   "execution_count": 62,
   "metadata": {
    "collapsed": true,
    "ExecuteTime": {
     "start_time": "2023-04-08T18:50:04.468287Z",
     "end_time": "2023-04-08T18:50:04.483692Z"
    }
   },
   "outputs": [],
   "source": [
    "from itertools import combinations\n",
    "\n",
    "# Import libraries and modules\n",
    "import numpy as np\n",
    "import pandas as pd\n",
    "from matplotlib import pyplot as plt\n",
    "from sklearn.feature_selection import RFE, RFECV\n",
    "from sklearn.linear_model import Perceptron\n",
    "from sklearn.model_selection import KFold, StratifiedKFold, RepeatedStratifiedKFold\n",
    "from sklearn.model_selection import cross_val_score\n",
    "from sklearn.pipeline import Pipeline\n",
    "from sklearn.tree import DecisionTreeClassifier"
   ]
  },
  {
   "cell_type": "code",
   "execution_count": 14,
   "outputs": [],
   "source": [
    "# Load the data\n",
    "train = pd.read_csv('stocks.csv')\n",
    "test = pd.read_csv('sp500.csv')"
   ],
   "metadata": {
    "collapsed": false,
    "ExecuteTime": {
     "start_time": "2023-04-08T18:17:33.877477Z",
     "end_time": "2023-04-08T18:17:33.915191Z"
    }
   }
  },
  {
   "cell_type": "code",
   "execution_count": 15,
   "outputs": [],
   "source": [
    "# Convert all None values to NaN\n",
    "train = train.replace('None', np.nan)\n",
    "test = test.replace('None', np.nan)\n",
    "\n",
    "# Convert all - values to NaN\n",
    "train = train.replace('-', np.nan)\n",
    "test = test.replace('-', np.nan)\n",
    "\n",
    "# Remove any null values from the training set\n",
    "train.dropna(inplace=True)\n",
    "test.dropna(inplace=True)\n",
    "\n",
    "# Move the beta column to the end of the testing set\n",
    "test = test[\n",
    "    ['stock_return_100', 'market_return_100', 'symbol', 'sentiment', 'market_cap', 'ebitda', 'pe_ratio', 'peg_ratio',\n",
    "     'book_value',\n",
    "     'dividend_per_share', 'dividend_yield', 'eps', 'revenue_per_share', 'profit_margin',\n",
    "     'operating_margin', 'return_on_assets', 'return_on_equity', 'revenue', 'gross_profit',\n",
    "     'diluted_eps', 'quarterly_earnings_growth', 'quarterly_revenue_growth', 'trailing_pe',\n",
    "     'forward_pe', 'price_to_sales_ratio', 'price_to_book_ratio', 'ev_to_revenue', 'ev_to_ebitda',\n",
    "     'beta']]\n",
    "\n",
    "# Replace the boolean values in \"outperformed\" with 1 and 0\n",
    "train['outperformed'].replace(True, 1, inplace=True)\n",
    "train['outperformed'].replace(False, 0, inplace=True)\n",
    "\n",
    "# Add a column to the test set that indicates whether the stock outperformed the stock market\n",
    "test['outperformed'] = np.where(test['stock_return_100'] > test['market_return_100'], 1, 0)\n",
    "\n",
    "# Cast the columns to the correct data types\n",
    "train = train.astype(\n",
    "    {'market_cap': float, 'beta': float, 'ebitda': float, 'pe_ratio': float, 'peg_ratio': float, 'book_value': float,\n",
    "     'trailing_pe': float, 'forward_pe': float, 'price_to_sales_ratio': float, 'dividend_per_share': float,\n",
    "     'dividend_yield': float,\n",
    "     'eps': float, 'price_to_book_ratio': float, 'ev_to_revenue': float, 'ev_to_ebitda': float})\n",
    "test = test.astype({'beta': float, 'ebitda': float, 'pe_ratio': float, 'peg_ratio': float, 'book_value': float,\n",
    "                    'trailing_pe': float, 'forward_pe': float, 'price_to_sales_ratio': float,\n",
    "                    'price_to_book_ratio': float, 'ev_to_revenue': float, 'ev_to_ebitda': float})"
   ],
   "metadata": {
    "collapsed": false,
    "ExecuteTime": {
     "start_time": "2023-04-08T18:17:35.410277Z",
     "end_time": "2023-04-08T18:17:35.463250Z"
    }
   }
  },
  {
   "cell_type": "code",
   "execution_count": 16,
   "outputs": [
    {
     "data": {
      "text/plain": "      Unnamed: 0 symbol  stock_return_100  market_return_100  sentiment  \\\n23            23    ABB          0.204827           0.093607   0.225050   \n30            30   ABEV         -0.057495           0.093607   0.161613   \n31            31    ABG          0.275212           0.093607   0.150953   \n46            46    ACA          0.079896           0.093607   0.274245   \n76            76   ACHC         -0.121089           0.093607   0.161630   \n...          ...    ...               ...                ...        ...   \n7781        7781     ZM          0.025056           0.093607   0.140008   \n7788        7788    ZTO          0.539079           0.093607   0.184920   \n7790        7790   ZUMZ         -0.109240           0.093607   0.042960   \n7798        7798    ZWS         -0.056729           0.093607   0.039737   \n7805        7805   ZYXI         -0.080871           0.093607   0.170081   \n\n        market_cap        ebitda  pe_ratio  peg_ratio  book_value  ...  \\\n23    6.393383e+10  4.477000e+09    25.980      0.276       1.713  ...   \n30    4.484881e+10  2.234425e+10    16.380      1.976       5.210  ...   \n31    4.302144e+09  1.341600e+09     4.445      0.314     134.610  ...   \n46    2.874350e+09  3.141000e+08    11.700      6.720      45.130  ...   \n76    6.541778e+09  5.640130e+08    23.640      1.320      31.280  ...   \n...            ...           ...       ...        ...         ...  ...   \n7781  2.070159e+10  3.277500e+08   200.860     10.950      21.120  ...   \n7788  2.325894e+10  1.040703e+10    23.400     23.960      66.760  ...   \n7790  3.716670e+08  5.122600e+07    17.180      0.820      20.900  ...   \n7798  3.754832e+09  2.132000e+08    56.210      1.084       9.130  ...   \n7805  4.603460e+08  2.606500e+07    27.910      0.000       1.774  ...   \n\n      quarterly_earnings_growth  quarterly_revenue_growth  trailing_pe  \\\n23                       -0.546                     0.034       25.980   \n30                        0.378                     0.031       16.380   \n31                        1.491                     0.396        4.445   \n46                       15.770                    -0.041       11.700   \n76                       -0.138                     0.138       23.640   \n...                         ...                       ...          ...   \n7781                     -0.856                     0.043      200.860   \n7788                      0.197                     0.071       23.400   \n7790                     -0.651                    -0.192       17.180   \n7798                     -0.528                     0.465       56.210   \n7805                     -0.132                     0.209       27.910   \n\n      forward_pe  price_to_sales_ratio  price_to_book_ratio  ev_to_revenue  \\\n23         18.98                 1.934                5.030          2.207   \n30         16.81                 0.559                2.649          0.530   \n31          5.51                 0.262                1.486          0.513   \n46         27.62                 1.186                1.368          1.492   \n76         26.04                 3.053                2.826          3.640   \n...          ...                   ...                  ...            ...   \n7781       20.53                 4.721                3.719          3.759   \n7788       18.45                 0.626                2.903          0.594   \n7790       12.21                 0.398                1.162          0.542   \n7798       21.69                 3.290                2.664          5.330   \n7805       26.18                 3.566                7.880          3.468   \n\n      ev_to_ebitda    beta  outperformed  \n23          10.460  1.0240             1  \n30           1.962  0.6630             0  \n31           5.790  1.1410             1  \n46          10.910  0.5470             0  \n76          16.320  1.3150             0  \n...            ...     ...           ...  \n7781        23.410 -0.2190             0  \n7788         2.599  0.0137             1  \n7790         6.240  1.5010             0  \n7798        39.840  1.0740             0  \n7805        19.020  0.6620             0  \n\n[968 rows x 31 columns]",
      "text/html": "<div>\n<style scoped>\n    .dataframe tbody tr th:only-of-type {\n        vertical-align: middle;\n    }\n\n    .dataframe tbody tr th {\n        vertical-align: top;\n    }\n\n    .dataframe thead th {\n        text-align: right;\n    }\n</style>\n<table border=\"1\" class=\"dataframe\">\n  <thead>\n    <tr style=\"text-align: right;\">\n      <th></th>\n      <th>Unnamed: 0</th>\n      <th>symbol</th>\n      <th>stock_return_100</th>\n      <th>market_return_100</th>\n      <th>sentiment</th>\n      <th>market_cap</th>\n      <th>ebitda</th>\n      <th>pe_ratio</th>\n      <th>peg_ratio</th>\n      <th>book_value</th>\n      <th>...</th>\n      <th>quarterly_earnings_growth</th>\n      <th>quarterly_revenue_growth</th>\n      <th>trailing_pe</th>\n      <th>forward_pe</th>\n      <th>price_to_sales_ratio</th>\n      <th>price_to_book_ratio</th>\n      <th>ev_to_revenue</th>\n      <th>ev_to_ebitda</th>\n      <th>beta</th>\n      <th>outperformed</th>\n    </tr>\n  </thead>\n  <tbody>\n    <tr>\n      <th>23</th>\n      <td>23</td>\n      <td>ABB</td>\n      <td>0.204827</td>\n      <td>0.093607</td>\n      <td>0.225050</td>\n      <td>6.393383e+10</td>\n      <td>4.477000e+09</td>\n      <td>25.980</td>\n      <td>0.276</td>\n      <td>1.713</td>\n      <td>...</td>\n      <td>-0.546</td>\n      <td>0.034</td>\n      <td>25.980</td>\n      <td>18.98</td>\n      <td>1.934</td>\n      <td>5.030</td>\n      <td>2.207</td>\n      <td>10.460</td>\n      <td>1.0240</td>\n      <td>1</td>\n    </tr>\n    <tr>\n      <th>30</th>\n      <td>30</td>\n      <td>ABEV</td>\n      <td>-0.057495</td>\n      <td>0.093607</td>\n      <td>0.161613</td>\n      <td>4.484881e+10</td>\n      <td>2.234425e+10</td>\n      <td>16.380</td>\n      <td>1.976</td>\n      <td>5.210</td>\n      <td>...</td>\n      <td>0.378</td>\n      <td>0.031</td>\n      <td>16.380</td>\n      <td>16.81</td>\n      <td>0.559</td>\n      <td>2.649</td>\n      <td>0.530</td>\n      <td>1.962</td>\n      <td>0.6630</td>\n      <td>0</td>\n    </tr>\n    <tr>\n      <th>31</th>\n      <td>31</td>\n      <td>ABG</td>\n      <td>0.275212</td>\n      <td>0.093607</td>\n      <td>0.150953</td>\n      <td>4.302144e+09</td>\n      <td>1.341600e+09</td>\n      <td>4.445</td>\n      <td>0.314</td>\n      <td>134.610</td>\n      <td>...</td>\n      <td>1.491</td>\n      <td>0.396</td>\n      <td>4.445</td>\n      <td>5.51</td>\n      <td>0.262</td>\n      <td>1.486</td>\n      <td>0.513</td>\n      <td>5.790</td>\n      <td>1.1410</td>\n      <td>1</td>\n    </tr>\n    <tr>\n      <th>46</th>\n      <td>46</td>\n      <td>ACA</td>\n      <td>0.079896</td>\n      <td>0.093607</td>\n      <td>0.274245</td>\n      <td>2.874350e+09</td>\n      <td>3.141000e+08</td>\n      <td>11.700</td>\n      <td>6.720</td>\n      <td>45.130</td>\n      <td>...</td>\n      <td>15.770</td>\n      <td>-0.041</td>\n      <td>11.700</td>\n      <td>27.62</td>\n      <td>1.186</td>\n      <td>1.368</td>\n      <td>1.492</td>\n      <td>10.910</td>\n      <td>0.5470</td>\n      <td>0</td>\n    </tr>\n    <tr>\n      <th>76</th>\n      <td>76</td>\n      <td>ACHC</td>\n      <td>-0.121089</td>\n      <td>0.093607</td>\n      <td>0.161630</td>\n      <td>6.541778e+09</td>\n      <td>5.640130e+08</td>\n      <td>23.640</td>\n      <td>1.320</td>\n      <td>31.280</td>\n      <td>...</td>\n      <td>-0.138</td>\n      <td>0.138</td>\n      <td>23.640</td>\n      <td>26.04</td>\n      <td>3.053</td>\n      <td>2.826</td>\n      <td>3.640</td>\n      <td>16.320</td>\n      <td>1.3150</td>\n      <td>0</td>\n    </tr>\n    <tr>\n      <th>...</th>\n      <td>...</td>\n      <td>...</td>\n      <td>...</td>\n      <td>...</td>\n      <td>...</td>\n      <td>...</td>\n      <td>...</td>\n      <td>...</td>\n      <td>...</td>\n      <td>...</td>\n      <td>...</td>\n      <td>...</td>\n      <td>...</td>\n      <td>...</td>\n      <td>...</td>\n      <td>...</td>\n      <td>...</td>\n      <td>...</td>\n      <td>...</td>\n      <td>...</td>\n      <td>...</td>\n    </tr>\n    <tr>\n      <th>7781</th>\n      <td>7781</td>\n      <td>ZM</td>\n      <td>0.025056</td>\n      <td>0.093607</td>\n      <td>0.140008</td>\n      <td>2.070159e+10</td>\n      <td>3.277500e+08</td>\n      <td>200.860</td>\n      <td>10.950</td>\n      <td>21.120</td>\n      <td>...</td>\n      <td>-0.856</td>\n      <td>0.043</td>\n      <td>200.860</td>\n      <td>20.53</td>\n      <td>4.721</td>\n      <td>3.719</td>\n      <td>3.759</td>\n      <td>23.410</td>\n      <td>-0.2190</td>\n      <td>0</td>\n    </tr>\n    <tr>\n      <th>7788</th>\n      <td>7788</td>\n      <td>ZTO</td>\n      <td>0.539079</td>\n      <td>0.093607</td>\n      <td>0.184920</td>\n      <td>2.325894e+10</td>\n      <td>1.040703e+10</td>\n      <td>23.400</td>\n      <td>23.960</td>\n      <td>66.760</td>\n      <td>...</td>\n      <td>0.197</td>\n      <td>0.071</td>\n      <td>23.400</td>\n      <td>18.45</td>\n      <td>0.626</td>\n      <td>2.903</td>\n      <td>0.594</td>\n      <td>2.599</td>\n      <td>0.0137</td>\n      <td>1</td>\n    </tr>\n    <tr>\n      <th>7790</th>\n      <td>7790</td>\n      <td>ZUMZ</td>\n      <td>-0.109240</td>\n      <td>0.093607</td>\n      <td>0.042960</td>\n      <td>3.716670e+08</td>\n      <td>5.122600e+07</td>\n      <td>17.180</td>\n      <td>0.820</td>\n      <td>20.900</td>\n      <td>...</td>\n      <td>-0.651</td>\n      <td>-0.192</td>\n      <td>17.180</td>\n      <td>12.21</td>\n      <td>0.398</td>\n      <td>1.162</td>\n      <td>0.542</td>\n      <td>6.240</td>\n      <td>1.5010</td>\n      <td>0</td>\n    </tr>\n    <tr>\n      <th>7798</th>\n      <td>7798</td>\n      <td>ZWS</td>\n      <td>-0.056729</td>\n      <td>0.093607</td>\n      <td>0.039737</td>\n      <td>3.754832e+09</td>\n      <td>2.132000e+08</td>\n      <td>56.210</td>\n      <td>1.084</td>\n      <td>9.130</td>\n      <td>...</td>\n      <td>-0.528</td>\n      <td>0.465</td>\n      <td>56.210</td>\n      <td>21.69</td>\n      <td>3.290</td>\n      <td>2.664</td>\n      <td>5.330</td>\n      <td>39.840</td>\n      <td>1.0740</td>\n      <td>0</td>\n    </tr>\n    <tr>\n      <th>7805</th>\n      <td>7805</td>\n      <td>ZYXI</td>\n      <td>-0.080871</td>\n      <td>0.093607</td>\n      <td>0.170081</td>\n      <td>4.603460e+08</td>\n      <td>2.606500e+07</td>\n      <td>27.910</td>\n      <td>0.000</td>\n      <td>1.774</td>\n      <td>...</td>\n      <td>-0.132</td>\n      <td>0.209</td>\n      <td>27.910</td>\n      <td>26.18</td>\n      <td>3.566</td>\n      <td>7.880</td>\n      <td>3.468</td>\n      <td>19.020</td>\n      <td>0.6620</td>\n      <td>0</td>\n    </tr>\n  </tbody>\n</table>\n<p>968 rows × 31 columns</p>\n</div>"
     },
     "execution_count": 16,
     "metadata": {},
     "output_type": "execute_result"
    }
   ],
   "source": [
    "# Remove any stocks from the training set that are also in the test set\n",
    "train = train[~train['symbol'].isin(test['symbol'])]\n",
    "\n",
    "train"
   ],
   "metadata": {
    "collapsed": false,
    "ExecuteTime": {
     "start_time": "2023-04-08T18:17:38.810010Z",
     "end_time": "2023-04-08T18:17:38.835710Z"
    }
   }
  },
  {
   "cell_type": "code",
   "execution_count": 17,
   "outputs": [],
   "source": [
    "# Drop the returns from both sets\n",
    "train.drop(['stock_return_100', 'market_return_100'], axis=1, inplace=True)\n",
    "test.drop(['stock_return_100', 'market_return_100'], axis=1, inplace=True)\n",
    "\n",
    "# Drop the \"Unnamed: 0\" column from the training set\n",
    "train.drop('Unnamed: 0', axis=1, inplace=True)"
   ],
   "metadata": {
    "collapsed": false,
    "ExecuteTime": {
     "start_time": "2023-04-08T18:17:39.991178Z",
     "end_time": "2023-04-08T18:17:40.001539Z"
    }
   }
  },
  {
   "cell_type": "code",
   "execution_count": 24,
   "outputs": [
    {
     "data": {
      "text/plain": "        sentiment    market_cap        ebitda  pe_ratio  peg_ratio  \\\nsymbol                                                               \nMMM      0.098151  5.796493e+10  7.424000e+09     10.26      2.314   \nAOS      0.088535  1.039050e+10  2.909000e+08     45.60      1.812   \nABT      0.174237  1.765583e+11  1.210300e+10     25.98     18.760   \nABBV     0.155819  2.823330e+11  3.108900e+10     24.14      1.279   \nACN      0.232305  1.806623e+11  1.069960e+10     26.32      2.975   \n...           ...           ...           ...       ...        ...   \nXEL      0.151972  3.707343e+10  4.942000e+09     21.27      3.209   \nXYL      0.204479  1.896192e+10  7.410000e+08     53.54      2.644   \nZBRA     0.163402  1.634670e+10  1.140000e+09     36.11      1.633   \nZBH      0.250696  2.701055e+10  2.246400e+09     92.46      1.078   \nZTS      0.199179  7.769147e+10  3.332000e+09     37.34      3.526   \n\n        book_value  dividend_per_share  dividend_yield    eps  \\\nsymbol                                                          \nMMM          26.80                5.96          0.0574  10.19   \nAOS          11.56                1.14          0.0174   1.51   \nABT          21.11                1.92          0.0201   3.91   \nABBV          9.75                5.71          0.0369   6.63   \nACN          37.64                4.33          0.0157  10.86   \n...            ...                 ...             ...    ...   \nXEL          30.34                1.95          0.0308   3.17   \nXYL          19.38                1.20          0.0126   1.96   \nZBRA         53.12                0.00          0.0000   8.63   \nZBH          57.51                0.96          0.0075   1.38   \nZTS           9.50                1.30          0.0089   4.49   \n\n        revenue_per_share  ...  quarterly_earnings_growth  \\\nsymbol                     ...                              \nMMM                 60.48  ...                     -0.578   \nAOS                 24.25  ...                     -0.134   \nABT                 24.90  ...                     -0.472   \nABBV                32.78  ...                     -0.388   \nACN                100.00  ...                     -0.059   \n...                   ...  ...                        ...   \nXEL                 27.99  ...                      0.186   \nXYL                 30.64  ...                      0.322   \nZBRA               110.73  ...                      0.009   \nZBH                 33.11  ...                      0.331   \nZTS                 17.23  ...                      0.125   \n\n        quarterly_revenue_growth  trailing_pe  forward_pe  \\\nsymbol                                                      \nMMM                       -0.062        10.26       11.92   \nAOS                       -0.060        45.60       18.12   \nABT                       -0.120        25.98       25.13   \nABBV                       0.016        24.14       14.39   \nACN                        0.051        26.32       25.58   \n...                          ...          ...         ...   \nXEL                        0.208        21.27       21.10   \nXYL                        0.138        53.54       36.36   \nZBRA                       0.025        36.11       13.95   \nZBH                        0.027        92.46       18.28   \nZTS                        0.037        37.34       30.12   \n\n        price_to_sales_ratio  price_to_book_ratio  ev_to_revenue  \\\nsymbol                                                             \nMMM                    1.946                4.950          2.377   \nAOS                    2.276                5.150          2.331   \nABT                    4.202                5.440          4.452   \nABBV                   4.989               18.230          6.040   \nACN                    2.878                8.690          3.043   \n...                      ...                  ...            ...   \nXEL                    2.645                2.380          4.394   \nXYL                    3.735                6.430          4.106   \nZBRA                   2.256                5.080          2.744   \nZBH                    3.309                2.198          4.083   \nZTS                    8.660               15.170          9.370   \n\n        ev_to_ebitda   beta  outperformed  \nsymbol                                     \nMMM             8.52  0.963             0  \nAOS            12.14  1.256             1  \nABT            15.20  0.666             0  \nABBV           13.80  0.587             0  \nACN            18.53  1.242             0  \n...              ...    ...           ...  \nXEL            13.13  0.421             0  \nXYL            33.11  1.068             0  \nZBRA           14.61  1.663             1  \nZBH            20.87  1.005             1  \nZTS            23.10  0.759             1  \n\n[379 rows x 27 columns]",
      "text/html": "<div>\n<style scoped>\n    .dataframe tbody tr th:only-of-type {\n        vertical-align: middle;\n    }\n\n    .dataframe tbody tr th {\n        vertical-align: top;\n    }\n\n    .dataframe thead th {\n        text-align: right;\n    }\n</style>\n<table border=\"1\" class=\"dataframe\">\n  <thead>\n    <tr style=\"text-align: right;\">\n      <th></th>\n      <th>sentiment</th>\n      <th>market_cap</th>\n      <th>ebitda</th>\n      <th>pe_ratio</th>\n      <th>peg_ratio</th>\n      <th>book_value</th>\n      <th>dividend_per_share</th>\n      <th>dividend_yield</th>\n      <th>eps</th>\n      <th>revenue_per_share</th>\n      <th>...</th>\n      <th>quarterly_earnings_growth</th>\n      <th>quarterly_revenue_growth</th>\n      <th>trailing_pe</th>\n      <th>forward_pe</th>\n      <th>price_to_sales_ratio</th>\n      <th>price_to_book_ratio</th>\n      <th>ev_to_revenue</th>\n      <th>ev_to_ebitda</th>\n      <th>beta</th>\n      <th>outperformed</th>\n    </tr>\n    <tr>\n      <th>symbol</th>\n      <th></th>\n      <th></th>\n      <th></th>\n      <th></th>\n      <th></th>\n      <th></th>\n      <th></th>\n      <th></th>\n      <th></th>\n      <th></th>\n      <th></th>\n      <th></th>\n      <th></th>\n      <th></th>\n      <th></th>\n      <th></th>\n      <th></th>\n      <th></th>\n      <th></th>\n      <th></th>\n      <th></th>\n    </tr>\n  </thead>\n  <tbody>\n    <tr>\n      <th>MMM</th>\n      <td>0.098151</td>\n      <td>5.796493e+10</td>\n      <td>7.424000e+09</td>\n      <td>10.26</td>\n      <td>2.314</td>\n      <td>26.80</td>\n      <td>5.96</td>\n      <td>0.0574</td>\n      <td>10.19</td>\n      <td>60.48</td>\n      <td>...</td>\n      <td>-0.578</td>\n      <td>-0.062</td>\n      <td>10.26</td>\n      <td>11.92</td>\n      <td>1.946</td>\n      <td>4.950</td>\n      <td>2.377</td>\n      <td>8.52</td>\n      <td>0.963</td>\n      <td>0</td>\n    </tr>\n    <tr>\n      <th>AOS</th>\n      <td>0.088535</td>\n      <td>1.039050e+10</td>\n      <td>2.909000e+08</td>\n      <td>45.60</td>\n      <td>1.812</td>\n      <td>11.56</td>\n      <td>1.14</td>\n      <td>0.0174</td>\n      <td>1.51</td>\n      <td>24.25</td>\n      <td>...</td>\n      <td>-0.134</td>\n      <td>-0.060</td>\n      <td>45.60</td>\n      <td>18.12</td>\n      <td>2.276</td>\n      <td>5.150</td>\n      <td>2.331</td>\n      <td>12.14</td>\n      <td>1.256</td>\n      <td>1</td>\n    </tr>\n    <tr>\n      <th>ABT</th>\n      <td>0.174237</td>\n      <td>1.765583e+11</td>\n      <td>1.210300e+10</td>\n      <td>25.98</td>\n      <td>18.760</td>\n      <td>21.11</td>\n      <td>1.92</td>\n      <td>0.0201</td>\n      <td>3.91</td>\n      <td>24.90</td>\n      <td>...</td>\n      <td>-0.472</td>\n      <td>-0.120</td>\n      <td>25.98</td>\n      <td>25.13</td>\n      <td>4.202</td>\n      <td>5.440</td>\n      <td>4.452</td>\n      <td>15.20</td>\n      <td>0.666</td>\n      <td>0</td>\n    </tr>\n    <tr>\n      <th>ABBV</th>\n      <td>0.155819</td>\n      <td>2.823330e+11</td>\n      <td>3.108900e+10</td>\n      <td>24.14</td>\n      <td>1.279</td>\n      <td>9.75</td>\n      <td>5.71</td>\n      <td>0.0369</td>\n      <td>6.63</td>\n      <td>32.78</td>\n      <td>...</td>\n      <td>-0.388</td>\n      <td>0.016</td>\n      <td>24.14</td>\n      <td>14.39</td>\n      <td>4.989</td>\n      <td>18.230</td>\n      <td>6.040</td>\n      <td>13.80</td>\n      <td>0.587</td>\n      <td>0</td>\n    </tr>\n    <tr>\n      <th>ACN</th>\n      <td>0.232305</td>\n      <td>1.806623e+11</td>\n      <td>1.069960e+10</td>\n      <td>26.32</td>\n      <td>2.975</td>\n      <td>37.64</td>\n      <td>4.33</td>\n      <td>0.0157</td>\n      <td>10.86</td>\n      <td>100.00</td>\n      <td>...</td>\n      <td>-0.059</td>\n      <td>0.051</td>\n      <td>26.32</td>\n      <td>25.58</td>\n      <td>2.878</td>\n      <td>8.690</td>\n      <td>3.043</td>\n      <td>18.53</td>\n      <td>1.242</td>\n      <td>0</td>\n    </tr>\n    <tr>\n      <th>...</th>\n      <td>...</td>\n      <td>...</td>\n      <td>...</td>\n      <td>...</td>\n      <td>...</td>\n      <td>...</td>\n      <td>...</td>\n      <td>...</td>\n      <td>...</td>\n      <td>...</td>\n      <td>...</td>\n      <td>...</td>\n      <td>...</td>\n      <td>...</td>\n      <td>...</td>\n      <td>...</td>\n      <td>...</td>\n      <td>...</td>\n      <td>...</td>\n      <td>...</td>\n      <td>...</td>\n    </tr>\n    <tr>\n      <th>XEL</th>\n      <td>0.151972</td>\n      <td>3.707343e+10</td>\n      <td>4.942000e+09</td>\n      <td>21.27</td>\n      <td>3.209</td>\n      <td>30.34</td>\n      <td>1.95</td>\n      <td>0.0308</td>\n      <td>3.17</td>\n      <td>27.99</td>\n      <td>...</td>\n      <td>0.186</td>\n      <td>0.208</td>\n      <td>21.27</td>\n      <td>21.10</td>\n      <td>2.645</td>\n      <td>2.380</td>\n      <td>4.394</td>\n      <td>13.13</td>\n      <td>0.421</td>\n      <td>0</td>\n    </tr>\n    <tr>\n      <th>XYL</th>\n      <td>0.204479</td>\n      <td>1.896192e+10</td>\n      <td>7.410000e+08</td>\n      <td>53.54</td>\n      <td>2.644</td>\n      <td>19.38</td>\n      <td>1.20</td>\n      <td>0.0126</td>\n      <td>1.96</td>\n      <td>30.64</td>\n      <td>...</td>\n      <td>0.322</td>\n      <td>0.138</td>\n      <td>53.54</td>\n      <td>36.36</td>\n      <td>3.735</td>\n      <td>6.430</td>\n      <td>4.106</td>\n      <td>33.11</td>\n      <td>1.068</td>\n      <td>0</td>\n    </tr>\n    <tr>\n      <th>ZBRA</th>\n      <td>0.163402</td>\n      <td>1.634670e+10</td>\n      <td>1.140000e+09</td>\n      <td>36.11</td>\n      <td>1.633</td>\n      <td>53.12</td>\n      <td>0.00</td>\n      <td>0.0000</td>\n      <td>8.63</td>\n      <td>110.73</td>\n      <td>...</td>\n      <td>0.009</td>\n      <td>0.025</td>\n      <td>36.11</td>\n      <td>13.95</td>\n      <td>2.256</td>\n      <td>5.080</td>\n      <td>2.744</td>\n      <td>14.61</td>\n      <td>1.663</td>\n      <td>1</td>\n    </tr>\n    <tr>\n      <th>ZBH</th>\n      <td>0.250696</td>\n      <td>2.701055e+10</td>\n      <td>2.246400e+09</td>\n      <td>92.46</td>\n      <td>1.078</td>\n      <td>57.51</td>\n      <td>0.96</td>\n      <td>0.0075</td>\n      <td>1.38</td>\n      <td>33.11</td>\n      <td>...</td>\n      <td>0.331</td>\n      <td>0.027</td>\n      <td>92.46</td>\n      <td>18.28</td>\n      <td>3.309</td>\n      <td>2.198</td>\n      <td>4.083</td>\n      <td>20.87</td>\n      <td>1.005</td>\n      <td>1</td>\n    </tr>\n    <tr>\n      <th>ZTS</th>\n      <td>0.199179</td>\n      <td>7.769147e+10</td>\n      <td>3.332000e+09</td>\n      <td>37.34</td>\n      <td>3.526</td>\n      <td>9.50</td>\n      <td>1.30</td>\n      <td>0.0089</td>\n      <td>4.49</td>\n      <td>17.23</td>\n      <td>...</td>\n      <td>0.125</td>\n      <td>0.037</td>\n      <td>37.34</td>\n      <td>30.12</td>\n      <td>8.660</td>\n      <td>15.170</td>\n      <td>9.370</td>\n      <td>23.10</td>\n      <td>0.759</td>\n      <td>1</td>\n    </tr>\n  </tbody>\n</table>\n<p>379 rows × 27 columns</p>\n</div>"
     },
     "execution_count": 24,
     "metadata": {},
     "output_type": "execute_result"
    }
   ],
   "source": [
    "# Make the symbols the index\n",
    "train.set_index('symbol', inplace=True)\n",
    "test.set_index('symbol', inplace=True)\n",
    "\n",
    "test"
   ],
   "metadata": {
    "collapsed": false,
    "ExecuteTime": {
     "start_time": "2023-04-08T18:21:14.975063Z",
     "end_time": "2023-04-08T18:21:15.002358Z"
    }
   }
  },
  {
   "cell_type": "code",
   "execution_count": 74,
   "outputs": [
    {
     "name": "stdout",
     "output_type": "stream",
     "text": [
      "0.604221635883905\n",
      "Optimum number of features: 1\n"
     ]
    }
   ],
   "source": [
    "# Create an instance of Perceptron as the base estimator\n",
    "model = Perceptron()\n",
    "\n",
    "rfecv = RFECV(estimator=model, step=1, cv=10, scoring='accuracy')\n",
    "\n",
    "# Get the training data\n",
    "X = train[train.columns[:-1]]\n",
    "\n",
    "# Get the target data\n",
    "y = train.iloc[:, -1]\n",
    "\n",
    "# Create a pipeline\n",
    "pipeline = Pipeline([('Feature Selection', rfecv), ('Model', model)])\n",
    "cv = RepeatedStratifiedKFold(n_splits=10, n_repeats=5, random_state=36851234)\n",
    "n_scores = cross_val_score(pipeline, X, y, scoring='accuracy', cv=cv, n_jobs=-1)\n",
    "np.mean(n_scores)\n",
    "\n",
    "# Fit the model\n",
    "pipeline.fit(X, y)\n",
    "\n",
    "# Get the test data\n",
    "X_test = test[test.columns[:-1]]\n",
    "\n",
    "# Get the target data\n",
    "y_test = test.iloc[:, -1]\n",
    "\n",
    "# Get the predictions\n",
    "predictions = pipeline.predict(X_test)\n",
    "\n",
    "# Get the accuracy\n",
    "accuracy = np.mean(predictions == y_test)\n",
    "\n",
    "print(accuracy)\n",
    "print(\"Optimum number of features: %d\" % rfecv.n_features_)"
   ],
   "metadata": {
    "collapsed": false,
    "ExecuteTime": {
     "start_time": "2023-04-08T19:01:51.255146Z",
     "end_time": "2023-04-08T19:01:55.547362Z"
    }
   }
  },
  {
   "cell_type": "code",
   "execution_count": 75,
   "outputs": [
    {
     "name": "stdout",
     "output_type": "stream",
     "text": [
      "0.5197889182058048\n",
      "Optimum number of features: 26\n"
     ]
    }
   ],
   "source": [
    "# Create an instance of Decision Tree as the base estimator\n",
    "model = DecisionTreeClassifier()\n",
    "\n",
    "rfecv = RFECV(estimator=model, step=1, cv=10, scoring='accuracy')\n",
    "\n",
    "# Get the training data\n",
    "X = train[train.columns[:-1]]\n",
    "\n",
    "# Get the target data\n",
    "y = train.iloc[:, -1]\n",
    "\n",
    "# Create a pipeline\n",
    "pipeline = Pipeline([('Feature Selection', rfecv), ('Model', model)])\n",
    "cv = RepeatedStratifiedKFold(n_splits=10, n_repeats=5, random_state=36851234)\n",
    "n_scores = cross_val_score(pipeline, X, y, scoring='accuracy', cv=cv, n_jobs=-1)\n",
    "np.mean(n_scores)\n",
    "\n",
    "# Fit the model\n",
    "pipeline.fit(X, y)\n",
    "\n",
    "# Get the test data\n",
    "X_test = test[test.columns[:-1]]\n",
    "\n",
    "# Get the target data\n",
    "y_test = test.iloc[:, -1]\n",
    "\n",
    "# Get the predictions\n",
    "predictions = pipeline.predict(X_test)\n",
    "\n",
    "# Get the accuracy\n",
    "accuracy = np.mean(predictions == y_test)\n",
    "\n",
    "print(accuracy)\n",
    "print(\"Optimum number of features: %d\" % rfecv.n_features_)"
   ],
   "metadata": {
    "collapsed": false,
    "ExecuteTime": {
     "start_time": "2023-04-08T19:01:57.253469Z",
     "end_time": "2023-04-08T19:02:13.805870Z"
    }
   }
  },
  {
   "cell_type": "code",
   "execution_count": null,
   "outputs": [],
   "source": [],
   "metadata": {
    "collapsed": false
   }
  }
 ],
 "metadata": {
  "kernelspec": {
   "display_name": "Python 3",
   "language": "python",
   "name": "python3"
  },
  "language_info": {
   "codemirror_mode": {
    "name": "ipython",
    "version": 2
   },
   "file_extension": ".py",
   "mimetype": "text/x-python",
   "name": "python",
   "nbconvert_exporter": "python",
   "pygments_lexer": "ipython2",
   "version": "2.7.6"
  }
 },
 "nbformat": 4,
 "nbformat_minor": 0
}
