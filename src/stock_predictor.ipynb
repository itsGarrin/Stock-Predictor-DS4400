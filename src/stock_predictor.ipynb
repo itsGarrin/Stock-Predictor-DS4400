{
 "cells": [
  {
   "cell_type": "code",
   "execution_count": 2,
   "metadata": {
    "collapsed": true,
    "ExecuteTime": {
     "start_time": "2023-03-30T16:20:41.175917Z",
     "end_time": "2023-03-30T16:20:41.689688Z"
    }
   },
   "outputs": [],
   "source": [
    "# Import libraries and dependencies\n",
    "import api_calls\n",
    "import datetime as dt\n",
    "import pandas as pd\n",
    "from alpaca.data import TimeFrame\n",
    "from alpaca.data import BarSet\n",
    "import json"
   ]
  },
  {
   "cell_type": "code",
   "execution_count": 5,
   "outputs": [
    {
     "data": {
      "text/plain": "   symbol                  timestamp     open    high      low   close  \\\n0     SPY  2023-03-01T05:00:00+00:00  395.410  396.69  393.380  394.74   \n1     SPY  2023-03-02T05:00:00+00:00  392.680  398.69  392.330  397.81   \n2     SPY  2023-03-03T05:00:00+00:00  399.710  404.45  399.030  404.19   \n3     SPY  2023-03-06T05:00:00+00:00  405.050  407.45  404.010  404.47   \n4     SPY  2023-03-07T05:00:00+00:00  404.420  404.67  397.625  398.27   \n5     SPY  2023-03-08T05:00:00+00:00  398.390  399.71  396.590  398.92   \n6     SPY  2023-03-09T05:00:00+00:00  399.740  401.48  390.530  391.56   \n7     SPY  2023-03-10T05:00:00+00:00  390.990  393.16  384.320  385.91   \n8     SPY  2023-03-13T04:00:00+00:00  381.810  390.39  380.650  385.36   \n9     SPY  2023-03-14T04:00:00+00:00  390.500  393.45  387.050  391.73   \n10    SPY  2023-03-15T04:00:00+00:00  385.890  389.49  383.710  389.28   \n11    SPY  2023-03-16T04:00:00+00:00  386.820  396.47  386.290  396.11   \n12    SPY  2023-03-17T04:00:00+00:00  393.220  394.40  388.550  389.99   \n13    SPY  2023-03-20T04:00:00+00:00  390.800  394.17  390.070  393.74   \n14    SPY  2023-03-21T04:00:00+00:00  397.240  399.41  395.580  398.91   \n15    SPY  2023-03-22T04:00:00+00:00  398.730  402.49  392.070  392.11   \n16    SPY  2023-03-23T04:00:00+00:00  395.090  399.29  390.350  393.17   \n17    SPY  2023-03-24T04:00:00+00:00  391.841  395.84  389.400  395.75   \n18    SPY  2023-03-27T04:00:00+00:00  398.120  398.92  395.560  396.49   \n19    SPY  2023-03-28T04:00:00+00:00  395.770  396.49  393.690  395.60   \n20    SPY  2023-03-29T04:00:00+00:00  399.925  401.60  398.680  401.35   \n21    SPY  2023-03-30T04:00:00+00:00  404.090  404.35  401.760  403.70   \n\n         volume  trade_count        vwap  \n0    99723518.0     699672.0  395.137160  \n1    85442636.0     612955.0  395.427267  \n2    90119952.0     645491.0  402.059203  \n3    72801949.0     539788.0  405.429412  \n4   108327251.0     776810.0  400.379478  \n5    74767148.0     578475.0  398.260115  \n6   111965492.0     849860.0  395.433274  \n7   189252996.0    1386973.0  388.308446  \n8   157847796.0    1391476.0  386.088209  \n9   149772836.0    1033031.0  390.217653  \n10  173294525.0    1334847.0  387.162754  \n11  143753940.0     999801.0  392.990202  \n12  139808159.0     917926.0  391.225951  \n13   93077851.0     725845.0  392.355664  \n14   91537353.0     630029.0  397.098666  \n15  111781863.0     874864.0  397.601591  \n16  119351319.0     871935.0  394.576872  \n17  107053295.0     801995.0  393.110712  \n18   74024860.0     569880.0  396.937252  \n19   62871680.0     494862.0  395.259804  \n20   76716997.0     546559.0  399.871539  \n21   67890852.0     506442.0  403.234226  ",
      "text/html": "<div>\n<style scoped>\n    .dataframe tbody tr th:only-of-type {\n        vertical-align: middle;\n    }\n\n    .dataframe tbody tr th {\n        vertical-align: top;\n    }\n\n    .dataframe thead th {\n        text-align: right;\n    }\n</style>\n<table border=\"1\" class=\"dataframe\">\n  <thead>\n    <tr style=\"text-align: right;\">\n      <th></th>\n      <th>symbol</th>\n      <th>timestamp</th>\n      <th>open</th>\n      <th>high</th>\n      <th>low</th>\n      <th>close</th>\n      <th>volume</th>\n      <th>trade_count</th>\n      <th>vwap</th>\n    </tr>\n  </thead>\n  <tbody>\n    <tr>\n      <th>0</th>\n      <td>SPY</td>\n      <td>2023-03-01T05:00:00+00:00</td>\n      <td>395.410</td>\n      <td>396.69</td>\n      <td>393.380</td>\n      <td>394.74</td>\n      <td>99723518.0</td>\n      <td>699672.0</td>\n      <td>395.137160</td>\n    </tr>\n    <tr>\n      <th>1</th>\n      <td>SPY</td>\n      <td>2023-03-02T05:00:00+00:00</td>\n      <td>392.680</td>\n      <td>398.69</td>\n      <td>392.330</td>\n      <td>397.81</td>\n      <td>85442636.0</td>\n      <td>612955.0</td>\n      <td>395.427267</td>\n    </tr>\n    <tr>\n      <th>2</th>\n      <td>SPY</td>\n      <td>2023-03-03T05:00:00+00:00</td>\n      <td>399.710</td>\n      <td>404.45</td>\n      <td>399.030</td>\n      <td>404.19</td>\n      <td>90119952.0</td>\n      <td>645491.0</td>\n      <td>402.059203</td>\n    </tr>\n    <tr>\n      <th>3</th>\n      <td>SPY</td>\n      <td>2023-03-06T05:00:00+00:00</td>\n      <td>405.050</td>\n      <td>407.45</td>\n      <td>404.010</td>\n      <td>404.47</td>\n      <td>72801949.0</td>\n      <td>539788.0</td>\n      <td>405.429412</td>\n    </tr>\n    <tr>\n      <th>4</th>\n      <td>SPY</td>\n      <td>2023-03-07T05:00:00+00:00</td>\n      <td>404.420</td>\n      <td>404.67</td>\n      <td>397.625</td>\n      <td>398.27</td>\n      <td>108327251.0</td>\n      <td>776810.0</td>\n      <td>400.379478</td>\n    </tr>\n    <tr>\n      <th>5</th>\n      <td>SPY</td>\n      <td>2023-03-08T05:00:00+00:00</td>\n      <td>398.390</td>\n      <td>399.71</td>\n      <td>396.590</td>\n      <td>398.92</td>\n      <td>74767148.0</td>\n      <td>578475.0</td>\n      <td>398.260115</td>\n    </tr>\n    <tr>\n      <th>6</th>\n      <td>SPY</td>\n      <td>2023-03-09T05:00:00+00:00</td>\n      <td>399.740</td>\n      <td>401.48</td>\n      <td>390.530</td>\n      <td>391.56</td>\n      <td>111965492.0</td>\n      <td>849860.0</td>\n      <td>395.433274</td>\n    </tr>\n    <tr>\n      <th>7</th>\n      <td>SPY</td>\n      <td>2023-03-10T05:00:00+00:00</td>\n      <td>390.990</td>\n      <td>393.16</td>\n      <td>384.320</td>\n      <td>385.91</td>\n      <td>189252996.0</td>\n      <td>1386973.0</td>\n      <td>388.308446</td>\n    </tr>\n    <tr>\n      <th>8</th>\n      <td>SPY</td>\n      <td>2023-03-13T04:00:00+00:00</td>\n      <td>381.810</td>\n      <td>390.39</td>\n      <td>380.650</td>\n      <td>385.36</td>\n      <td>157847796.0</td>\n      <td>1391476.0</td>\n      <td>386.088209</td>\n    </tr>\n    <tr>\n      <th>9</th>\n      <td>SPY</td>\n      <td>2023-03-14T04:00:00+00:00</td>\n      <td>390.500</td>\n      <td>393.45</td>\n      <td>387.050</td>\n      <td>391.73</td>\n      <td>149772836.0</td>\n      <td>1033031.0</td>\n      <td>390.217653</td>\n    </tr>\n    <tr>\n      <th>10</th>\n      <td>SPY</td>\n      <td>2023-03-15T04:00:00+00:00</td>\n      <td>385.890</td>\n      <td>389.49</td>\n      <td>383.710</td>\n      <td>389.28</td>\n      <td>173294525.0</td>\n      <td>1334847.0</td>\n      <td>387.162754</td>\n    </tr>\n    <tr>\n      <th>11</th>\n      <td>SPY</td>\n      <td>2023-03-16T04:00:00+00:00</td>\n      <td>386.820</td>\n      <td>396.47</td>\n      <td>386.290</td>\n      <td>396.11</td>\n      <td>143753940.0</td>\n      <td>999801.0</td>\n      <td>392.990202</td>\n    </tr>\n    <tr>\n      <th>12</th>\n      <td>SPY</td>\n      <td>2023-03-17T04:00:00+00:00</td>\n      <td>393.220</td>\n      <td>394.40</td>\n      <td>388.550</td>\n      <td>389.99</td>\n      <td>139808159.0</td>\n      <td>917926.0</td>\n      <td>391.225951</td>\n    </tr>\n    <tr>\n      <th>13</th>\n      <td>SPY</td>\n      <td>2023-03-20T04:00:00+00:00</td>\n      <td>390.800</td>\n      <td>394.17</td>\n      <td>390.070</td>\n      <td>393.74</td>\n      <td>93077851.0</td>\n      <td>725845.0</td>\n      <td>392.355664</td>\n    </tr>\n    <tr>\n      <th>14</th>\n      <td>SPY</td>\n      <td>2023-03-21T04:00:00+00:00</td>\n      <td>397.240</td>\n      <td>399.41</td>\n      <td>395.580</td>\n      <td>398.91</td>\n      <td>91537353.0</td>\n      <td>630029.0</td>\n      <td>397.098666</td>\n    </tr>\n    <tr>\n      <th>15</th>\n      <td>SPY</td>\n      <td>2023-03-22T04:00:00+00:00</td>\n      <td>398.730</td>\n      <td>402.49</td>\n      <td>392.070</td>\n      <td>392.11</td>\n      <td>111781863.0</td>\n      <td>874864.0</td>\n      <td>397.601591</td>\n    </tr>\n    <tr>\n      <th>16</th>\n      <td>SPY</td>\n      <td>2023-03-23T04:00:00+00:00</td>\n      <td>395.090</td>\n      <td>399.29</td>\n      <td>390.350</td>\n      <td>393.17</td>\n      <td>119351319.0</td>\n      <td>871935.0</td>\n      <td>394.576872</td>\n    </tr>\n    <tr>\n      <th>17</th>\n      <td>SPY</td>\n      <td>2023-03-24T04:00:00+00:00</td>\n      <td>391.841</td>\n      <td>395.84</td>\n      <td>389.400</td>\n      <td>395.75</td>\n      <td>107053295.0</td>\n      <td>801995.0</td>\n      <td>393.110712</td>\n    </tr>\n    <tr>\n      <th>18</th>\n      <td>SPY</td>\n      <td>2023-03-27T04:00:00+00:00</td>\n      <td>398.120</td>\n      <td>398.92</td>\n      <td>395.560</td>\n      <td>396.49</td>\n      <td>74024860.0</td>\n      <td>569880.0</td>\n      <td>396.937252</td>\n    </tr>\n    <tr>\n      <th>19</th>\n      <td>SPY</td>\n      <td>2023-03-28T04:00:00+00:00</td>\n      <td>395.770</td>\n      <td>396.49</td>\n      <td>393.690</td>\n      <td>395.60</td>\n      <td>62871680.0</td>\n      <td>494862.0</td>\n      <td>395.259804</td>\n    </tr>\n    <tr>\n      <th>20</th>\n      <td>SPY</td>\n      <td>2023-03-29T04:00:00+00:00</td>\n      <td>399.925</td>\n      <td>401.60</td>\n      <td>398.680</td>\n      <td>401.35</td>\n      <td>76716997.0</td>\n      <td>546559.0</td>\n      <td>399.871539</td>\n    </tr>\n    <tr>\n      <th>21</th>\n      <td>SPY</td>\n      <td>2023-03-30T04:00:00+00:00</td>\n      <td>404.090</td>\n      <td>404.35</td>\n      <td>401.760</td>\n      <td>403.70</td>\n      <td>67890852.0</td>\n      <td>506442.0</td>\n      <td>403.234226</td>\n    </tr>\n  </tbody>\n</table>\n</div>"
     },
     "execution_count": 5,
     "metadata": {},
     "output_type": "execute_result"
    }
   ],
   "source": [
    "# Call the alpaca api to get the data\n",
    "\n",
    "# Set the ticker\n",
    "ticker = \"SPY\"\n",
    "\n",
    "# Set timeframe to '1D'\n",
    "timeframe = TimeFrame.Day\n",
    "\n",
    "# Set start and end datetimes of 1 year, between now and 30 days ago.\n",
    "start_date = dt.datetime.now() - dt.timedelta(30)\n",
    "end_date = dt.datetime.now()\n",
    "\n",
    "# Get 1 month's worth of historical data for SPY\n",
    "alpaca = api_calls.call_alpaca(ticker, timeframe, start_date, end_date)\n",
    "\n",
    "# Parse the data\n",
    "data = BarSet.json(alpaca)\n",
    "\n",
    "# Convert the data to a json string\n",
    "data = json.loads(data)\n",
    "\n",
    "# Create a Pandas DataFrame\n",
    "stock_prices = pd.DataFrame(data['data'][ticker])\n",
    "\n",
    "# Display sample data\n",
    "stock_prices"
   ],
   "metadata": {
    "collapsed": false,
    "ExecuteTime": {
     "start_time": "2023-03-30T16:21:08.620224Z",
     "end_time": "2023-03-30T16:21:08.773854Z"
    }
   }
  },
  {
   "cell_type": "code",
   "execution_count": 20,
   "outputs": [
    {
     "name": "stdout",
     "output_type": "stream",
     "text": [
      "72\n"
     ]
    },
    {
     "data": {
      "text/plain": "                                         source             author  \\\n0           {'id': None, 'name': 'MarketWatch'}   Philip van Doorn   \n1           {'id': None, 'name': 'MarketWatch'}  Barbara Kollmeyer   \n2   {'id': None, 'name': 'Yahoo Entertainment'}       William Dahl   \n3              {'id': None, 'name': 'Barron's'}       Ben Levisohn   \n4              {'id': None, 'name': 'Barron's'}        Andrew Bary   \n..                                          ...                ...   \n67             {'id': None, 'name': 'Barron's'}     Eric J. Savitz   \n68          {'id': None, 'name': 'MarketWatch'}    Steve Goldstein   \n69             {'id': None, 'name': 'Barron's'}       Teresa Rivas   \n70             {'id': None, 'name': 'Barron's'}     Eric J. Savitz   \n71             {'id': None, 'name': 'Barron's'}        Andy Serwer   \n\n                                                title  \\\n0   Deep Dive: These stocks fared the worst as Pow...   \n1   Need to Know: SVB’s rescue means the Fed won’t...   \n2   You'll Never Guess the Top-Performing Stock of...   \n3   The U.S. Is Scaring Off Foreign Investors. Is ...   \n4   Apple, Berkshire, Alphabet, and Microsoft Are ...   \n..                                                ...   \n67  U.S. Companies Are Sitting on $3.6 Trillion in...   \n68  Need to Know: There’s another looming cliff — ...   \n69  Which Retailers Have the Magic? This Analyst K...   \n70  Silicon Valley Confronts the End of Growth. It...   \n71  Marc Benioff Strikes Back. Salesforce Turns Up...   \n\n                                          description  \\\n0   Bank stocks were hit hard, as investors braced...   \n1   One casualty of regulators rescuing SVB deposi...   \n2   If a time machine could take you back to the s...   \n3   For those with no interest in democracy and wi...   \n4   Companies such as Apple and Berkshire Hathaway...   \n..                                                ...   \n67  When it comes to cash, Silicon Valley CFOs rec...   \n68  There's another worry on the horizon: the loom...   \n69  Oliver Chen of TD Cowen is cautiously optimist...   \n70  With customers reining in spending, and regula...   \n71  As Salesforce growth slows, the pioneering CEO...   \n\n                                                  url  \\\n0   https://www.marketwatch.com/story/these-stocks...   \n1   https://www.marketwatch.com/story/svbs-rescue-...   \n2   https://finance.yahoo.com/news/youll-never-gue...   \n3   https://www.barrons.com/articles/us-global-inv...   \n4   https://www.barrons.com/articles/apple-alphabe...   \n..                                                ...   \n67  https://www.barrons.com/articles/svb-roku-corp...   \n68  https://www.marketwatch.com/story/theres-anoth...   \n69  https://www.barrons.com/articles/retail-stocks...   \n70  https://www.barrons.com/articles/in-techs-new-...   \n71  https://www.barrons.com/articles/marc-benioff-...   \n\n                                           urlToImage           publishedAt  \\\n0            https://images.mktw.net/im-738118/social  2023-03-07T21:59:00Z   \n1            https://images.mktw.net/im-741731/social  2023-03-13T09:46:00Z   \n2   https://media.zenfs.com/en/Benzinga/81290aab17...  2023-03-14T17:31:52Z   \n3         https://images.barrons.com/im-750059/social  2023-03-25T18:06:00Z   \n4         https://images.barrons.com/im-736231/social  2023-03-06T13:57:00Z   \n..                                                ...                   ...   \n67        https://images.barrons.com/im-745478/social  2023-03-17T06:08:55Z   \n68           https://images.mktw.net/im-751434/social  2023-03-27T10:37:46Z   \n69        https://images.barrons.com/im-748227/social  2023-03-24T05:36:25Z   \n70        https://images.barrons.com/im-735920/social  2023-03-04T00:45:00Z   \n71        https://images.barrons.com/im-740569/social  2023-03-10T21:10:00Z   \n\n                                              content  \n0   Federal Reserve Chairman Jerome Powell set the...  \n1   After a frantic regulators-to-the-rescue weeke...  \n2   If a time machine could take you back to the s...  \n3   Welcome to America the Uninvestible. That seem...  \n4   Rich corporations are getting richer thanks to...  \n..                                                ...  \n67  As Silicon Valley Bank slid into receivership ...  \n68  Is the banking crisis over? Well, famous last ...  \n69  Retailers are adjusting to a postpandemic worl...  \n70  Silicon Valley could use a reboot. The biggest...  \n71  Marc Benioff is texting me, which is curious t...  \n\n[72 rows x 8 columns]",
      "text/html": "<div>\n<style scoped>\n    .dataframe tbody tr th:only-of-type {\n        vertical-align: middle;\n    }\n\n    .dataframe tbody tr th {\n        vertical-align: top;\n    }\n\n    .dataframe thead th {\n        text-align: right;\n    }\n</style>\n<table border=\"1\" class=\"dataframe\">\n  <thead>\n    <tr style=\"text-align: right;\">\n      <th></th>\n      <th>source</th>\n      <th>author</th>\n      <th>title</th>\n      <th>description</th>\n      <th>url</th>\n      <th>urlToImage</th>\n      <th>publishedAt</th>\n      <th>content</th>\n    </tr>\n  </thead>\n  <tbody>\n    <tr>\n      <th>0</th>\n      <td>{'id': None, 'name': 'MarketWatch'}</td>\n      <td>Philip van Doorn</td>\n      <td>Deep Dive: These stocks fared the worst as Pow...</td>\n      <td>Bank stocks were hit hard, as investors braced...</td>\n      <td>https://www.marketwatch.com/story/these-stocks...</td>\n      <td>https://images.mktw.net/im-738118/social</td>\n      <td>2023-03-07T21:59:00Z</td>\n      <td>Federal Reserve Chairman Jerome Powell set the...</td>\n    </tr>\n    <tr>\n      <th>1</th>\n      <td>{'id': None, 'name': 'MarketWatch'}</td>\n      <td>Barbara Kollmeyer</td>\n      <td>Need to Know: SVB’s rescue means the Fed won’t...</td>\n      <td>One casualty of regulators rescuing SVB deposi...</td>\n      <td>https://www.marketwatch.com/story/svbs-rescue-...</td>\n      <td>https://images.mktw.net/im-741731/social</td>\n      <td>2023-03-13T09:46:00Z</td>\n      <td>After a frantic regulators-to-the-rescue weeke...</td>\n    </tr>\n    <tr>\n      <th>2</th>\n      <td>{'id': None, 'name': 'Yahoo Entertainment'}</td>\n      <td>William Dahl</td>\n      <td>You'll Never Guess the Top-Performing Stock of...</td>\n      <td>If a time machine could take you back to the s...</td>\n      <td>https://finance.yahoo.com/news/youll-never-gue...</td>\n      <td>https://media.zenfs.com/en/Benzinga/81290aab17...</td>\n      <td>2023-03-14T17:31:52Z</td>\n      <td>If a time machine could take you back to the s...</td>\n    </tr>\n    <tr>\n      <th>3</th>\n      <td>{'id': None, 'name': 'Barron's'}</td>\n      <td>Ben Levisohn</td>\n      <td>The U.S. Is Scaring Off Foreign Investors. Is ...</td>\n      <td>For those with no interest in democracy and wi...</td>\n      <td>https://www.barrons.com/articles/us-global-inv...</td>\n      <td>https://images.barrons.com/im-750059/social</td>\n      <td>2023-03-25T18:06:00Z</td>\n      <td>Welcome to America the Uninvestible. That seem...</td>\n    </tr>\n    <tr>\n      <th>4</th>\n      <td>{'id': None, 'name': 'Barron's'}</td>\n      <td>Andrew Bary</td>\n      <td>Apple, Berkshire, Alphabet, and Microsoft Are ...</td>\n      <td>Companies such as Apple and Berkshire Hathaway...</td>\n      <td>https://www.barrons.com/articles/apple-alphabe...</td>\n      <td>https://images.barrons.com/im-736231/social</td>\n      <td>2023-03-06T13:57:00Z</td>\n      <td>Rich corporations are getting richer thanks to...</td>\n    </tr>\n    <tr>\n      <th>...</th>\n      <td>...</td>\n      <td>...</td>\n      <td>...</td>\n      <td>...</td>\n      <td>...</td>\n      <td>...</td>\n      <td>...</td>\n      <td>...</td>\n    </tr>\n    <tr>\n      <th>67</th>\n      <td>{'id': None, 'name': 'Barron's'}</td>\n      <td>Eric J. Savitz</td>\n      <td>U.S. Companies Are Sitting on $3.6 Trillion in...</td>\n      <td>When it comes to cash, Silicon Valley CFOs rec...</td>\n      <td>https://www.barrons.com/articles/svb-roku-corp...</td>\n      <td>https://images.barrons.com/im-745478/social</td>\n      <td>2023-03-17T06:08:55Z</td>\n      <td>As Silicon Valley Bank slid into receivership ...</td>\n    </tr>\n    <tr>\n      <th>68</th>\n      <td>{'id': None, 'name': 'MarketWatch'}</td>\n      <td>Steve Goldstein</td>\n      <td>Need to Know: There’s another looming cliff — ...</td>\n      <td>There's another worry on the horizon: the loom...</td>\n      <td>https://www.marketwatch.com/story/theres-anoth...</td>\n      <td>https://images.mktw.net/im-751434/social</td>\n      <td>2023-03-27T10:37:46Z</td>\n      <td>Is the banking crisis over? Well, famous last ...</td>\n    </tr>\n    <tr>\n      <th>69</th>\n      <td>{'id': None, 'name': 'Barron's'}</td>\n      <td>Teresa Rivas</td>\n      <td>Which Retailers Have the Magic? This Analyst K...</td>\n      <td>Oliver Chen of TD Cowen is cautiously optimist...</td>\n      <td>https://www.barrons.com/articles/retail-stocks...</td>\n      <td>https://images.barrons.com/im-748227/social</td>\n      <td>2023-03-24T05:36:25Z</td>\n      <td>Retailers are adjusting to a postpandemic worl...</td>\n    </tr>\n    <tr>\n      <th>70</th>\n      <td>{'id': None, 'name': 'Barron's'}</td>\n      <td>Eric J. Savitz</td>\n      <td>Silicon Valley Confronts the End of Growth. It...</td>\n      <td>With customers reining in spending, and regula...</td>\n      <td>https://www.barrons.com/articles/in-techs-new-...</td>\n      <td>https://images.barrons.com/im-735920/social</td>\n      <td>2023-03-04T00:45:00Z</td>\n      <td>Silicon Valley could use a reboot. The biggest...</td>\n    </tr>\n    <tr>\n      <th>71</th>\n      <td>{'id': None, 'name': 'Barron's'}</td>\n      <td>Andy Serwer</td>\n      <td>Marc Benioff Strikes Back. Salesforce Turns Up...</td>\n      <td>As Salesforce growth slows, the pioneering CEO...</td>\n      <td>https://www.barrons.com/articles/marc-benioff-...</td>\n      <td>https://images.barrons.com/im-740569/social</td>\n      <td>2023-03-10T21:10:00Z</td>\n      <td>Marc Benioff is texting me, which is curious t...</td>\n    </tr>\n  </tbody>\n</table>\n<p>72 rows × 8 columns</p>\n</div>"
     },
     "execution_count": 20,
     "metadata": {},
     "output_type": "execute_result"
    }
   ],
   "source": [
    "# Call the news api to get the data\n",
    "\n",
    "# Set the ticker\n",
    "ticker = \"AAPL\"\n",
    "\n",
    "# Call the news api\n",
    "news = api_calls.call_newsapi(\"+\" + ticker + \" ticker\", start_date, end_date)\n",
    "\n",
    "# Save the total number of articles\n",
    "total_articles = news['totalResults']\n",
    "print(total_articles)\n",
    "\n",
    "# Create a Pandas DataFrame\n",
    "stock_news = pd.DataFrame(news['articles'])\n",
    "\n",
    "# Display sample data\n",
    "stock_news"
   ],
   "metadata": {
    "collapsed": false,
    "ExecuteTime": {
     "start_time": "2023-03-30T17:06:39.502256Z",
     "end_time": "2023-03-30T17:06:39.777991Z"
    }
   }
  },
  {
   "cell_type": "code",
   "execution_count": null,
   "outputs": [],
   "source": [],
   "metadata": {
    "collapsed": false
   }
  }
 ],
 "metadata": {
  "kernelspec": {
   "display_name": "Python 3",
   "language": "python",
   "name": "python3"
  },
  "language_info": {
   "codemirror_mode": {
    "name": "ipython",
    "version": 2
   },
   "file_extension": ".py",
   "mimetype": "text/x-python",
   "name": "python",
   "nbconvert_exporter": "python",
   "pygments_lexer": "ipython2",
   "version": "2.7.6"
  }
 },
 "nbformat": 4,
 "nbformat_minor": 0
}
