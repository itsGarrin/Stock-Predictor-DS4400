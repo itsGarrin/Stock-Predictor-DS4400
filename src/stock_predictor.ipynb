{
 "cells": [
  {
   "cell_type": "code",
   "execution_count": 1,
   "metadata": {
    "collapsed": true,
    "ExecuteTime": {
     "start_time": "2023-03-30T17:40:58.602119Z",
     "end_time": "2023-03-30T17:40:59.072638Z"
    }
   },
   "outputs": [],
   "source": [
    "# Import libraries and dependencies\n",
    "import api_calls\n",
    "import datetime as dt\n",
    "import pandas as pd\n",
    "from alpaca.data import TimeFrame\n",
    "from alpaca.data import BarSet\n",
    "import json"
   ]
  },
  {
   "cell_type": "code",
   "execution_count": 2,
   "outputs": [
    {
     "data": {
      "text/plain": "   symbol                  timestamp     open    high      low   close  \\\n0     SPY  2023-03-01T05:00:00+00:00  395.410  396.69  393.380  394.74   \n1     SPY  2023-03-02T05:00:00+00:00  392.680  398.69  392.330  397.81   \n2     SPY  2023-03-03T05:00:00+00:00  399.710  404.45  399.030  404.19   \n3     SPY  2023-03-06T05:00:00+00:00  405.050  407.45  404.010  404.47   \n4     SPY  2023-03-07T05:00:00+00:00  404.420  404.67  397.625  398.27   \n5     SPY  2023-03-08T05:00:00+00:00  398.390  399.71  396.590  398.92   \n6     SPY  2023-03-09T05:00:00+00:00  399.740  401.48  390.530  391.56   \n7     SPY  2023-03-10T05:00:00+00:00  390.990  393.16  384.320  385.91   \n8     SPY  2023-03-13T04:00:00+00:00  381.810  390.39  380.650  385.36   \n9     SPY  2023-03-14T04:00:00+00:00  390.500  393.45  387.050  391.73   \n10    SPY  2023-03-15T04:00:00+00:00  385.890  389.49  383.710  389.28   \n11    SPY  2023-03-16T04:00:00+00:00  386.820  396.47  386.290  396.11   \n12    SPY  2023-03-17T04:00:00+00:00  393.220  394.40  388.550  389.99   \n13    SPY  2023-03-20T04:00:00+00:00  390.800  394.17  390.070  393.74   \n14    SPY  2023-03-21T04:00:00+00:00  397.240  399.41  395.580  398.91   \n15    SPY  2023-03-22T04:00:00+00:00  398.730  402.49  392.070  392.11   \n16    SPY  2023-03-23T04:00:00+00:00  395.090  399.29  390.350  393.17   \n17    SPY  2023-03-24T04:00:00+00:00  391.841  395.84  389.400  395.75   \n18    SPY  2023-03-27T04:00:00+00:00  398.120  398.92  395.560  396.49   \n19    SPY  2023-03-28T04:00:00+00:00  395.770  396.49  393.690  395.60   \n20    SPY  2023-03-29T04:00:00+00:00  399.925  401.60  398.680  401.35   \n21    SPY  2023-03-30T04:00:00+00:00  404.090  404.35  401.760  403.70   \n\n         volume  trade_count        vwap  \n0    99723518.0     699672.0  395.137160  \n1    85442636.0     612955.0  395.427267  \n2    90119952.0     645491.0  402.059203  \n3    72801949.0     539788.0  405.429412  \n4   108327251.0     776810.0  400.379478  \n5    74767148.0     578475.0  398.260115  \n6   111965492.0     849860.0  395.433274  \n7   189252996.0    1386973.0  388.308446  \n8   157847796.0    1391476.0  386.088209  \n9   149772836.0    1033031.0  390.217653  \n10  173294525.0    1334847.0  387.162754  \n11  143753940.0     999801.0  392.990202  \n12  139808159.0     917926.0  391.225951  \n13   93077851.0     725845.0  392.355664  \n14   91537353.0     630029.0  397.098666  \n15  111781863.0     874864.0  397.601591  \n16  119351319.0     871935.0  394.576872  \n17  107053295.0     801995.0  393.110712  \n18   74024860.0     569880.0  396.937252  \n19   62871680.0     494862.0  395.259804  \n20   76716997.0     546559.0  399.871539  \n21   69056779.0     509120.0  403.227188  ",
      "text/html": "<div>\n<style scoped>\n    .dataframe tbody tr th:only-of-type {\n        vertical-align: middle;\n    }\n\n    .dataframe tbody tr th {\n        vertical-align: top;\n    }\n\n    .dataframe thead th {\n        text-align: right;\n    }\n</style>\n<table border=\"1\" class=\"dataframe\">\n  <thead>\n    <tr style=\"text-align: right;\">\n      <th></th>\n      <th>symbol</th>\n      <th>timestamp</th>\n      <th>open</th>\n      <th>high</th>\n      <th>low</th>\n      <th>close</th>\n      <th>volume</th>\n      <th>trade_count</th>\n      <th>vwap</th>\n    </tr>\n  </thead>\n  <tbody>\n    <tr>\n      <th>0</th>\n      <td>SPY</td>\n      <td>2023-03-01T05:00:00+00:00</td>\n      <td>395.410</td>\n      <td>396.69</td>\n      <td>393.380</td>\n      <td>394.74</td>\n      <td>99723518.0</td>\n      <td>699672.0</td>\n      <td>395.137160</td>\n    </tr>\n    <tr>\n      <th>1</th>\n      <td>SPY</td>\n      <td>2023-03-02T05:00:00+00:00</td>\n      <td>392.680</td>\n      <td>398.69</td>\n      <td>392.330</td>\n      <td>397.81</td>\n      <td>85442636.0</td>\n      <td>612955.0</td>\n      <td>395.427267</td>\n    </tr>\n    <tr>\n      <th>2</th>\n      <td>SPY</td>\n      <td>2023-03-03T05:00:00+00:00</td>\n      <td>399.710</td>\n      <td>404.45</td>\n      <td>399.030</td>\n      <td>404.19</td>\n      <td>90119952.0</td>\n      <td>645491.0</td>\n      <td>402.059203</td>\n    </tr>\n    <tr>\n      <th>3</th>\n      <td>SPY</td>\n      <td>2023-03-06T05:00:00+00:00</td>\n      <td>405.050</td>\n      <td>407.45</td>\n      <td>404.010</td>\n      <td>404.47</td>\n      <td>72801949.0</td>\n      <td>539788.0</td>\n      <td>405.429412</td>\n    </tr>\n    <tr>\n      <th>4</th>\n      <td>SPY</td>\n      <td>2023-03-07T05:00:00+00:00</td>\n      <td>404.420</td>\n      <td>404.67</td>\n      <td>397.625</td>\n      <td>398.27</td>\n      <td>108327251.0</td>\n      <td>776810.0</td>\n      <td>400.379478</td>\n    </tr>\n    <tr>\n      <th>5</th>\n      <td>SPY</td>\n      <td>2023-03-08T05:00:00+00:00</td>\n      <td>398.390</td>\n      <td>399.71</td>\n      <td>396.590</td>\n      <td>398.92</td>\n      <td>74767148.0</td>\n      <td>578475.0</td>\n      <td>398.260115</td>\n    </tr>\n    <tr>\n      <th>6</th>\n      <td>SPY</td>\n      <td>2023-03-09T05:00:00+00:00</td>\n      <td>399.740</td>\n      <td>401.48</td>\n      <td>390.530</td>\n      <td>391.56</td>\n      <td>111965492.0</td>\n      <td>849860.0</td>\n      <td>395.433274</td>\n    </tr>\n    <tr>\n      <th>7</th>\n      <td>SPY</td>\n      <td>2023-03-10T05:00:00+00:00</td>\n      <td>390.990</td>\n      <td>393.16</td>\n      <td>384.320</td>\n      <td>385.91</td>\n      <td>189252996.0</td>\n      <td>1386973.0</td>\n      <td>388.308446</td>\n    </tr>\n    <tr>\n      <th>8</th>\n      <td>SPY</td>\n      <td>2023-03-13T04:00:00+00:00</td>\n      <td>381.810</td>\n      <td>390.39</td>\n      <td>380.650</td>\n      <td>385.36</td>\n      <td>157847796.0</td>\n      <td>1391476.0</td>\n      <td>386.088209</td>\n    </tr>\n    <tr>\n      <th>9</th>\n      <td>SPY</td>\n      <td>2023-03-14T04:00:00+00:00</td>\n      <td>390.500</td>\n      <td>393.45</td>\n      <td>387.050</td>\n      <td>391.73</td>\n      <td>149772836.0</td>\n      <td>1033031.0</td>\n      <td>390.217653</td>\n    </tr>\n    <tr>\n      <th>10</th>\n      <td>SPY</td>\n      <td>2023-03-15T04:00:00+00:00</td>\n      <td>385.890</td>\n      <td>389.49</td>\n      <td>383.710</td>\n      <td>389.28</td>\n      <td>173294525.0</td>\n      <td>1334847.0</td>\n      <td>387.162754</td>\n    </tr>\n    <tr>\n      <th>11</th>\n      <td>SPY</td>\n      <td>2023-03-16T04:00:00+00:00</td>\n      <td>386.820</td>\n      <td>396.47</td>\n      <td>386.290</td>\n      <td>396.11</td>\n      <td>143753940.0</td>\n      <td>999801.0</td>\n      <td>392.990202</td>\n    </tr>\n    <tr>\n      <th>12</th>\n      <td>SPY</td>\n      <td>2023-03-17T04:00:00+00:00</td>\n      <td>393.220</td>\n      <td>394.40</td>\n      <td>388.550</td>\n      <td>389.99</td>\n      <td>139808159.0</td>\n      <td>917926.0</td>\n      <td>391.225951</td>\n    </tr>\n    <tr>\n      <th>13</th>\n      <td>SPY</td>\n      <td>2023-03-20T04:00:00+00:00</td>\n      <td>390.800</td>\n      <td>394.17</td>\n      <td>390.070</td>\n      <td>393.74</td>\n      <td>93077851.0</td>\n      <td>725845.0</td>\n      <td>392.355664</td>\n    </tr>\n    <tr>\n      <th>14</th>\n      <td>SPY</td>\n      <td>2023-03-21T04:00:00+00:00</td>\n      <td>397.240</td>\n      <td>399.41</td>\n      <td>395.580</td>\n      <td>398.91</td>\n      <td>91537353.0</td>\n      <td>630029.0</td>\n      <td>397.098666</td>\n    </tr>\n    <tr>\n      <th>15</th>\n      <td>SPY</td>\n      <td>2023-03-22T04:00:00+00:00</td>\n      <td>398.730</td>\n      <td>402.49</td>\n      <td>392.070</td>\n      <td>392.11</td>\n      <td>111781863.0</td>\n      <td>874864.0</td>\n      <td>397.601591</td>\n    </tr>\n    <tr>\n      <th>16</th>\n      <td>SPY</td>\n      <td>2023-03-23T04:00:00+00:00</td>\n      <td>395.090</td>\n      <td>399.29</td>\n      <td>390.350</td>\n      <td>393.17</td>\n      <td>119351319.0</td>\n      <td>871935.0</td>\n      <td>394.576872</td>\n    </tr>\n    <tr>\n      <th>17</th>\n      <td>SPY</td>\n      <td>2023-03-24T04:00:00+00:00</td>\n      <td>391.841</td>\n      <td>395.84</td>\n      <td>389.400</td>\n      <td>395.75</td>\n      <td>107053295.0</td>\n      <td>801995.0</td>\n      <td>393.110712</td>\n    </tr>\n    <tr>\n      <th>18</th>\n      <td>SPY</td>\n      <td>2023-03-27T04:00:00+00:00</td>\n      <td>398.120</td>\n      <td>398.92</td>\n      <td>395.560</td>\n      <td>396.49</td>\n      <td>74024860.0</td>\n      <td>569880.0</td>\n      <td>396.937252</td>\n    </tr>\n    <tr>\n      <th>19</th>\n      <td>SPY</td>\n      <td>2023-03-28T04:00:00+00:00</td>\n      <td>395.770</td>\n      <td>396.49</td>\n      <td>393.690</td>\n      <td>395.60</td>\n      <td>62871680.0</td>\n      <td>494862.0</td>\n      <td>395.259804</td>\n    </tr>\n    <tr>\n      <th>20</th>\n      <td>SPY</td>\n      <td>2023-03-29T04:00:00+00:00</td>\n      <td>399.925</td>\n      <td>401.60</td>\n      <td>398.680</td>\n      <td>401.35</td>\n      <td>76716997.0</td>\n      <td>546559.0</td>\n      <td>399.871539</td>\n    </tr>\n    <tr>\n      <th>21</th>\n      <td>SPY</td>\n      <td>2023-03-30T04:00:00+00:00</td>\n      <td>404.090</td>\n      <td>404.35</td>\n      <td>401.760</td>\n      <td>403.70</td>\n      <td>69056779.0</td>\n      <td>509120.0</td>\n      <td>403.227188</td>\n    </tr>\n  </tbody>\n</table>\n</div>"
     },
     "execution_count": 2,
     "metadata": {},
     "output_type": "execute_result"
    }
   ],
   "source": [
    "# Call the alpaca api to get the data\n",
    "\n",
    "# Set the ticker\n",
    "ticker = \"SPY\"\n",
    "\n",
    "# Set timeframe to '1D'\n",
    "timeframe = TimeFrame.Day\n",
    "\n",
    "# Set start and end datetimes of 1 month, between now and 30 days ago.\n",
    "start_date = dt.datetime.now() - dt.timedelta(30)\n",
    "end_date = dt.datetime.now()\n",
    "\n",
    "# Get 1 month's worth of historical data for SPY\n",
    "alpaca = api_calls.call_alpaca(ticker, timeframe, start_date, end_date)\n",
    "\n",
    "# Parse the data\n",
    "data = BarSet.json(alpaca)\n",
    "\n",
    "# Convert the data to a json string\n",
    "data = json.loads(data)\n",
    "\n",
    "# Create a Pandas DataFrame\n",
    "stock_prices = pd.DataFrame(data['data'][ticker])\n",
    "\n",
    "# Display sample data\n",
    "stock_prices"
   ],
   "metadata": {
    "collapsed": false,
    "ExecuteTime": {
     "start_time": "2023-03-30T17:40:59.074735Z",
     "end_time": "2023-03-30T17:40:59.244595Z"
    }
   }
  },
  {
   "cell_type": "code",
   "execution_count": 3,
   "outputs": [
    {
     "name": "stdout",
     "output_type": "stream",
     "text": [
      "71\n"
     ]
    },
    {
     "data": {
      "text/plain": "                                         source             author  \\\n0           {'id': None, 'name': 'MarketWatch'}   Philip van Doorn   \n1           {'id': None, 'name': 'MarketWatch'}  Barbara Kollmeyer   \n2   {'id': None, 'name': 'Yahoo Entertainment'}       William Dahl   \n3              {'id': None, 'name': 'Barron's'}       Ben Levisohn   \n4              {'id': None, 'name': 'Barron's'}        Andrew Bary   \n..                                          ...                ...   \n66             {'id': None, 'name': 'Barron's'}     Eric J. Savitz   \n67          {'id': None, 'name': 'MarketWatch'}    Steve Goldstein   \n68             {'id': None, 'name': 'Barron's'}       Teresa Rivas   \n69             {'id': None, 'name': 'Barron's'}     Eric J. Savitz   \n70             {'id': None, 'name': 'Barron's'}        Andy Serwer   \n\n                                                title  \\\n0   Deep Dive: These stocks fared the worst as Pow...   \n1   Need to Know: SVB’s rescue means the Fed won’t...   \n2   You'll Never Guess the Top-Performing Stock of...   \n3   The U.S. Is Scaring Off Foreign Investors. Is ...   \n4   Apple, Berkshire, Alphabet, and Microsoft Are ...   \n..                                                ...   \n66  U.S. Companies Are Sitting on $3.6 Trillion in...   \n67  Need to Know: There’s another looming cliff — ...   \n68  Which Retailers Have the Magic? This Analyst K...   \n69  Silicon Valley Confronts the End of Growth. It...   \n70  Marc Benioff Strikes Back. Salesforce Turns Up...   \n\n                                          description  \\\n0   Bank stocks were hit hard, as investors braced...   \n1   One casualty of regulators rescuing SVB deposi...   \n2   If a time machine could take you back to the s...   \n3   For those with no interest in democracy and wi...   \n4   Companies such as Apple and Berkshire Hathaway...   \n..                                                ...   \n66  When it comes to cash, Silicon Valley CFOs rec...   \n67  There's another worry on the horizon: the loom...   \n68  Oliver Chen of TD Cowen is cautiously optimist...   \n69  With customers reining in spending, and regula...   \n70  As Salesforce growth slows, the pioneering CEO...   \n\n                                                  url  \\\n0   https://www.marketwatch.com/story/these-stocks...   \n1   https://www.marketwatch.com/story/svbs-rescue-...   \n2   https://finance.yahoo.com/news/youll-never-gue...   \n3   https://www.barrons.com/articles/us-global-inv...   \n4   https://www.barrons.com/articles/apple-alphabe...   \n..                                                ...   \n66  https://www.barrons.com/articles/svb-roku-corp...   \n67  https://www.marketwatch.com/story/theres-anoth...   \n68  https://www.barrons.com/articles/retail-stocks...   \n69  https://www.barrons.com/articles/in-techs-new-...   \n70  https://www.barrons.com/articles/marc-benioff-...   \n\n                                           urlToImage           publishedAt  \\\n0            https://images.mktw.net/im-738118/social  2023-03-07T21:59:00Z   \n1            https://images.mktw.net/im-741731/social  2023-03-13T09:46:00Z   \n2   https://media.zenfs.com/en/Benzinga/81290aab17...  2023-03-14T17:31:52Z   \n3         https://images.barrons.com/im-750059/social  2023-03-25T18:06:00Z   \n4         https://images.barrons.com/im-736231/social  2023-03-06T13:57:00Z   \n..                                                ...                   ...   \n66        https://images.barrons.com/im-745478/social  2023-03-17T06:08:55Z   \n67           https://images.mktw.net/im-751434/social  2023-03-27T10:37:46Z   \n68        https://images.barrons.com/im-748227/social  2023-03-24T05:36:25Z   \n69        https://images.barrons.com/im-735920/social  2023-03-04T00:45:00Z   \n70        https://images.barrons.com/im-740569/social  2023-03-10T21:10:00Z   \n\n                                              content  \n0   Federal Reserve Chairman Jerome Powell set the...  \n1   After a frantic regulators-to-the-rescue weeke...  \n2   If a time machine could take you back to the s...  \n3   Welcome to America the Uninvestible. That seem...  \n4   Rich corporations are getting richer thanks to...  \n..                                                ...  \n66  As Silicon Valley Bank slid into receivership ...  \n67  Is the banking crisis over? Well, famous last ...  \n68  Retailers are adjusting to a postpandemic worl...  \n69  Silicon Valley could use a reboot. The biggest...  \n70  Marc Benioff is texting me, which is curious t...  \n\n[71 rows x 8 columns]",
      "text/html": "<div>\n<style scoped>\n    .dataframe tbody tr th:only-of-type {\n        vertical-align: middle;\n    }\n\n    .dataframe tbody tr th {\n        vertical-align: top;\n    }\n\n    .dataframe thead th {\n        text-align: right;\n    }\n</style>\n<table border=\"1\" class=\"dataframe\">\n  <thead>\n    <tr style=\"text-align: right;\">\n      <th></th>\n      <th>source</th>\n      <th>author</th>\n      <th>title</th>\n      <th>description</th>\n      <th>url</th>\n      <th>urlToImage</th>\n      <th>publishedAt</th>\n      <th>content</th>\n    </tr>\n  </thead>\n  <tbody>\n    <tr>\n      <th>0</th>\n      <td>{'id': None, 'name': 'MarketWatch'}</td>\n      <td>Philip van Doorn</td>\n      <td>Deep Dive: These stocks fared the worst as Pow...</td>\n      <td>Bank stocks were hit hard, as investors braced...</td>\n      <td>https://www.marketwatch.com/story/these-stocks...</td>\n      <td>https://images.mktw.net/im-738118/social</td>\n      <td>2023-03-07T21:59:00Z</td>\n      <td>Federal Reserve Chairman Jerome Powell set the...</td>\n    </tr>\n    <tr>\n      <th>1</th>\n      <td>{'id': None, 'name': 'MarketWatch'}</td>\n      <td>Barbara Kollmeyer</td>\n      <td>Need to Know: SVB’s rescue means the Fed won’t...</td>\n      <td>One casualty of regulators rescuing SVB deposi...</td>\n      <td>https://www.marketwatch.com/story/svbs-rescue-...</td>\n      <td>https://images.mktw.net/im-741731/social</td>\n      <td>2023-03-13T09:46:00Z</td>\n      <td>After a frantic regulators-to-the-rescue weeke...</td>\n    </tr>\n    <tr>\n      <th>2</th>\n      <td>{'id': None, 'name': 'Yahoo Entertainment'}</td>\n      <td>William Dahl</td>\n      <td>You'll Never Guess the Top-Performing Stock of...</td>\n      <td>If a time machine could take you back to the s...</td>\n      <td>https://finance.yahoo.com/news/youll-never-gue...</td>\n      <td>https://media.zenfs.com/en/Benzinga/81290aab17...</td>\n      <td>2023-03-14T17:31:52Z</td>\n      <td>If a time machine could take you back to the s...</td>\n    </tr>\n    <tr>\n      <th>3</th>\n      <td>{'id': None, 'name': 'Barron's'}</td>\n      <td>Ben Levisohn</td>\n      <td>The U.S. Is Scaring Off Foreign Investors. Is ...</td>\n      <td>For those with no interest in democracy and wi...</td>\n      <td>https://www.barrons.com/articles/us-global-inv...</td>\n      <td>https://images.barrons.com/im-750059/social</td>\n      <td>2023-03-25T18:06:00Z</td>\n      <td>Welcome to America the Uninvestible. That seem...</td>\n    </tr>\n    <tr>\n      <th>4</th>\n      <td>{'id': None, 'name': 'Barron's'}</td>\n      <td>Andrew Bary</td>\n      <td>Apple, Berkshire, Alphabet, and Microsoft Are ...</td>\n      <td>Companies such as Apple and Berkshire Hathaway...</td>\n      <td>https://www.barrons.com/articles/apple-alphabe...</td>\n      <td>https://images.barrons.com/im-736231/social</td>\n      <td>2023-03-06T13:57:00Z</td>\n      <td>Rich corporations are getting richer thanks to...</td>\n    </tr>\n    <tr>\n      <th>...</th>\n      <td>...</td>\n      <td>...</td>\n      <td>...</td>\n      <td>...</td>\n      <td>...</td>\n      <td>...</td>\n      <td>...</td>\n      <td>...</td>\n    </tr>\n    <tr>\n      <th>66</th>\n      <td>{'id': None, 'name': 'Barron's'}</td>\n      <td>Eric J. Savitz</td>\n      <td>U.S. Companies Are Sitting on $3.6 Trillion in...</td>\n      <td>When it comes to cash, Silicon Valley CFOs rec...</td>\n      <td>https://www.barrons.com/articles/svb-roku-corp...</td>\n      <td>https://images.barrons.com/im-745478/social</td>\n      <td>2023-03-17T06:08:55Z</td>\n      <td>As Silicon Valley Bank slid into receivership ...</td>\n    </tr>\n    <tr>\n      <th>67</th>\n      <td>{'id': None, 'name': 'MarketWatch'}</td>\n      <td>Steve Goldstein</td>\n      <td>Need to Know: There’s another looming cliff — ...</td>\n      <td>There's another worry on the horizon: the loom...</td>\n      <td>https://www.marketwatch.com/story/theres-anoth...</td>\n      <td>https://images.mktw.net/im-751434/social</td>\n      <td>2023-03-27T10:37:46Z</td>\n      <td>Is the banking crisis over? Well, famous last ...</td>\n    </tr>\n    <tr>\n      <th>68</th>\n      <td>{'id': None, 'name': 'Barron's'}</td>\n      <td>Teresa Rivas</td>\n      <td>Which Retailers Have the Magic? This Analyst K...</td>\n      <td>Oliver Chen of TD Cowen is cautiously optimist...</td>\n      <td>https://www.barrons.com/articles/retail-stocks...</td>\n      <td>https://images.barrons.com/im-748227/social</td>\n      <td>2023-03-24T05:36:25Z</td>\n      <td>Retailers are adjusting to a postpandemic worl...</td>\n    </tr>\n    <tr>\n      <th>69</th>\n      <td>{'id': None, 'name': 'Barron's'}</td>\n      <td>Eric J. Savitz</td>\n      <td>Silicon Valley Confronts the End of Growth. It...</td>\n      <td>With customers reining in spending, and regula...</td>\n      <td>https://www.barrons.com/articles/in-techs-new-...</td>\n      <td>https://images.barrons.com/im-735920/social</td>\n      <td>2023-03-04T00:45:00Z</td>\n      <td>Silicon Valley could use a reboot. The biggest...</td>\n    </tr>\n    <tr>\n      <th>70</th>\n      <td>{'id': None, 'name': 'Barron's'}</td>\n      <td>Andy Serwer</td>\n      <td>Marc Benioff Strikes Back. Salesforce Turns Up...</td>\n      <td>As Salesforce growth slows, the pioneering CEO...</td>\n      <td>https://www.barrons.com/articles/marc-benioff-...</td>\n      <td>https://images.barrons.com/im-740569/social</td>\n      <td>2023-03-10T21:10:00Z</td>\n      <td>Marc Benioff is texting me, which is curious t...</td>\n    </tr>\n  </tbody>\n</table>\n<p>71 rows × 8 columns</p>\n</div>"
     },
     "execution_count": 3,
     "metadata": {},
     "output_type": "execute_result"
    }
   ],
   "source": [
    "# Call the news api to get the data\n",
    "\n",
    "# Set the ticker\n",
    "ticker = \"AAPL\"\n",
    "\n",
    "# Call the news api\n",
    "news = api_calls.call_newsapi(\"+\" + ticker + \" ticker\", start_date, end_date)\n",
    "\n",
    "# Save the total number of articles\n",
    "total_articles = news['totalResults']\n",
    "print(total_articles)\n",
    "\n",
    "# Create a Pandas DataFrame\n",
    "stock_news = pd.DataFrame(news['articles'])\n",
    "\n",
    "# Display sample data\n",
    "stock_news"
   ],
   "metadata": {
    "collapsed": false,
    "ExecuteTime": {
     "start_time": "2023-03-30T17:40:59.246803Z",
     "end_time": "2023-03-30T17:40:59.539938Z"
    }
   }
  },
  {
   "cell_type": "code",
   "execution_count": 4,
   "outputs": [
    {
     "data": {
      "text/plain": "                                                 title  \\\n0    A New Reason for Apple to Buy Disney, Accordin...   \n1    Explainer: How a massive options trade by a JP...   \n2    Apple Edges Higher As Traders Await Fed's Favo...   \n3    Apple buying Disney? Analyst explains why they...   \n4    Comcast  ( CMCSA )  Expands Xfinity 10G Networ...   \n..                                                 ...   \n195  Meta Loses Veteran Ad Official Amid Current Or...   \n196  Apple considers bidding for English football s...   \n197         Why Apple Is Moving in the Right Direction   \n198                          Better Buy: Apple vs. AMD   \n199  Instagram Could Show Share Counts On Reels To ...   \n\n                                                   url   time_published  \\\n0    https://www.barrons.com/articles/walt-disney-a...  20230330T203800   \n1    https://www.reuters.com/markets/us/how-massive...  20230330T195300   \n2    https://www.benzinga.com/trading-ideas/long-id...  20230330T180201   \n3    https://www.marketwatch.com/story/apple-buying...  20230330T165300   \n4    https://www.zacks.com/stock/news/2072596/comca...  20230330T163800   \n..                                                 ...              ...   \n195  https://www.benzinga.com/news/23/03/31470536/m...  20230323T113037   \n196  https://www.reuters.com/business/media-telecom...  20230323T105800   \n197  https://www.fool.com/investing/2023/03/23/why-...  20230323T102200   \n198  https://www.fool.com/investing/2023/03/23/bett...  20230323T100000   \n199  https://www.benzinga.com/news/23/03/31470059/i...  20230323T095515   \n\n                         authors  \\\n0                 [Teresa Rivas]   \n1            [Saqib Iqbal Ahmed]   \n2             [Melanie Schaffer]   \n3                   [Jon Swartz]   \n4    [Zacks Investment Research]   \n..                           ...   \n195             [Anusuya Lahiri]   \n196                    [Reuters]   \n197            [David Jagielski]   \n198                  [Dani Cook]   \n199             [Ananya Gairola]   \n\n                                               summary  \\\n0    Apple Should Buy Disney, Analyst Says. Disney ...   \n1    Explainer: How a massive options trade by a JP...   \n2    Apple, Inc AAPL was edging up about 0.5% on Th...   \n3    Needham analyst Laura Martin believes Apple wo...   \n4    Comcast (CMCSA) announces expansion of high-sp...   \n..                                                 ...   \n195  Meta Platforms, Inc's META veteran advertising...   \n196  Apple considers bidding for English football s...   \n197  The company's service revenue hit a record hig...   \n198  The tech market could be on a recovery path, w...   \n199  Meta Platforms Inc. META seems to be working o...   \n\n                                          banner_image            source  \\\n0          https://images.barrons.com/im-754129/social           Barrons   \n1    https://www.reuters.com/pf/resources/images/re...           Reuters   \n2    https://cdn.benzinga.com/files/images/story/20...          Benzinga   \n3             https://images.mktw.net/im-754331/social       MarketWatch   \n4    https://staticx-tuner.zacks.com/images/article...  Zacks Commentary   \n..                                                 ...               ...   \n195  https://cdn.benzinga.com/files/images/story/20...          Benzinga   \n196  https://cloudfront-us-east-2.images.arcpublish...           Reuters   \n197  https://g.foolcdn.com/image/?url=https%3A%2F%2...       Motley Fool   \n198  https://media.ycharts.com/charts/061133027e0e2...       Motley Fool   \n199  https://cdn.benzinga.com/files/images/story/20...          Benzinga   \n\n    category_within_source        source_domain  \\\n0                      n/a      www.barrons.com   \n1                  Markets      www.reuters.com   \n2                  Trading     www.benzinga.com   \n3              Top Stories  www.marketwatch.com   \n4                      n/a        www.zacks.com   \n..                     ...                  ...   \n195                   News     www.benzinga.com   \n196               Business      www.reuters.com   \n197                    n/a         www.fool.com   \n198                    n/a         www.fool.com   \n199                   News     www.benzinga.com   \n\n                                                topics  \\\n0    [{'topic': 'Technology', 'relevance_score': '1...   \n1    [{'topic': 'Technology', 'relevance_score': '0...   \n2    [{'topic': 'Technology', 'relevance_score': '1...   \n3    [{'topic': 'Technology', 'relevance_score': '1...   \n4    [{'topic': 'Earnings', 'relevance_score': '0.8...   \n..                                                 ...   \n195  [{'topic': 'Technology', 'relevance_score': '1...   \n196  [{'topic': 'Technology', 'relevance_score': '1...   \n197  [{'topic': 'Earnings', 'relevance_score': '0.9...   \n198  [{'topic': 'Financial Markets', 'relevance_sco...   \n199  [{'topic': 'Technology', 'relevance_score': '1...   \n\n     overall_sentiment_score overall_sentiment_label  \\\n0                  -0.096426                 Neutral   \n1                  -0.028466                 Neutral   \n2                  -0.011986                 Neutral   \n3                   0.301034        Somewhat-Bullish   \n4                   0.171698        Somewhat-Bullish   \n..                       ...                     ...   \n195                 0.047713                 Neutral   \n196                 0.160595        Somewhat-Bullish   \n197                 0.258350        Somewhat-Bullish   \n198                 0.348682        Somewhat-Bullish   \n199                 0.105374                 Neutral   \n\n                                      ticker_sentiment  \n0    [{'ticker': 'AAPL', 'relevance_score': '0.9821...  \n1    [{'ticker': 'MSFT', 'relevance_score': '0.0770...  \n2    [{'ticker': 'AAPL', 'relevance_score': '0.7383...  \n3    [{'ticker': 'AAPL', 'relevance_score': '0.7469...  \n4    [{'ticker': 'AAPL', 'relevance_score': '0.1125...  \n..                                                 ...  \n195  [{'ticker': 'META', 'relevance_score': '0.4360...  \n196  [{'ticker': 'AAPL', 'relevance_score': '0.2228...  \n197  [{'ticker': 'AAPL', 'relevance_score': '0.5191...  \n198  [{'ticker': 'AMD', 'relevance_score': '0.46169...  \n199  [{'ticker': 'META', 'relevance_score': '0.2653...  \n\n[200 rows x 13 columns]",
      "text/html": "<div>\n<style scoped>\n    .dataframe tbody tr th:only-of-type {\n        vertical-align: middle;\n    }\n\n    .dataframe tbody tr th {\n        vertical-align: top;\n    }\n\n    .dataframe thead th {\n        text-align: right;\n    }\n</style>\n<table border=\"1\" class=\"dataframe\">\n  <thead>\n    <tr style=\"text-align: right;\">\n      <th></th>\n      <th>title</th>\n      <th>url</th>\n      <th>time_published</th>\n      <th>authors</th>\n      <th>summary</th>\n      <th>banner_image</th>\n      <th>source</th>\n      <th>category_within_source</th>\n      <th>source_domain</th>\n      <th>topics</th>\n      <th>overall_sentiment_score</th>\n      <th>overall_sentiment_label</th>\n      <th>ticker_sentiment</th>\n    </tr>\n  </thead>\n  <tbody>\n    <tr>\n      <th>0</th>\n      <td>A New Reason for Apple to Buy Disney, Accordin...</td>\n      <td>https://www.barrons.com/articles/walt-disney-a...</td>\n      <td>20230330T203800</td>\n      <td>[Teresa Rivas]</td>\n      <td>Apple Should Buy Disney, Analyst Says. Disney ...</td>\n      <td>https://images.barrons.com/im-754129/social</td>\n      <td>Barrons</td>\n      <td>n/a</td>\n      <td>www.barrons.com</td>\n      <td>[{'topic': 'Technology', 'relevance_score': '1...</td>\n      <td>-0.096426</td>\n      <td>Neutral</td>\n      <td>[{'ticker': 'AAPL', 'relevance_score': '0.9821...</td>\n    </tr>\n    <tr>\n      <th>1</th>\n      <td>Explainer: How a massive options trade by a JP...</td>\n      <td>https://www.reuters.com/markets/us/how-massive...</td>\n      <td>20230330T195300</td>\n      <td>[Saqib Iqbal Ahmed]</td>\n      <td>Explainer: How a massive options trade by a JP...</td>\n      <td>https://www.reuters.com/pf/resources/images/re...</td>\n      <td>Reuters</td>\n      <td>Markets</td>\n      <td>www.reuters.com</td>\n      <td>[{'topic': 'Technology', 'relevance_score': '0...</td>\n      <td>-0.028466</td>\n      <td>Neutral</td>\n      <td>[{'ticker': 'MSFT', 'relevance_score': '0.0770...</td>\n    </tr>\n    <tr>\n      <th>2</th>\n      <td>Apple Edges Higher As Traders Await Fed's Favo...</td>\n      <td>https://www.benzinga.com/trading-ideas/long-id...</td>\n      <td>20230330T180201</td>\n      <td>[Melanie Schaffer]</td>\n      <td>Apple, Inc AAPL was edging up about 0.5% on Th...</td>\n      <td>https://cdn.benzinga.com/files/images/story/20...</td>\n      <td>Benzinga</td>\n      <td>Trading</td>\n      <td>www.benzinga.com</td>\n      <td>[{'topic': 'Technology', 'relevance_score': '1...</td>\n      <td>-0.011986</td>\n      <td>Neutral</td>\n      <td>[{'ticker': 'AAPL', 'relevance_score': '0.7383...</td>\n    </tr>\n    <tr>\n      <th>3</th>\n      <td>Apple buying Disney? Analyst explains why they...</td>\n      <td>https://www.marketwatch.com/story/apple-buying...</td>\n      <td>20230330T165300</td>\n      <td>[Jon Swartz]</td>\n      <td>Needham analyst Laura Martin believes Apple wo...</td>\n      <td>https://images.mktw.net/im-754331/social</td>\n      <td>MarketWatch</td>\n      <td>Top Stories</td>\n      <td>www.marketwatch.com</td>\n      <td>[{'topic': 'Technology', 'relevance_score': '1...</td>\n      <td>0.301034</td>\n      <td>Somewhat-Bullish</td>\n      <td>[{'ticker': 'AAPL', 'relevance_score': '0.7469...</td>\n    </tr>\n    <tr>\n      <th>4</th>\n      <td>Comcast  ( CMCSA )  Expands Xfinity 10G Networ...</td>\n      <td>https://www.zacks.com/stock/news/2072596/comca...</td>\n      <td>20230330T163800</td>\n      <td>[Zacks Investment Research]</td>\n      <td>Comcast (CMCSA) announces expansion of high-sp...</td>\n      <td>https://staticx-tuner.zacks.com/images/article...</td>\n      <td>Zacks Commentary</td>\n      <td>n/a</td>\n      <td>www.zacks.com</td>\n      <td>[{'topic': 'Earnings', 'relevance_score': '0.8...</td>\n      <td>0.171698</td>\n      <td>Somewhat-Bullish</td>\n      <td>[{'ticker': 'AAPL', 'relevance_score': '0.1125...</td>\n    </tr>\n    <tr>\n      <th>...</th>\n      <td>...</td>\n      <td>...</td>\n      <td>...</td>\n      <td>...</td>\n      <td>...</td>\n      <td>...</td>\n      <td>...</td>\n      <td>...</td>\n      <td>...</td>\n      <td>...</td>\n      <td>...</td>\n      <td>...</td>\n      <td>...</td>\n    </tr>\n    <tr>\n      <th>195</th>\n      <td>Meta Loses Veteran Ad Official Amid Current Or...</td>\n      <td>https://www.benzinga.com/news/23/03/31470536/m...</td>\n      <td>20230323T113037</td>\n      <td>[Anusuya Lahiri]</td>\n      <td>Meta Platforms, Inc's META veteran advertising...</td>\n      <td>https://cdn.benzinga.com/files/images/story/20...</td>\n      <td>Benzinga</td>\n      <td>News</td>\n      <td>www.benzinga.com</td>\n      <td>[{'topic': 'Technology', 'relevance_score': '1...</td>\n      <td>0.047713</td>\n      <td>Neutral</td>\n      <td>[{'ticker': 'META', 'relevance_score': '0.4360...</td>\n    </tr>\n    <tr>\n      <th>196</th>\n      <td>Apple considers bidding for English football s...</td>\n      <td>https://www.reuters.com/business/media-telecom...</td>\n      <td>20230323T105800</td>\n      <td>[Reuters]</td>\n      <td>Apple considers bidding for English football s...</td>\n      <td>https://cloudfront-us-east-2.images.arcpublish...</td>\n      <td>Reuters</td>\n      <td>Business</td>\n      <td>www.reuters.com</td>\n      <td>[{'topic': 'Technology', 'relevance_score': '1...</td>\n      <td>0.160595</td>\n      <td>Somewhat-Bullish</td>\n      <td>[{'ticker': 'AAPL', 'relevance_score': '0.2228...</td>\n    </tr>\n    <tr>\n      <th>197</th>\n      <td>Why Apple Is Moving in the Right Direction</td>\n      <td>https://www.fool.com/investing/2023/03/23/why-...</td>\n      <td>20230323T102200</td>\n      <td>[David Jagielski]</td>\n      <td>The company's service revenue hit a record hig...</td>\n      <td>https://g.foolcdn.com/image/?url=https%3A%2F%2...</td>\n      <td>Motley Fool</td>\n      <td>n/a</td>\n      <td>www.fool.com</td>\n      <td>[{'topic': 'Earnings', 'relevance_score': '0.9...</td>\n      <td>0.258350</td>\n      <td>Somewhat-Bullish</td>\n      <td>[{'ticker': 'AAPL', 'relevance_score': '0.5191...</td>\n    </tr>\n    <tr>\n      <th>198</th>\n      <td>Better Buy: Apple vs. AMD</td>\n      <td>https://www.fool.com/investing/2023/03/23/bett...</td>\n      <td>20230323T100000</td>\n      <td>[Dani Cook]</td>\n      <td>The tech market could be on a recovery path, w...</td>\n      <td>https://media.ycharts.com/charts/061133027e0e2...</td>\n      <td>Motley Fool</td>\n      <td>n/a</td>\n      <td>www.fool.com</td>\n      <td>[{'topic': 'Financial Markets', 'relevance_sco...</td>\n      <td>0.348682</td>\n      <td>Somewhat-Bullish</td>\n      <td>[{'ticker': 'AMD', 'relevance_score': '0.46169...</td>\n    </tr>\n    <tr>\n      <th>199</th>\n      <td>Instagram Could Show Share Counts On Reels To ...</td>\n      <td>https://www.benzinga.com/news/23/03/31470059/i...</td>\n      <td>20230323T095515</td>\n      <td>[Ananya Gairola]</td>\n      <td>Meta Platforms Inc. META seems to be working o...</td>\n      <td>https://cdn.benzinga.com/files/images/story/20...</td>\n      <td>Benzinga</td>\n      <td>News</td>\n      <td>www.benzinga.com</td>\n      <td>[{'topic': 'Technology', 'relevance_score': '1...</td>\n      <td>0.105374</td>\n      <td>Neutral</td>\n      <td>[{'ticker': 'META', 'relevance_score': '0.2653...</td>\n    </tr>\n  </tbody>\n</table>\n<p>200 rows × 13 columns</p>\n</div>"
     },
     "execution_count": 4,
     "metadata": {},
     "output_type": "execute_result"
    }
   ],
   "source": [
    "# Call the alpha vantage api to get the news data\n",
    "\n",
    "# Set the ticker\n",
    "ticker = \"AAPL\"\n",
    "\n",
    "# Call the news api\n",
    "news = api_calls.call_alpha_vantage_news(ticker)\n",
    "\n",
    "\n",
    "# Create a Pandas DataFrame\n",
    "stock_news = pd.DataFrame(news['feed'])\n",
    "\n",
    "# Display sample data\n",
    "stock_news"
   ],
   "metadata": {
    "collapsed": false,
    "ExecuteTime": {
     "start_time": "2023-03-30T17:40:59.541939Z",
     "end_time": "2023-03-30T17:40:59.836858Z"
    }
   }
  },
  {
   "cell_type": "code",
   "execution_count": 4,
   "outputs": [],
   "source": [],
   "metadata": {
    "collapsed": false,
    "ExecuteTime": {
     "start_time": "2023-03-30T17:40:59.837858Z",
     "end_time": "2023-03-30T17:40:59.854964Z"
    }
   }
  }
 ],
 "metadata": {
  "kernelspec": {
   "display_name": "Python 3",
   "language": "python",
   "name": "python3"
  },
  "language_info": {
   "codemirror_mode": {
    "name": "ipython",
    "version": 2
   },
   "file_extension": ".py",
   "mimetype": "text/x-python",
   "name": "python",
   "nbconvert_exporter": "python",
   "pygments_lexer": "ipython2",
   "version": "2.7.6"
  }
 },
 "nbformat": 4,
 "nbformat_minor": 0
}
