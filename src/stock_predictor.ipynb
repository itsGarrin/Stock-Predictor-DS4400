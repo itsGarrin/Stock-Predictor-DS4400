{
 "cells": [
  {
   "cell_type": "code",
   "execution_count": 20,
   "metadata": {
    "collapsed": true,
    "ExecuteTime": {
     "start_time": "2023-03-30T12:37:24.149526Z",
     "end_time": "2023-03-30T12:37:24.160795Z"
    }
   },
   "outputs": [],
   "source": [
    "# Import libraries and dependencies\n",
    "import api_calls\n",
    "import datetime as dt\n",
    "import pandas as pd\n",
    "from alpaca.data import TimeFrame\n",
    "from alpaca.data import BarSet\n",
    "import json"
   ]
  },
  {
   "cell_type": "code",
   "execution_count": 43,
   "outputs": [
    {
     "data": {
      "text/plain": "    symbol                  timestamp     open    high     low    close  \\\n0      SPY  2022-03-31T04:00:00+00:00  457.890  458.76  451.16  451.640   \n1      SPY  2022-04-01T04:00:00+00:00  453.310  453.46  449.14  452.920   \n2      SPY  2022-04-04T04:00:00+00:00  453.130  456.91  452.26  456.800   \n3      SPY  2022-04-05T04:00:00+00:00  455.220  457.83  449.82  451.030   \n4      SPY  2022-04-06T04:00:00+00:00  446.890  448.93  443.47  446.520   \n..     ...                        ...      ...     ...     ...      ...   \n246    SPY  2023-03-24T04:00:00+00:00  391.841  395.84  389.40  395.750   \n247    SPY  2023-03-27T04:00:00+00:00  398.120  398.92  395.56  396.490   \n248    SPY  2023-03-28T04:00:00+00:00  395.770  396.49  393.69  395.600   \n249    SPY  2023-03-29T04:00:00+00:00  399.925  401.60  398.68  401.350   \n250    SPY  2023-03-30T04:00:00+00:00  404.090  404.35  402.13  402.282   \n\n          volume  trade_count        vwap  \n0    119151277.0     751165.0  455.454712  \n1     88675787.0     624742.0  451.850852  \n2     59413904.0     502676.0  455.311892  \n3     73968352.0     643524.0  453.410072  \n4    104761415.0     892577.0  446.339985  \n..           ...          ...         ...  \n246  107053295.0     801995.0  393.110712  \n247   74024860.0     569880.0  396.937252  \n248   62871680.0     494862.0  395.259804  \n249   76716997.0     546559.0  399.871539  \n250   34161003.0     275580.0  403.335870  \n\n[251 rows x 9 columns]",
      "text/html": "<div>\n<style scoped>\n    .dataframe tbody tr th:only-of-type {\n        vertical-align: middle;\n    }\n\n    .dataframe tbody tr th {\n        vertical-align: top;\n    }\n\n    .dataframe thead th {\n        text-align: right;\n    }\n</style>\n<table border=\"1\" class=\"dataframe\">\n  <thead>\n    <tr style=\"text-align: right;\">\n      <th></th>\n      <th>symbol</th>\n      <th>timestamp</th>\n      <th>open</th>\n      <th>high</th>\n      <th>low</th>\n      <th>close</th>\n      <th>volume</th>\n      <th>trade_count</th>\n      <th>vwap</th>\n    </tr>\n  </thead>\n  <tbody>\n    <tr>\n      <th>0</th>\n      <td>SPY</td>\n      <td>2022-03-31T04:00:00+00:00</td>\n      <td>457.890</td>\n      <td>458.76</td>\n      <td>451.16</td>\n      <td>451.640</td>\n      <td>119151277.0</td>\n      <td>751165.0</td>\n      <td>455.454712</td>\n    </tr>\n    <tr>\n      <th>1</th>\n      <td>SPY</td>\n      <td>2022-04-01T04:00:00+00:00</td>\n      <td>453.310</td>\n      <td>453.46</td>\n      <td>449.14</td>\n      <td>452.920</td>\n      <td>88675787.0</td>\n      <td>624742.0</td>\n      <td>451.850852</td>\n    </tr>\n    <tr>\n      <th>2</th>\n      <td>SPY</td>\n      <td>2022-04-04T04:00:00+00:00</td>\n      <td>453.130</td>\n      <td>456.91</td>\n      <td>452.26</td>\n      <td>456.800</td>\n      <td>59413904.0</td>\n      <td>502676.0</td>\n      <td>455.311892</td>\n    </tr>\n    <tr>\n      <th>3</th>\n      <td>SPY</td>\n      <td>2022-04-05T04:00:00+00:00</td>\n      <td>455.220</td>\n      <td>457.83</td>\n      <td>449.82</td>\n      <td>451.030</td>\n      <td>73968352.0</td>\n      <td>643524.0</td>\n      <td>453.410072</td>\n    </tr>\n    <tr>\n      <th>4</th>\n      <td>SPY</td>\n      <td>2022-04-06T04:00:00+00:00</td>\n      <td>446.890</td>\n      <td>448.93</td>\n      <td>443.47</td>\n      <td>446.520</td>\n      <td>104761415.0</td>\n      <td>892577.0</td>\n      <td>446.339985</td>\n    </tr>\n    <tr>\n      <th>...</th>\n      <td>...</td>\n      <td>...</td>\n      <td>...</td>\n      <td>...</td>\n      <td>...</td>\n      <td>...</td>\n      <td>...</td>\n      <td>...</td>\n      <td>...</td>\n    </tr>\n    <tr>\n      <th>246</th>\n      <td>SPY</td>\n      <td>2023-03-24T04:00:00+00:00</td>\n      <td>391.841</td>\n      <td>395.84</td>\n      <td>389.40</td>\n      <td>395.750</td>\n      <td>107053295.0</td>\n      <td>801995.0</td>\n      <td>393.110712</td>\n    </tr>\n    <tr>\n      <th>247</th>\n      <td>SPY</td>\n      <td>2023-03-27T04:00:00+00:00</td>\n      <td>398.120</td>\n      <td>398.92</td>\n      <td>395.56</td>\n      <td>396.490</td>\n      <td>74024860.0</td>\n      <td>569880.0</td>\n      <td>396.937252</td>\n    </tr>\n    <tr>\n      <th>248</th>\n      <td>SPY</td>\n      <td>2023-03-28T04:00:00+00:00</td>\n      <td>395.770</td>\n      <td>396.49</td>\n      <td>393.69</td>\n      <td>395.600</td>\n      <td>62871680.0</td>\n      <td>494862.0</td>\n      <td>395.259804</td>\n    </tr>\n    <tr>\n      <th>249</th>\n      <td>SPY</td>\n      <td>2023-03-29T04:00:00+00:00</td>\n      <td>399.925</td>\n      <td>401.60</td>\n      <td>398.68</td>\n      <td>401.350</td>\n      <td>76716997.0</td>\n      <td>546559.0</td>\n      <td>399.871539</td>\n    </tr>\n    <tr>\n      <th>250</th>\n      <td>SPY</td>\n      <td>2023-03-30T04:00:00+00:00</td>\n      <td>404.090</td>\n      <td>404.35</td>\n      <td>402.13</td>\n      <td>402.282</td>\n      <td>34161003.0</td>\n      <td>275580.0</td>\n      <td>403.335870</td>\n    </tr>\n  </tbody>\n</table>\n<p>251 rows × 9 columns</p>\n</div>"
     },
     "execution_count": 43,
     "metadata": {},
     "output_type": "execute_result"
    }
   ],
   "source": [
    "# Call the alpaca api to get the data\n",
    "\n",
    "# Set the ticker\n",
    "ticker = \"SPY\"\n",
    "\n",
    "# Set timeframe to '1D'\n",
    "timeframe = TimeFrame.Day\n",
    "\n",
    "# Set start and end datetimes of 1 year, between now and 365 days ago.\n",
    "start_date = dt.datetime.now() - dt.timedelta(365)\n",
    "end_date = dt.datetime.now()\n",
    "\n",
    "# Get 1 year's worth of historical data for SPY\n",
    "alpaca = api_calls.call_alpaca(ticker, timeframe, start_date, end_date)\n",
    "\n",
    "# Parse the data\n",
    "data = BarSet.json(alpaca)\n",
    "\n",
    "# Convert the data to a json string\n",
    "data = json.loads(data)\n",
    "\n",
    "# Create a Pandas DataFrame\n",
    "df = pd.DataFrame(data['data'][ticker])\n",
    "\n",
    "# Display sample data\n",
    "df"
   ],
   "metadata": {
    "collapsed": false,
    "ExecuteTime": {
     "start_time": "2023-03-30T12:46:27.839391Z",
     "end_time": "2023-03-30T12:46:28.002145Z"
    }
   }
  },
  {
   "cell_type": "code",
   "execution_count": null,
   "outputs": [],
   "source": [],
   "metadata": {
    "collapsed": false
   }
  }
 ],
 "metadata": {
  "kernelspec": {
   "display_name": "Python 3",
   "language": "python",
   "name": "python3"
  },
  "language_info": {
   "codemirror_mode": {
    "name": "ipython",
    "version": 2
   },
   "file_extension": ".py",
   "mimetype": "text/x-python",
   "name": "python",
   "nbconvert_exporter": "python",
   "pygments_lexer": "ipython2",
   "version": "2.7.6"
  }
 },
 "nbformat": 4,
 "nbformat_minor": 0
}
