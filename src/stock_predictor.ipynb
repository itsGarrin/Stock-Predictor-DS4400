{
 "cells": [
  {
   "cell_type": "code",
   "execution_count": 1,
   "metadata": {
    "collapsed": true,
    "ExecuteTime": {
     "start_time": "2023-04-02T18:27:48.568114Z",
     "end_time": "2023-04-02T18:27:49.675895Z"
    }
   },
   "outputs": [],
   "source": [
    "import datetime as dt\n",
    "\n",
    "import matplotlib.pyplot as plt\n",
    "import numpy as np\n",
    "import pandas as pd\n",
    "from alpaca.data import TimeFrame\n",
    "\n",
    "# Import libraries and dependencies\n",
    "import api_calls"
   ]
  },
  {
   "cell_type": "code",
   "execution_count": 2,
   "outputs": [
    {
     "data": {
      "text/plain": "           1. open 2. high    3. low 4. close 5. adjusted close  6. volume  \\\n2023-03-31  207.24  212.17    206.77   211.94            211.94   25440273   \n2023-03-30  203.38  208.09    202.82   207.84            207.84   22608303   \n2023-03-29  203.56  205.72  202.5355   205.35            205.35   18851137   \n2023-03-28  200.15  201.03     197.9   200.68            200.68   19127295   \n2023-03-27  204.81  205.86    201.36   202.84            202.84   18527184   \n...            ...     ...       ...      ...               ...        ...   \n2022-11-11  109.23   114.9    108.81   113.02            113.02   59961742   \n2022-11-10  107.12  112.75    104.61   111.87            111.87   80670961   \n2022-11-09  101.72   104.9    100.74   101.47            101.47  107677284   \n2022-11-08   95.92    97.8     94.79    96.47             96.47   52088320   \n2022-11-07   94.78   96.88      93.1    96.72             96.72   81987295   \n\n           7. dividend amount 8. split coefficient  \n2023-03-31             0.0000                  1.0  \n2023-03-30             0.0000                  1.0  \n2023-03-29             0.0000                  1.0  \n2023-03-28             0.0000                  1.0  \n2023-03-27             0.0000                  1.0  \n...                       ...                  ...  \n2022-11-11             0.0000                  1.0  \n2022-11-10             0.0000                  1.0  \n2022-11-09             0.0000                  1.0  \n2022-11-08             0.0000                  1.0  \n2022-11-07             0.0000                  1.0  \n\n[100 rows x 8 columns]",
      "text/html": "<div>\n<style scoped>\n    .dataframe tbody tr th:only-of-type {\n        vertical-align: middle;\n    }\n\n    .dataframe tbody tr th {\n        vertical-align: top;\n    }\n\n    .dataframe thead th {\n        text-align: right;\n    }\n</style>\n<table border=\"1\" class=\"dataframe\">\n  <thead>\n    <tr style=\"text-align: right;\">\n      <th></th>\n      <th>1. open</th>\n      <th>2. high</th>\n      <th>3. low</th>\n      <th>4. close</th>\n      <th>5. adjusted close</th>\n      <th>6. volume</th>\n      <th>7. dividend amount</th>\n      <th>8. split coefficient</th>\n    </tr>\n  </thead>\n  <tbody>\n    <tr>\n      <th>2023-03-31</th>\n      <td>207.24</td>\n      <td>212.17</td>\n      <td>206.77</td>\n      <td>211.94</td>\n      <td>211.94</td>\n      <td>25440273</td>\n      <td>0.0000</td>\n      <td>1.0</td>\n    </tr>\n    <tr>\n      <th>2023-03-30</th>\n      <td>203.38</td>\n      <td>208.09</td>\n      <td>202.82</td>\n      <td>207.84</td>\n      <td>207.84</td>\n      <td>22608303</td>\n      <td>0.0000</td>\n      <td>1.0</td>\n    </tr>\n    <tr>\n      <th>2023-03-29</th>\n      <td>203.56</td>\n      <td>205.72</td>\n      <td>202.5355</td>\n      <td>205.35</td>\n      <td>205.35</td>\n      <td>18851137</td>\n      <td>0.0000</td>\n      <td>1.0</td>\n    </tr>\n    <tr>\n      <th>2023-03-28</th>\n      <td>200.15</td>\n      <td>201.03</td>\n      <td>197.9</td>\n      <td>200.68</td>\n      <td>200.68</td>\n      <td>19127295</td>\n      <td>0.0000</td>\n      <td>1.0</td>\n    </tr>\n    <tr>\n      <th>2023-03-27</th>\n      <td>204.81</td>\n      <td>205.86</td>\n      <td>201.36</td>\n      <td>202.84</td>\n      <td>202.84</td>\n      <td>18527184</td>\n      <td>0.0000</td>\n      <td>1.0</td>\n    </tr>\n    <tr>\n      <th>...</th>\n      <td>...</td>\n      <td>...</td>\n      <td>...</td>\n      <td>...</td>\n      <td>...</td>\n      <td>...</td>\n      <td>...</td>\n      <td>...</td>\n    </tr>\n    <tr>\n      <th>2022-11-11</th>\n      <td>109.23</td>\n      <td>114.9</td>\n      <td>108.81</td>\n      <td>113.02</td>\n      <td>113.02</td>\n      <td>59961742</td>\n      <td>0.0000</td>\n      <td>1.0</td>\n    </tr>\n    <tr>\n      <th>2022-11-10</th>\n      <td>107.12</td>\n      <td>112.75</td>\n      <td>104.61</td>\n      <td>111.87</td>\n      <td>111.87</td>\n      <td>80670961</td>\n      <td>0.0000</td>\n      <td>1.0</td>\n    </tr>\n    <tr>\n      <th>2022-11-09</th>\n      <td>101.72</td>\n      <td>104.9</td>\n      <td>100.74</td>\n      <td>101.47</td>\n      <td>101.47</td>\n      <td>107677284</td>\n      <td>0.0000</td>\n      <td>1.0</td>\n    </tr>\n    <tr>\n      <th>2022-11-08</th>\n      <td>95.92</td>\n      <td>97.8</td>\n      <td>94.79</td>\n      <td>96.47</td>\n      <td>96.47</td>\n      <td>52088320</td>\n      <td>0.0000</td>\n      <td>1.0</td>\n    </tr>\n    <tr>\n      <th>2022-11-07</th>\n      <td>94.78</td>\n      <td>96.88</td>\n      <td>93.1</td>\n      <td>96.72</td>\n      <td>96.72</td>\n      <td>81987295</td>\n      <td>0.0000</td>\n      <td>1.0</td>\n    </tr>\n  </tbody>\n</table>\n<p>100 rows × 8 columns</p>\n</div>"
     },
     "execution_count": 2,
     "metadata": {},
     "output_type": "execute_result"
    }
   ],
   "source": [
    "# Call the alpaca api to get the data\n",
    "\n",
    "# Set the ticker\n",
    "ticker = \"META\"\n",
    "\n",
    "# Set timeframe to '1D'\n",
    "timeframe = TimeFrame.Day\n",
    "\n",
    "# Set start and end datetimes, between now and 100 days ago.\n",
    "start_date = dt.datetime.now() - dt.timedelta(100)\n",
    "end_date = dt.datetime.now()\n",
    "\n",
    "# Get 100 days' worth of historical data for SPY\n",
    "stock_data = api_calls.call_daily(ticker)\n",
    "\n",
    "stock_data_df = pd.DataFrame(stock_data['Time Series (Daily)']).T\n",
    "\n",
    "stock_data_df"
   ],
   "metadata": {
    "collapsed": false,
    "ExecuteTime": {
     "start_time": "2023-04-02T18:27:49.677711Z",
     "end_time": "2023-04-02T18:27:49.894321Z"
    }
   }
  },
  {
   "cell_type": "code",
   "execution_count": 3,
   "outputs": [
    {
     "name": "stderr",
     "output_type": "stream",
     "text": [
      "C:\\Users\\garri\\AppData\\Local\\Temp\\ipykernel_9104\\3421472934.py:14: MatplotlibDeprecationWarning: Support for passing numbers through unit converters is deprecated since 3.5 and support will be removed two minor releases later; use Axis.convert_units instead.\n",
      "  plt.yticks(\n"
     ]
    },
    {
     "data": {
      "text/plain": "<Figure size 432x288 with 1 Axes>",
      "image/png": "[encoded data removed]"
     },
     "metadata": {
      "needs_background": "light"
     },
     "output_type": "display_data"
    }
   ],
   "source": [
    "# Plot the adjusted closing prices of the stock\n",
    "plt.plot(stock_data_df['5. adjusted close'])\n",
    "\n",
    "# Scale the x-axis to show the full range of dates in ascending order\n",
    "plt.xlim(0, len(stock_data_df))\n",
    "\n",
    "# Set the x-tick locations to correspond to just the dates you entered.\n",
    "plt.xticks(range(0, len(stock_data_df), 5), stock_data_df.index[::5], rotation=45)\n",
    "\n",
    "# Scale the y-axis to show the full range of prices\n",
    "plt.ylim(min(stock_data_df['5. adjusted close']), max(stock_data_df['5. adjusted close']))\n",
    "\n",
    "# Set the y-tick locations to correspond to just the prices you entered.\n",
    "plt.yticks(\n",
    "    np.arange(float(min(stock_data_df['5. adjusted close'])), float(max(stock_data_df['5. adjusted close'])), 10.0))\n",
    "\n",
    "# Set the y-axis label\n",
    "plt.ylabel(\"Price ($)\")\n",
    "\n",
    "plt.show()"
   ],
   "metadata": {
    "collapsed": false,
    "ExecuteTime": {
     "start_time": "2023-04-02T18:27:49.896862Z",
     "end_time": "2023-04-02T18:27:50.018320Z"
    }
   }
  },
  {
   "cell_type": "code",
   "execution_count": 4,
   "outputs": [
    {
     "data": {
      "text/plain": "                                                 title  \\\n0    Pitney Bowes  ( NYSE:PBI )  Stock Rating Lower...   \n1    The Charles Schwab Corporation  ( SCHW )  Stoc...   \n2    TD Announces Dividend Rates on Non-Cumulative ...   \n3     QuoteMedia Announces 16% Revenue Growth for 2022   \n4    Investors 'are pretty afraid right now,' finan...   \n..                                                 ...   \n195  H World Group  ( NASDAQ:HTHT )  Now Covered by...   \n196  Aethlon Medical  ( NASDAQ:AEMD )  Research Cov...   \n197  Frontline  ( NYSE:FRO )  Now Covered by Analys...   \n198  Lindblad Expeditions  ( NASDAQ:LIND )  Researc...   \n199  RPM International  ( NYSE:RPM )  Now Covered b...   \n\n                                                   url      time_published  \\\n0    https://www.defenseworld.net/2023/04/01/pitney... 2023-04-01 05:16:42   \n1    https://www.zacks.com/stock/news/2073378/the-c... 2023-03-31 22:00:18   \n2    https://www.newswire.ca/news-releases/td-annou... 2023-03-31 21:20:00   \n3    https://www.globenewswire.com/news-release/202... 2023-03-31 19:10:00   \n4    https://www.cnbc.com/2023/03/31/financial-psyc... 2023-03-31 17:34:49   \n..                                                 ...                 ...   \n195  https://www.defenseworld.net/2023/03/17/h-worl... 2023-03-17 05:24:45   \n196  https://www.defenseworld.net/2023/03/17/aethlo... 2023-03-17 05:24:44   \n197  https://www.defenseworld.net/2023/03/17/frontl... 2023-03-17 05:24:44   \n198  https://www.defenseworld.net/2023/03/17/lindbl... 2023-03-17 05:24:44   \n199  https://www.defenseworld.net/2023/03/17/rpm-in... 2023-03-17 05:24:44   \n\n                         authors  \\\n0          [Defense World Staff]   \n1    [Zacks Investment Research]   \n2                [TD Bank Group]   \n3             [Inc., QuoteMedia]   \n4                   [Annie Nova]   \n..                           ...   \n195        [Defense World Staff]   \n196        [Defense World Staff]   \n197        [Defense World Staff]   \n198        [Defense World Staff]   \n199        [Defense World Staff]   \n\n                                               summary  \\\n0    Pitney Bowes ( NYSE:PBI - Get Rating ) was dow...   \n1    The Charles Schwab Corporation (SCHW) closed t...   \n2    TD Announces Dividend Rates on Non-Cumulative ...   \n3    PHOENIX, March 31, 2023 ( GLOBE NEWSWIRE ) -- ...   \n4    We're in a period of high uncertainty and many...   \n..                                                 ...   \n195  Analysts at StockNews.com started coverage on ...   \n196  Aethlon Medical ( NASDAQ:AEMD ) Research Cover...   \n197  Research analysts at StockNews.com assumed cov...   \n198  Lindblad Expeditions ( NASDAQ:LIND ) Research ...   \n199  RPM International ( NYSE:RPM ) Now Covered by ...   \n\n                                          banner_image            source  \\\n0    https://www.marketbeat.com/logos/pitney-bowes-...     Stocknews.com   \n1    https://staticx-tuner.zacks.com/images/default...  Zacks Commentary   \n2                                                        Canada Newswire   \n3    https://ml.globenewswire.com/Resource/Download...     GlobeNewswire   \n4    https://image.cnbcfm.com/api/v1/image/10721798...              CNBC   \n..                                                 ...               ...   \n195  https://www.marketbeat.com/logos/h-world-group...     Stocknews.com   \n196  https://www.marketbeat.com/logos/aethlon-medic...     Stocknews.com   \n197  https://www.americanbankingnews.com/wp-content...     Stocknews.com   \n198  https://www.marketbeat.com/logos/lindblad-expe...     Stocknews.com   \n199  https://www.marketbeat.com/scripts/RatingsChar...     Stocknews.com   \n\n    category_within_source          source_domain  \\\n0                      n/a   www.defenseworld.net   \n1                      n/a          www.zacks.com   \n2                      n/a        www.newswire.ca   \n3                      n/a  www.globenewswire.com   \n4                 Top News           www.cnbc.com   \n..                     ...                    ...   \n195                    n/a   www.defenseworld.net   \n196                    n/a   www.defenseworld.net   \n197                    n/a   www.defenseworld.net   \n198                    n/a   www.defenseworld.net   \n199                    n/a   www.defenseworld.net   \n\n                                                topics  \\\n0    [{'topic': 'Financial Markets', 'relevance_sco...   \n1    [{'topic': 'Earnings', 'relevance_score': '0.9...   \n2    [{'topic': 'Technology', 'relevance_score': '0...   \n3    [{'topic': 'Financial Markets', 'relevance_sco...   \n4    [{'topic': 'Economy - Monetary', 'relevance_sc...   \n..                                                 ...   \n195  [{'topic': 'Retail & Wholesale', 'relevance_sc...   \n196  [{'topic': 'Life Sciences', 'relevance_score':...   \n197  [{'topic': 'Retail & Wholesale', 'relevance_sc...   \n198  [{'topic': 'Retail & Wholesale', 'relevance_sc...   \n199  [{'topic': 'Life Sciences', 'relevance_score':...   \n\n     overall_sentiment_score overall_sentiment_label  \\\n0                   0.291819        Somewhat-Bullish   \n1                   0.191206        Somewhat-Bullish   \n2                   0.377385                 Bullish   \n3                   0.387196                 Bullish   \n4                  -0.024427                 Neutral   \n..                       ...                     ...   \n195                 0.287845        Somewhat-Bullish   \n196                 0.181982        Somewhat-Bullish   \n197                 0.215066        Somewhat-Bullish   \n198                 0.244567        Somewhat-Bullish   \n199                 0.258671        Somewhat-Bullish   \n\n                                      ticker_sentiment  \n0    [{'ticker': 'BLK', 'relevance_score': '0.14646...  \n1    [{'ticker': 'SCHW', 'relevance_score': '0.6957...  \n2    [{'ticker': 'TD', 'relevance_score': '0.967314...  \n3    [{'ticker': 'BOM', 'relevance_score': '0.03566...  \n4    [{'ticker': 'SCHW', 'relevance_score': '0.0875...  \n..                                                 ...  \n195  [{'ticker': 'DKNG', 'relevance_score': '0.0644...  \n196  [{'ticker': 'DKNG', 'relevance_score': '0.0925...  \n197  [{'ticker': 'DKNG', 'relevance_score': '0.0810...  \n198  [{'ticker': 'BLK', 'relevance_score': '0.15851...  \n199  [{'ticker': 'DKNG', 'relevance_score': '0.0625...  \n\n[200 rows x 13 columns]",
      "text/html": "<div>\n<style scoped>\n    .dataframe tbody tr th:only-of-type {\n        vertical-align: middle;\n    }\n\n    .dataframe tbody tr th {\n        vertical-align: top;\n    }\n\n    .dataframe thead th {\n        text-align: right;\n    }\n</style>\n<table border=\"1\" class=\"dataframe\">\n  <thead>\n    <tr style=\"text-align: right;\">\n      <th></th>\n      <th>title</th>\n      <th>url</th>\n      <th>time_published</th>\n      <th>authors</th>\n      <th>summary</th>\n      <th>banner_image</th>\n      <th>source</th>\n      <th>category_within_source</th>\n      <th>source_domain</th>\n      <th>topics</th>\n      <th>overall_sentiment_score</th>\n      <th>overall_sentiment_label</th>\n      <th>ticker_sentiment</th>\n    </tr>\n  </thead>\n  <tbody>\n    <tr>\n      <th>0</th>\n      <td>Pitney Bowes  ( NYSE:PBI )  Stock Rating Lower...</td>\n      <td>https://www.defenseworld.net/2023/04/01/pitney...</td>\n      <td>2023-04-01 05:16:42</td>\n      <td>[Defense World Staff]</td>\n      <td>Pitney Bowes ( NYSE:PBI - Get Rating ) was dow...</td>\n      <td>https://www.marketbeat.com/logos/pitney-bowes-...</td>\n      <td>Stocknews.com</td>\n      <td>n/a</td>\n      <td>www.defenseworld.net</td>\n      <td>[{'topic': 'Financial Markets', 'relevance_sco...</td>\n      <td>0.291819</td>\n      <td>Somewhat-Bullish</td>\n      <td>[{'ticker': 'BLK', 'relevance_score': '0.14646...</td>\n    </tr>\n    <tr>\n      <th>1</th>\n      <td>The Charles Schwab Corporation  ( SCHW )  Stoc...</td>\n      <td>https://www.zacks.com/stock/news/2073378/the-c...</td>\n      <td>2023-03-31 22:00:18</td>\n      <td>[Zacks Investment Research]</td>\n      <td>The Charles Schwab Corporation (SCHW) closed t...</td>\n      <td>https://staticx-tuner.zacks.com/images/default...</td>\n      <td>Zacks Commentary</td>\n      <td>n/a</td>\n      <td>www.zacks.com</td>\n      <td>[{'topic': 'Earnings', 'relevance_score': '0.9...</td>\n      <td>0.191206</td>\n      <td>Somewhat-Bullish</td>\n      <td>[{'ticker': 'SCHW', 'relevance_score': '0.6957...</td>\n    </tr>\n    <tr>\n      <th>2</th>\n      <td>TD Announces Dividend Rates on Non-Cumulative ...</td>\n      <td>https://www.newswire.ca/news-releases/td-annou...</td>\n      <td>2023-03-31 21:20:00</td>\n      <td>[TD Bank Group]</td>\n      <td>TD Announces Dividend Rates on Non-Cumulative ...</td>\n      <td></td>\n      <td>Canada Newswire</td>\n      <td>n/a</td>\n      <td>www.newswire.ca</td>\n      <td>[{'topic': 'Technology', 'relevance_score': '0...</td>\n      <td>0.377385</td>\n      <td>Bullish</td>\n      <td>[{'ticker': 'TD', 'relevance_score': '0.967314...</td>\n    </tr>\n    <tr>\n      <th>3</th>\n      <td>QuoteMedia Announces 16% Revenue Growth for 2022</td>\n      <td>https://www.globenewswire.com/news-release/202...</td>\n      <td>2023-03-31 19:10:00</td>\n      <td>[Inc., QuoteMedia]</td>\n      <td>PHOENIX, March 31, 2023 ( GLOBE NEWSWIRE ) -- ...</td>\n      <td>https://ml.globenewswire.com/Resource/Download...</td>\n      <td>GlobeNewswire</td>\n      <td>n/a</td>\n      <td>www.globenewswire.com</td>\n      <td>[{'topic': 'Financial Markets', 'relevance_sco...</td>\n      <td>0.387196</td>\n      <td>Bullish</td>\n      <td>[{'ticker': 'BOM', 'relevance_score': '0.03566...</td>\n    </tr>\n    <tr>\n      <th>4</th>\n      <td>Investors 'are pretty afraid right now,' finan...</td>\n      <td>https://www.cnbc.com/2023/03/31/financial-psyc...</td>\n      <td>2023-03-31 17:34:49</td>\n      <td>[Annie Nova]</td>\n      <td>We're in a period of high uncertainty and many...</td>\n      <td>https://image.cnbcfm.com/api/v1/image/10721798...</td>\n      <td>CNBC</td>\n      <td>Top News</td>\n      <td>www.cnbc.com</td>\n      <td>[{'topic': 'Economy - Monetary', 'relevance_sc...</td>\n      <td>-0.024427</td>\n      <td>Neutral</td>\n      <td>[{'ticker': 'SCHW', 'relevance_score': '0.0875...</td>\n    </tr>\n    <tr>\n      <th>...</th>\n      <td>...</td>\n      <td>...</td>\n      <td>...</td>\n      <td>...</td>\n      <td>...</td>\n      <td>...</td>\n      <td>...</td>\n      <td>...</td>\n      <td>...</td>\n      <td>...</td>\n      <td>...</td>\n      <td>...</td>\n      <td>...</td>\n    </tr>\n    <tr>\n      <th>195</th>\n      <td>H World Group  ( NASDAQ:HTHT )  Now Covered by...</td>\n      <td>https://www.defenseworld.net/2023/03/17/h-worl...</td>\n      <td>2023-03-17 05:24:45</td>\n      <td>[Defense World Staff]</td>\n      <td>Analysts at StockNews.com started coverage on ...</td>\n      <td>https://www.marketbeat.com/logos/h-world-group...</td>\n      <td>Stocknews.com</td>\n      <td>n/a</td>\n      <td>www.defenseworld.net</td>\n      <td>[{'topic': 'Retail &amp; Wholesale', 'relevance_sc...</td>\n      <td>0.287845</td>\n      <td>Somewhat-Bullish</td>\n      <td>[{'ticker': 'DKNG', 'relevance_score': '0.0644...</td>\n    </tr>\n    <tr>\n      <th>196</th>\n      <td>Aethlon Medical  ( NASDAQ:AEMD )  Research Cov...</td>\n      <td>https://www.defenseworld.net/2023/03/17/aethlo...</td>\n      <td>2023-03-17 05:24:44</td>\n      <td>[Defense World Staff]</td>\n      <td>Aethlon Medical ( NASDAQ:AEMD ) Research Cover...</td>\n      <td>https://www.marketbeat.com/logos/aethlon-medic...</td>\n      <td>Stocknews.com</td>\n      <td>n/a</td>\n      <td>www.defenseworld.net</td>\n      <td>[{'topic': 'Life Sciences', 'relevance_score':...</td>\n      <td>0.181982</td>\n      <td>Somewhat-Bullish</td>\n      <td>[{'ticker': 'DKNG', 'relevance_score': '0.0925...</td>\n    </tr>\n    <tr>\n      <th>197</th>\n      <td>Frontline  ( NYSE:FRO )  Now Covered by Analys...</td>\n      <td>https://www.defenseworld.net/2023/03/17/frontl...</td>\n      <td>2023-03-17 05:24:44</td>\n      <td>[Defense World Staff]</td>\n      <td>Research analysts at StockNews.com assumed cov...</td>\n      <td>https://www.americanbankingnews.com/wp-content...</td>\n      <td>Stocknews.com</td>\n      <td>n/a</td>\n      <td>www.defenseworld.net</td>\n      <td>[{'topic': 'Retail &amp; Wholesale', 'relevance_sc...</td>\n      <td>0.215066</td>\n      <td>Somewhat-Bullish</td>\n      <td>[{'ticker': 'DKNG', 'relevance_score': '0.0810...</td>\n    </tr>\n    <tr>\n      <th>198</th>\n      <td>Lindblad Expeditions  ( NASDAQ:LIND )  Researc...</td>\n      <td>https://www.defenseworld.net/2023/03/17/lindbl...</td>\n      <td>2023-03-17 05:24:44</td>\n      <td>[Defense World Staff]</td>\n      <td>Lindblad Expeditions ( NASDAQ:LIND ) Research ...</td>\n      <td>https://www.marketbeat.com/logos/lindblad-expe...</td>\n      <td>Stocknews.com</td>\n      <td>n/a</td>\n      <td>www.defenseworld.net</td>\n      <td>[{'topic': 'Retail &amp; Wholesale', 'relevance_sc...</td>\n      <td>0.244567</td>\n      <td>Somewhat-Bullish</td>\n      <td>[{'ticker': 'BLK', 'relevance_score': '0.15851...</td>\n    </tr>\n    <tr>\n      <th>199</th>\n      <td>RPM International  ( NYSE:RPM )  Now Covered b...</td>\n      <td>https://www.defenseworld.net/2023/03/17/rpm-in...</td>\n      <td>2023-03-17 05:24:44</td>\n      <td>[Defense World Staff]</td>\n      <td>RPM International ( NYSE:RPM ) Now Covered by ...</td>\n      <td>https://www.marketbeat.com/scripts/RatingsChar...</td>\n      <td>Stocknews.com</td>\n      <td>n/a</td>\n      <td>www.defenseworld.net</td>\n      <td>[{'topic': 'Life Sciences', 'relevance_score':...</td>\n      <td>0.258671</td>\n      <td>Somewhat-Bullish</td>\n      <td>[{'ticker': 'DKNG', 'relevance_score': '0.0625...</td>\n    </tr>\n  </tbody>\n</table>\n<p>200 rows × 13 columns</p>\n</div>"
     },
     "execution_count": 4,
     "metadata": {},
     "output_type": "execute_result"
    }
   ],
   "source": [
    "# Call the alpha vantage api to get the news data\n",
    "\n",
    "# Set the ticker\n",
    "ticker = \"SCHW\"\n",
    "\n",
    "# Call the news api\n",
    "news = api_calls.call_news(ticker)\n",
    "\n",
    "# Convert time to datetime\n",
    "for i in range(len(news['feed'])):\n",
    "    news['feed'][i]['time_published'] = dt.datetime.strptime(news['feed'][i]['time_published'], \"%Y%m%dT%H%M%S\")\n",
    "\n",
    "# Create a Pandas DataFrame\n",
    "stock_news = pd.DataFrame(news['feed'])\n",
    "\n",
    "# Display sample data\n",
    "stock_news"
   ],
   "metadata": {
    "collapsed": false,
    "ExecuteTime": {
     "start_time": "2023-04-02T18:27:50.019321Z",
     "end_time": "2023-04-02T18:27:50.468841Z"
    }
   }
  },
  {
   "cell_type": "code",
   "execution_count": 5,
   "outputs": [
    {
     "data": {
      "text/plain": "<Figure size 432x288 with 1 Axes>",
      "image/png": "[encoded data removed]"
     },
     "metadata": {
      "needs_background": "light"
     },
     "output_type": "display_data"
    }
   ],
   "source": [
    "# Create a boxplot of the sentiment analysis of the news\n",
    "stock_news.boxplot(column=['overall_sentiment_score'])\n",
    "plt.show()"
   ],
   "metadata": {
    "collapsed": false,
    "ExecuteTime": {
     "start_time": "2023-04-02T18:27:50.470843Z",
     "end_time": "2023-04-02T18:27:50.546072Z"
    }
   }
  },
  {
   "cell_type": "code",
   "execution_count": 6,
   "outputs": [
    {
     "data": {
      "text/plain": "  Symbol     AssetType                 Name  \\\n0   SCHW  Common Stock  Charles Schwab Corp   \n\n                                         Description     CIK Exchange  \\\n0  The Charles Schwab Corporation is an American ...  316709     NYSE   \n\n  Currency Country   Sector                                         Industry  \\\n0      USD     USA  FINANCE  SECURITY BROKERS, DEALERS & FLOTATION COMPANIES   \n\n   ... EVToRevenue EVToEBITDA   Beta 52WeekHigh 52WeekLow 50DayMovingAverage  \\\n0  ...           -          -  0.931      86.36        45               70.9   \n\n  200DayMovingAverage SharesOutstanding DividendDate ExDividendDate  \n0               72.81        1778030000   2023-02-24     2023-02-09  \n\n[1 rows x 46 columns]",
      "text/html": "<div>\n<style scoped>\n    .dataframe tbody tr th:only-of-type {\n        vertical-align: middle;\n    }\n\n    .dataframe tbody tr th {\n        vertical-align: top;\n    }\n\n    .dataframe thead th {\n        text-align: right;\n    }\n</style>\n<table border=\"1\" class=\"dataframe\">\n  <thead>\n    <tr style=\"text-align: right;\">\n      <th></th>\n      <th>Symbol</th>\n      <th>AssetType</th>\n      <th>Name</th>\n      <th>Description</th>\n      <th>CIK</th>\n      <th>Exchange</th>\n      <th>Currency</th>\n      <th>Country</th>\n      <th>Sector</th>\n      <th>Industry</th>\n      <th>...</th>\n      <th>EVToRevenue</th>\n      <th>EVToEBITDA</th>\n      <th>Beta</th>\n      <th>52WeekHigh</th>\n      <th>52WeekLow</th>\n      <th>50DayMovingAverage</th>\n      <th>200DayMovingAverage</th>\n      <th>SharesOutstanding</th>\n      <th>DividendDate</th>\n      <th>ExDividendDate</th>\n    </tr>\n  </thead>\n  <tbody>\n    <tr>\n      <th>0</th>\n      <td>SCHW</td>\n      <td>Common Stock</td>\n      <td>Charles Schwab Corp</td>\n      <td>The Charles Schwab Corporation is an American ...</td>\n      <td>316709</td>\n      <td>NYSE</td>\n      <td>USD</td>\n      <td>USA</td>\n      <td>FINANCE</td>\n      <td>SECURITY BROKERS, DEALERS &amp; FLOTATION COMPANIES</td>\n      <td>...</td>\n      <td>-</td>\n      <td>-</td>\n      <td>0.931</td>\n      <td>86.36</td>\n      <td>45</td>\n      <td>70.9</td>\n      <td>72.81</td>\n      <td>1778030000</td>\n      <td>2023-02-24</td>\n      <td>2023-02-09</td>\n    </tr>\n  </tbody>\n</table>\n<p>1 rows × 46 columns</p>\n</div>"
     },
     "execution_count": 6,
     "metadata": {},
     "output_type": "execute_result"
    }
   ],
   "source": [
    "# Call the alpha vantage api to get the company overview data\n",
    "\n",
    "# Set the ticker\n",
    "ticker = \"SCHW\"\n",
    "\n",
    "# Call the company overview api\n",
    "company_overview = api_calls.call_company_overview(ticker)\n",
    "\n",
    "# Display sample data\n",
    "pd.DataFrame(company_overview, index=[0])"
   ],
   "metadata": {
    "collapsed": false,
    "ExecuteTime": {
     "start_time": "2023-04-02T18:27:50.547219Z",
     "end_time": "2023-04-02T18:27:50.670521Z"
    }
   }
  },
  {
   "cell_type": "code",
   "execution_count": 7,
   "outputs": [
    {
     "data": {
      "text/plain": "  fiscalDateEnding reportedCurrency grossProfit totalRevenue costOfRevenue  \\\n0       2022-12-31              USD  9388000000  20762000000   11374000000   \n1       2021-12-31              USD  7725000000  18520000000   10795000000   \n2       2020-12-31              USD  4290000000  11691000000    7401000000   \n3       2019-12-31              USD  4853000000  10721000000    5868000000   \n4       2018-12-31              USD  4568000000  10132000000    5564000000   \n\n  costofGoodsAndServicesSold operatingIncome sellingGeneralAndAdministrative  \\\n0                       None      4808000000                      3214000000   \n1                       None      3175000000                      3042000000   \n2                       None      1030000000                      2225000000   \n3                 1064000000      2422000000                      1821000000   \n4                  857000000      2098000000                      1851000000   \n\n  researchAndDevelopment operatingExpenses  ... depreciation  \\\n0                   None        3866000000  ...         None   \n1                   None        3674000000  ...         None   \n2                   None        2815000000  ...         None   \n3                   None        2170000000  ...    322000000   \n4                   None        2157000000  ...    277000000   \n\n  depreciationAndAmortization incomeBeforeTax incomeTaxExpense  \\\n0                   652000000      9388000000       2205000000   \n1                   549000000      7713000000       1858000000   \n2                   414000000      4300000000       1001000000   \n3                   322000000      4848000000       1144000000   \n4                   277000000      4562000000       1055000000   \n\n  interestAndDebtExpense netIncomeFromContinuingOperations  \\\n0             1545000000                        7183000000   \n1              476000000                        5855000000   \n2              418000000                        3299000000   \n3             1064000000                        3704000000   \n4              857000000                        3507000000   \n\n  comprehensiveIncomeNetOfTax         ebit       ebitda   netIncome  \n0                -14329000000  10933000000  11585000000  7183000000  \n1                  -648000000   8189000000   8738000000  5855000000  \n2                  8605000000   4718000000   5132000000  3299000000  \n3                  4044000000   5912000000   6234000000  3704000000  \n4                  3440000000   5419000000   5696000000  3507000000  \n\n[5 rows x 26 columns]",
      "text/html": "<div>\n<style scoped>\n    .dataframe tbody tr th:only-of-type {\n        vertical-align: middle;\n    }\n\n    .dataframe tbody tr th {\n        vertical-align: top;\n    }\n\n    .dataframe thead th {\n        text-align: right;\n    }\n</style>\n<table border=\"1\" class=\"dataframe\">\n  <thead>\n    <tr style=\"text-align: right;\">\n      <th></th>\n      <th>fiscalDateEnding</th>\n      <th>reportedCurrency</th>\n      <th>grossProfit</th>\n      <th>totalRevenue</th>\n      <th>costOfRevenue</th>\n      <th>costofGoodsAndServicesSold</th>\n      <th>operatingIncome</th>\n      <th>sellingGeneralAndAdministrative</th>\n      <th>researchAndDevelopment</th>\n      <th>operatingExpenses</th>\n      <th>...</th>\n      <th>depreciation</th>\n      <th>depreciationAndAmortization</th>\n      <th>incomeBeforeTax</th>\n      <th>incomeTaxExpense</th>\n      <th>interestAndDebtExpense</th>\n      <th>netIncomeFromContinuingOperations</th>\n      <th>comprehensiveIncomeNetOfTax</th>\n      <th>ebit</th>\n      <th>ebitda</th>\n      <th>netIncome</th>\n    </tr>\n  </thead>\n  <tbody>\n    <tr>\n      <th>0</th>\n      <td>2022-12-31</td>\n      <td>USD</td>\n      <td>9388000000</td>\n      <td>20762000000</td>\n      <td>11374000000</td>\n      <td>None</td>\n      <td>4808000000</td>\n      <td>3214000000</td>\n      <td>None</td>\n      <td>3866000000</td>\n      <td>...</td>\n      <td>None</td>\n      <td>652000000</td>\n      <td>9388000000</td>\n      <td>2205000000</td>\n      <td>1545000000</td>\n      <td>7183000000</td>\n      <td>-14329000000</td>\n      <td>10933000000</td>\n      <td>11585000000</td>\n      <td>7183000000</td>\n    </tr>\n    <tr>\n      <th>1</th>\n      <td>2021-12-31</td>\n      <td>USD</td>\n      <td>7725000000</td>\n      <td>18520000000</td>\n      <td>10795000000</td>\n      <td>None</td>\n      <td>3175000000</td>\n      <td>3042000000</td>\n      <td>None</td>\n      <td>3674000000</td>\n      <td>...</td>\n      <td>None</td>\n      <td>549000000</td>\n      <td>7713000000</td>\n      <td>1858000000</td>\n      <td>476000000</td>\n      <td>5855000000</td>\n      <td>-648000000</td>\n      <td>8189000000</td>\n      <td>8738000000</td>\n      <td>5855000000</td>\n    </tr>\n    <tr>\n      <th>2</th>\n      <td>2020-12-31</td>\n      <td>USD</td>\n      <td>4290000000</td>\n      <td>11691000000</td>\n      <td>7401000000</td>\n      <td>None</td>\n      <td>1030000000</td>\n      <td>2225000000</td>\n      <td>None</td>\n      <td>2815000000</td>\n      <td>...</td>\n      <td>None</td>\n      <td>414000000</td>\n      <td>4300000000</td>\n      <td>1001000000</td>\n      <td>418000000</td>\n      <td>3299000000</td>\n      <td>8605000000</td>\n      <td>4718000000</td>\n      <td>5132000000</td>\n      <td>3299000000</td>\n    </tr>\n    <tr>\n      <th>3</th>\n      <td>2019-12-31</td>\n      <td>USD</td>\n      <td>4853000000</td>\n      <td>10721000000</td>\n      <td>5868000000</td>\n      <td>1064000000</td>\n      <td>2422000000</td>\n      <td>1821000000</td>\n      <td>None</td>\n      <td>2170000000</td>\n      <td>...</td>\n      <td>322000000</td>\n      <td>322000000</td>\n      <td>4848000000</td>\n      <td>1144000000</td>\n      <td>1064000000</td>\n      <td>3704000000</td>\n      <td>4044000000</td>\n      <td>5912000000</td>\n      <td>6234000000</td>\n      <td>3704000000</td>\n    </tr>\n    <tr>\n      <th>4</th>\n      <td>2018-12-31</td>\n      <td>USD</td>\n      <td>4568000000</td>\n      <td>10132000000</td>\n      <td>5564000000</td>\n      <td>857000000</td>\n      <td>2098000000</td>\n      <td>1851000000</td>\n      <td>None</td>\n      <td>2157000000</td>\n      <td>...</td>\n      <td>277000000</td>\n      <td>277000000</td>\n      <td>4562000000</td>\n      <td>1055000000</td>\n      <td>857000000</td>\n      <td>3507000000</td>\n      <td>3440000000</td>\n      <td>5419000000</td>\n      <td>5696000000</td>\n      <td>3507000000</td>\n    </tr>\n  </tbody>\n</table>\n<p>5 rows × 26 columns</p>\n</div>"
     },
     "execution_count": 7,
     "metadata": {},
     "output_type": "execute_result"
    }
   ],
   "source": [
    "# Call the alpha vantage api to get the income statement data\n",
    "\n",
    "# Set the ticker\n",
    "ticker = \"SCHW\"\n",
    "\n",
    "# Call the income statement api\n",
    "income_statement = api_calls.call_income_statement(ticker)\n",
    "\n",
    "# Display sample data\n",
    "pd.DataFrame(income_statement['annualReports'])"
   ],
   "metadata": {
    "collapsed": false,
    "ExecuteTime": {
     "start_time": "2023-04-02T18:27:50.671523Z",
     "end_time": "2023-04-02T18:27:50.923199Z"
    }
   }
  },
  {
   "cell_type": "code",
   "execution_count": 8,
   "outputs": [
    {
     "data": {
      "text/plain": "  fiscalDateEnding reportedCurrency   totalAssets totalCurrentAssets  \\\n0       2022-12-31              USD  551772000000        40195000000   \n1       2021-12-31              USD  667270000000        62975000000   \n2       2020-12-31              USD  549009000000        40348000000   \n3       2019-12-31              USD  294000000000        29345000000   \n4       2018-12-31              USD  296482000000        27938000000   \n\n  cashAndCashEquivalentsAtCarryingValue cashAndShortTermInvestments inventory  \\\n0                           40195000000                 40195000000      None   \n1                           62975000000                 62975000000      None   \n2                           40348000000                 40348000000      None   \n3                           29345000000                 29345000000      None   \n4                           27938000000                 27938000000      None   \n\n  currentNetReceivables totalNonCurrentAssets propertyPlantEquipment  ...  \\\n0                  None           21700000000             3648000000  ...   \n1                  None           22266000000             3442000000  ...   \n2                  None           25763000000             2883000000  ...   \n3                  None            4060000000             2128000000  ...   \n4                  None            3147000000             1769000000  ...   \n\n  currentLongTermDebt longTermDebtNoncurrent shortLongTermDebtTotal  \\\n0         17050000000            20760000000            58671000000   \n1          4855000000            18820000000            23769000000   \n2                None            13626000000            13632000000   \n3                None             7430000000             7430000000   \n4                None             6878000000            13759000000   \n\n  otherCurrentLiabilities otherNonCurrentLiabilities totalShareholderEquity  \\\n0            366724000000                       None            36608000000   \n1            443778000000                       None            56261000000   \n2            358022000000                       None            56060000000   \n3            225610000000                       None            21745000000   \n4            234429000000                       None            20670000000   \n\n  treasuryStock retainedEarnings commonStock commonStockSharesOutstanding  \n0    8639000000      31066000000    21000000                   1864000000  \n1    5338000000      25992000000    21000000                   1893000000  \n2    5578000000      21975000000    20000000                   1848000000  \n3    5767000000      19960000000    15000000                   1284000000  \n4    3714000000      17329000000    15000000                   1343000000  \n\n[5 rows x 38 columns]",
      "text/html": "<div>\n<style scoped>\n    .dataframe tbody tr th:only-of-type {\n        vertical-align: middle;\n    }\n\n    .dataframe tbody tr th {\n        vertical-align: top;\n    }\n\n    .dataframe thead th {\n        text-align: right;\n    }\n</style>\n<table border=\"1\" class=\"dataframe\">\n  <thead>\n    <tr style=\"text-align: right;\">\n      <th></th>\n      <th>fiscalDateEnding</th>\n      <th>reportedCurrency</th>\n      <th>totalAssets</th>\n      <th>totalCurrentAssets</th>\n      <th>cashAndCashEquivalentsAtCarryingValue</th>\n      <th>cashAndShortTermInvestments</th>\n      <th>inventory</th>\n      <th>currentNetReceivables</th>\n      <th>totalNonCurrentAssets</th>\n      <th>propertyPlantEquipment</th>\n      <th>...</th>\n      <th>currentLongTermDebt</th>\n      <th>longTermDebtNoncurrent</th>\n      <th>shortLongTermDebtTotal</th>\n      <th>otherCurrentLiabilities</th>\n      <th>otherNonCurrentLiabilities</th>\n      <th>totalShareholderEquity</th>\n      <th>treasuryStock</th>\n      <th>retainedEarnings</th>\n      <th>commonStock</th>\n      <th>commonStockSharesOutstanding</th>\n    </tr>\n  </thead>\n  <tbody>\n    <tr>\n      <th>0</th>\n      <td>2022-12-31</td>\n      <td>USD</td>\n      <td>551772000000</td>\n      <td>40195000000</td>\n      <td>40195000000</td>\n      <td>40195000000</td>\n      <td>None</td>\n      <td>None</td>\n      <td>21700000000</td>\n      <td>3648000000</td>\n      <td>...</td>\n      <td>17050000000</td>\n      <td>20760000000</td>\n      <td>58671000000</td>\n      <td>366724000000</td>\n      <td>None</td>\n      <td>36608000000</td>\n      <td>8639000000</td>\n      <td>31066000000</td>\n      <td>21000000</td>\n      <td>1864000000</td>\n    </tr>\n    <tr>\n      <th>1</th>\n      <td>2021-12-31</td>\n      <td>USD</td>\n      <td>667270000000</td>\n      <td>62975000000</td>\n      <td>62975000000</td>\n      <td>62975000000</td>\n      <td>None</td>\n      <td>None</td>\n      <td>22266000000</td>\n      <td>3442000000</td>\n      <td>...</td>\n      <td>4855000000</td>\n      <td>18820000000</td>\n      <td>23769000000</td>\n      <td>443778000000</td>\n      <td>None</td>\n      <td>56261000000</td>\n      <td>5338000000</td>\n      <td>25992000000</td>\n      <td>21000000</td>\n      <td>1893000000</td>\n    </tr>\n    <tr>\n      <th>2</th>\n      <td>2020-12-31</td>\n      <td>USD</td>\n      <td>549009000000</td>\n      <td>40348000000</td>\n      <td>40348000000</td>\n      <td>40348000000</td>\n      <td>None</td>\n      <td>None</td>\n      <td>25763000000</td>\n      <td>2883000000</td>\n      <td>...</td>\n      <td>None</td>\n      <td>13626000000</td>\n      <td>13632000000</td>\n      <td>358022000000</td>\n      <td>None</td>\n      <td>56060000000</td>\n      <td>5578000000</td>\n      <td>21975000000</td>\n      <td>20000000</td>\n      <td>1848000000</td>\n    </tr>\n    <tr>\n      <th>3</th>\n      <td>2019-12-31</td>\n      <td>USD</td>\n      <td>294000000000</td>\n      <td>29345000000</td>\n      <td>29345000000</td>\n      <td>29345000000</td>\n      <td>None</td>\n      <td>None</td>\n      <td>4060000000</td>\n      <td>2128000000</td>\n      <td>...</td>\n      <td>None</td>\n      <td>7430000000</td>\n      <td>7430000000</td>\n      <td>225610000000</td>\n      <td>None</td>\n      <td>21745000000</td>\n      <td>5767000000</td>\n      <td>19960000000</td>\n      <td>15000000</td>\n      <td>1284000000</td>\n    </tr>\n    <tr>\n      <th>4</th>\n      <td>2018-12-31</td>\n      <td>USD</td>\n      <td>296482000000</td>\n      <td>27938000000</td>\n      <td>27938000000</td>\n      <td>27938000000</td>\n      <td>None</td>\n      <td>None</td>\n      <td>3147000000</td>\n      <td>1769000000</td>\n      <td>...</td>\n      <td>None</td>\n      <td>6878000000</td>\n      <td>13759000000</td>\n      <td>234429000000</td>\n      <td>None</td>\n      <td>20670000000</td>\n      <td>3714000000</td>\n      <td>17329000000</td>\n      <td>15000000</td>\n      <td>1343000000</td>\n    </tr>\n  </tbody>\n</table>\n<p>5 rows × 38 columns</p>\n</div>"
     },
     "execution_count": 8,
     "metadata": {},
     "output_type": "execute_result"
    }
   ],
   "source": [
    "# Call the alpha vantage api to get the balance sheet data\n",
    "\n",
    "# Set the ticker\n",
    "ticker = \"SCHW\"\n",
    "\n",
    "# Call the balance sheet api\n",
    "balance_sheet = api_calls.call_balance_sheet(ticker)\n",
    "\n",
    "# Display sample data\n",
    "pd.DataFrame(balance_sheet['annualReports'])"
   ],
   "metadata": {
    "collapsed": false,
    "ExecuteTime": {
     "start_time": "2023-04-02T18:27:50.923199Z",
     "end_time": "2023-04-02T18:27:51.079207Z"
    }
   }
  },
  {
   "cell_type": "code",
   "execution_count": 10,
   "outputs": [
    {
     "data": {
      "text/plain": "  fiscalDateEnding reportedCurrency operatingCashflow  \\\n0       2022-12-31              USD        2057000000   \n1       2021-12-31              USD        2118000000   \n2       2020-12-31              USD        6852000000   \n3       2019-12-31              USD        9325000000   \n4       2018-12-31              USD       12456000000   \n\n  paymentsForOperatingActivities proceedsFromOperatingActivities  \\\n0                     3727000000                            None   \n1                     2924000000                            None   \n2                     1489000000                            None   \n3                     2407000000                            None   \n4                     1725000000                            None   \n\n  changeInOperatingLiabilities changeInOperatingAssets  \\\n0                 -31759000000               -99000000   \n1                  22792000000              1152000000   \n2                  25761000000                -4000000   \n3                   6253000000               709000000   \n4                   2096000000                 8000000   \n\n  depreciationDepletionAndAmortization capitalExpenditures  \\\n0                           1971000000           952000000   \n1                           2961000000          1041000000   \n2                           1776000000           741000000   \n3                            795000000           753000000   \n4                            656000000           576000000   \n\n  changeInReceivables  ... dividendPayoutCommonStock  \\\n0                None  ...                2110000000   \n1                None  ...                1822000000   \n2                None  ...                1280000000   \n3                None  ...                1060000000   \n4           -96000000  ...                 787000000   \n\n  dividendPayoutPreferredStock proceedsFromIssuanceOfCommonStock  \\\n0                         None                              None   \n1                         None                              None   \n2                         None                              None   \n3                         None                              None   \n4                         None                              None   \n\n  proceedsFromIssuanceOfLongTermDebtAndCapitalSecuritiesNet  \\\n0                                         2971000000          \n1                                         7036000000          \n2                                         3070000000          \n3                                          593000000          \n4                                         3024000000          \n\n  proceedsFromIssuanceOfPreferredStock proceedsFromRepurchaseOfEquity  \\\n0                            740000000                    -3591000000   \n1                           2806000000                     2427000000   \n2                           4940000000                     5019000000   \n3                                    0                    -2102000000   \n4                                    0                     -875000000   \n\n  proceedsFromSaleOfTreasuryStock changeInCashAndCashEquivalents  \\\n0                            None                   -34618000000   \n1                            None                    22778000000   \n2                            None                    24983000000   \n3                            None                     7350000000   \n4                            None                    19067000000   \n\n  changeInExchangeRate   netIncome  \n0                 None  7183000000  \n1                 None  5855000000  \n2                 None  3299000000  \n3                 None  3704000000  \n4                 None  3507000000  \n\n[5 rows x 29 columns]",
      "text/html": "<div>\n<style scoped>\n    .dataframe tbody tr th:only-of-type {\n        vertical-align: middle;\n    }\n\n    .dataframe tbody tr th {\n        vertical-align: top;\n    }\n\n    .dataframe thead th {\n        text-align: right;\n    }\n</style>\n<table border=\"1\" class=\"dataframe\">\n  <thead>\n    <tr style=\"text-align: right;\">\n      <th></th>\n      <th>fiscalDateEnding</th>\n      <th>reportedCurrency</th>\n      <th>operatingCashflow</th>\n      <th>paymentsForOperatingActivities</th>\n      <th>proceedsFromOperatingActivities</th>\n      <th>changeInOperatingLiabilities</th>\n      <th>changeInOperatingAssets</th>\n      <th>depreciationDepletionAndAmortization</th>\n      <th>capitalExpenditures</th>\n      <th>changeInReceivables</th>\n      <th>...</th>\n      <th>dividendPayoutCommonStock</th>\n      <th>dividendPayoutPreferredStock</th>\n      <th>proceedsFromIssuanceOfCommonStock</th>\n      <th>proceedsFromIssuanceOfLongTermDebtAndCapitalSecuritiesNet</th>\n      <th>proceedsFromIssuanceOfPreferredStock</th>\n      <th>proceedsFromRepurchaseOfEquity</th>\n      <th>proceedsFromSaleOfTreasuryStock</th>\n      <th>changeInCashAndCashEquivalents</th>\n      <th>changeInExchangeRate</th>\n      <th>netIncome</th>\n    </tr>\n  </thead>\n  <tbody>\n    <tr>\n      <th>0</th>\n      <td>2022-12-31</td>\n      <td>USD</td>\n      <td>2057000000</td>\n      <td>3727000000</td>\n      <td>None</td>\n      <td>-31759000000</td>\n      <td>-99000000</td>\n      <td>1971000000</td>\n      <td>952000000</td>\n      <td>None</td>\n      <td>...</td>\n      <td>2110000000</td>\n      <td>None</td>\n      <td>None</td>\n      <td>2971000000</td>\n      <td>740000000</td>\n      <td>-3591000000</td>\n      <td>None</td>\n      <td>-34618000000</td>\n      <td>None</td>\n      <td>7183000000</td>\n    </tr>\n    <tr>\n      <th>1</th>\n      <td>2021-12-31</td>\n      <td>USD</td>\n      <td>2118000000</td>\n      <td>2924000000</td>\n      <td>None</td>\n      <td>22792000000</td>\n      <td>1152000000</td>\n      <td>2961000000</td>\n      <td>1041000000</td>\n      <td>None</td>\n      <td>...</td>\n      <td>1822000000</td>\n      <td>None</td>\n      <td>None</td>\n      <td>7036000000</td>\n      <td>2806000000</td>\n      <td>2427000000</td>\n      <td>None</td>\n      <td>22778000000</td>\n      <td>None</td>\n      <td>5855000000</td>\n    </tr>\n    <tr>\n      <th>2</th>\n      <td>2020-12-31</td>\n      <td>USD</td>\n      <td>6852000000</td>\n      <td>1489000000</td>\n      <td>None</td>\n      <td>25761000000</td>\n      <td>-4000000</td>\n      <td>1776000000</td>\n      <td>741000000</td>\n      <td>None</td>\n      <td>...</td>\n      <td>1280000000</td>\n      <td>None</td>\n      <td>None</td>\n      <td>3070000000</td>\n      <td>4940000000</td>\n      <td>5019000000</td>\n      <td>None</td>\n      <td>24983000000</td>\n      <td>None</td>\n      <td>3299000000</td>\n    </tr>\n    <tr>\n      <th>3</th>\n      <td>2019-12-31</td>\n      <td>USD</td>\n      <td>9325000000</td>\n      <td>2407000000</td>\n      <td>None</td>\n      <td>6253000000</td>\n      <td>709000000</td>\n      <td>795000000</td>\n      <td>753000000</td>\n      <td>None</td>\n      <td>...</td>\n      <td>1060000000</td>\n      <td>None</td>\n      <td>None</td>\n      <td>593000000</td>\n      <td>0</td>\n      <td>-2102000000</td>\n      <td>None</td>\n      <td>7350000000</td>\n      <td>None</td>\n      <td>3704000000</td>\n    </tr>\n    <tr>\n      <th>4</th>\n      <td>2018-12-31</td>\n      <td>USD</td>\n      <td>12456000000</td>\n      <td>1725000000</td>\n      <td>None</td>\n      <td>2096000000</td>\n      <td>8000000</td>\n      <td>656000000</td>\n      <td>576000000</td>\n      <td>-96000000</td>\n      <td>...</td>\n      <td>787000000</td>\n      <td>None</td>\n      <td>None</td>\n      <td>3024000000</td>\n      <td>0</td>\n      <td>-875000000</td>\n      <td>None</td>\n      <td>19067000000</td>\n      <td>None</td>\n      <td>3507000000</td>\n    </tr>\n  </tbody>\n</table>\n<p>5 rows × 29 columns</p>\n</div>"
     },
     "execution_count": 10,
     "metadata": {},
     "output_type": "execute_result"
    }
   ],
   "source": [
    "# Call the alpha vantage api to get the cash flow data\n",
    "\n",
    "# Set the ticker\n",
    "ticker = \"SCHW\"\n",
    "\n",
    "# Call the cash flow api\n",
    "cash_flow = api_calls.call_cash_flow(ticker)\n",
    "\n",
    "# Display sample data\n",
    "pd.DataFrame(cash_flow['annualReports'])"
   ],
   "metadata": {
    "collapsed": false,
    "ExecuteTime": {
     "start_time": "2023-04-02T18:28:41.460659Z",
     "end_time": "2023-04-02T18:28:41.619009Z"
    }
   }
  },
  {
   "cell_type": "code",
   "execution_count": 11,
   "outputs": [
    {
     "data": {
      "text/plain": "    fiscalDateEnding reportedDate reportedEPS estimatedEPS surprise  \\\n0         2022-12-31   2023-01-18        1.09         1.09        0   \n1         2022-09-30   2022-10-17         1.1         1.05     0.05   \n2         2022-06-30   2022-07-18        0.97         0.91     0.06   \n3         2022-03-31   2022-04-18        0.77         0.84    -0.07   \n4         2021-12-31   2022-01-18        0.86         0.88    -0.02   \n..               ...          ...         ...          ...      ...   \n103       1997-03-31   1997-04-16        0.05         0.05        0   \n104       1996-12-31   1997-01-16        0.05         0.05        0   \n105       1996-09-30   1996-10-11        0.05         0.04     0.01   \n106       1996-06-30   1996-07-17        0.06         0.04     0.02   \n107       1996-03-31   1996-04-16        0.04         0.04        0   \n\n    surprisePercentage  \n0                    0  \n1               4.7619  \n2               6.5934  \n3              -8.3333  \n4              -2.2727  \n..                 ...  \n103                  0  \n104                  0  \n105                 25  \n106                 50  \n107                  0  \n\n[108 rows x 6 columns]",
      "text/html": "<div>\n<style scoped>\n    .dataframe tbody tr th:only-of-type {\n        vertical-align: middle;\n    }\n\n    .dataframe tbody tr th {\n        vertical-align: top;\n    }\n\n    .dataframe thead th {\n        text-align: right;\n    }\n</style>\n<table border=\"1\" class=\"dataframe\">\n  <thead>\n    <tr style=\"text-align: right;\">\n      <th></th>\n      <th>fiscalDateEnding</th>\n      <th>reportedDate</th>\n      <th>reportedEPS</th>\n      <th>estimatedEPS</th>\n      <th>surprise</th>\n      <th>surprisePercentage</th>\n    </tr>\n  </thead>\n  <tbody>\n    <tr>\n      <th>0</th>\n      <td>2022-12-31</td>\n      <td>2023-01-18</td>\n      <td>1.09</td>\n      <td>1.09</td>\n      <td>0</td>\n      <td>0</td>\n    </tr>\n    <tr>\n      <th>1</th>\n      <td>2022-09-30</td>\n      <td>2022-10-17</td>\n      <td>1.1</td>\n      <td>1.05</td>\n      <td>0.05</td>\n      <td>4.7619</td>\n    </tr>\n    <tr>\n      <th>2</th>\n      <td>2022-06-30</td>\n      <td>2022-07-18</td>\n      <td>0.97</td>\n      <td>0.91</td>\n      <td>0.06</td>\n      <td>6.5934</td>\n    </tr>\n    <tr>\n      <th>3</th>\n      <td>2022-03-31</td>\n      <td>2022-04-18</td>\n      <td>0.77</td>\n      <td>0.84</td>\n      <td>-0.07</td>\n      <td>-8.3333</td>\n    </tr>\n    <tr>\n      <th>4</th>\n      <td>2021-12-31</td>\n      <td>2022-01-18</td>\n      <td>0.86</td>\n      <td>0.88</td>\n      <td>-0.02</td>\n      <td>-2.2727</td>\n    </tr>\n    <tr>\n      <th>...</th>\n      <td>...</td>\n      <td>...</td>\n      <td>...</td>\n      <td>...</td>\n      <td>...</td>\n      <td>...</td>\n    </tr>\n    <tr>\n      <th>103</th>\n      <td>1997-03-31</td>\n      <td>1997-04-16</td>\n      <td>0.05</td>\n      <td>0.05</td>\n      <td>0</td>\n      <td>0</td>\n    </tr>\n    <tr>\n      <th>104</th>\n      <td>1996-12-31</td>\n      <td>1997-01-16</td>\n      <td>0.05</td>\n      <td>0.05</td>\n      <td>0</td>\n      <td>0</td>\n    </tr>\n    <tr>\n      <th>105</th>\n      <td>1996-09-30</td>\n      <td>1996-10-11</td>\n      <td>0.05</td>\n      <td>0.04</td>\n      <td>0.01</td>\n      <td>25</td>\n    </tr>\n    <tr>\n      <th>106</th>\n      <td>1996-06-30</td>\n      <td>1996-07-17</td>\n      <td>0.06</td>\n      <td>0.04</td>\n      <td>0.02</td>\n      <td>50</td>\n    </tr>\n    <tr>\n      <th>107</th>\n      <td>1996-03-31</td>\n      <td>1996-04-16</td>\n      <td>0.04</td>\n      <td>0.04</td>\n      <td>0</td>\n      <td>0</td>\n    </tr>\n  </tbody>\n</table>\n<p>108 rows × 6 columns</p>\n</div>"
     },
     "execution_count": 11,
     "metadata": {},
     "output_type": "execute_result"
    }
   ],
   "source": [
    "# Call the alpha vantage api to get the earnings data\n",
    "\n",
    "# Set the ticker\n",
    "ticker = \"SCHW\"\n",
    "\n",
    "# Call the earnings api\n",
    "earnings = api_calls.call_earnings(ticker)\n",
    "\n",
    "# Display sample data\n",
    "pd.DataFrame(earnings['quarterlyEarnings'])"
   ],
   "metadata": {
    "collapsed": false,
    "ExecuteTime": {
     "start_time": "2023-04-02T18:28:43.812707Z",
     "end_time": "2023-04-02T18:28:43.960292Z"
    }
   }
  },
  {
   "cell_type": "code",
   "execution_count": 12,
   "outputs": [
    {
     "data": {
      "text/plain": "  fiscalDateEnding reportedCurrency grossProfit totalRevenue costOfRevenue  \\\n0       2022-12-31              USD  9388000000  20762000000   11374000000   \n1       2021-12-31              USD  7725000000  18520000000   10795000000   \n2       2020-12-31              USD  4290000000  11691000000    7401000000   \n3       2019-12-31              USD  4853000000  10721000000    5868000000   \n4       2018-12-31              USD  4568000000  10132000000    5564000000   \n\n  costofGoodsAndServicesSold operatingIncome sellingGeneralAndAdministrative  \\\n0                       None      4808000000                      3214000000   \n1                       None      3175000000                      3042000000   \n2                       None      1030000000                      2225000000   \n3                 1064000000      2422000000                      1821000000   \n4                  857000000      2098000000                      1851000000   \n\n  researchAndDevelopment operatingExpenses  ... dividendPayoutCommonStock  \\\n0                   None        3866000000  ...                2110000000   \n1                   None        3674000000  ...                1822000000   \n2                   None        2815000000  ...                1280000000   \n3                   None        2170000000  ...                1060000000   \n4                   None        2157000000  ...                 787000000   \n\n  dividendPayoutPreferredStock proceedsFromIssuanceOfCommonStock  \\\n0                         None                              None   \n1                         None                              None   \n2                         None                              None   \n3                         None                              None   \n4                         None                              None   \n\n  proceedsFromIssuanceOfLongTermDebtAndCapitalSecuritiesNet  \\\n0                                         2971000000          \n1                                         7036000000          \n2                                         3070000000          \n3                                          593000000          \n4                                         3024000000          \n\n  proceedsFromIssuanceOfPreferredStock proceedsFromRepurchaseOfEquity  \\\n0                            740000000                    -3591000000   \n1                           2806000000                     2427000000   \n2                           4940000000                     5019000000   \n3                                    0                    -2102000000   \n4                                    0                     -875000000   \n\n  proceedsFromSaleOfTreasuryStock changeInCashAndCashEquivalents  \\\n0                            None                   -34618000000   \n1                            None                    22778000000   \n2                            None                    24983000000   \n3                            None                     7350000000   \n4                            None                    19067000000   \n\n  changeInExchangeRate   netIncome  \n0                 None  7183000000  \n1                 None  5855000000  \n2                 None  3299000000  \n3                 None  3704000000  \n4                 None  3507000000  \n\n[5 rows x 93 columns]",
      "text/html": "<div>\n<style scoped>\n    .dataframe tbody tr th:only-of-type {\n        vertical-align: middle;\n    }\n\n    .dataframe tbody tr th {\n        vertical-align: top;\n    }\n\n    .dataframe thead th {\n        text-align: right;\n    }\n</style>\n<table border=\"1\" class=\"dataframe\">\n  <thead>\n    <tr style=\"text-align: right;\">\n      <th></th>\n      <th>fiscalDateEnding</th>\n      <th>reportedCurrency</th>\n      <th>grossProfit</th>\n      <th>totalRevenue</th>\n      <th>costOfRevenue</th>\n      <th>costofGoodsAndServicesSold</th>\n      <th>operatingIncome</th>\n      <th>sellingGeneralAndAdministrative</th>\n      <th>researchAndDevelopment</th>\n      <th>operatingExpenses</th>\n      <th>...</th>\n      <th>dividendPayoutCommonStock</th>\n      <th>dividendPayoutPreferredStock</th>\n      <th>proceedsFromIssuanceOfCommonStock</th>\n      <th>proceedsFromIssuanceOfLongTermDebtAndCapitalSecuritiesNet</th>\n      <th>proceedsFromIssuanceOfPreferredStock</th>\n      <th>proceedsFromRepurchaseOfEquity</th>\n      <th>proceedsFromSaleOfTreasuryStock</th>\n      <th>changeInCashAndCashEquivalents</th>\n      <th>changeInExchangeRate</th>\n      <th>netIncome</th>\n    </tr>\n  </thead>\n  <tbody>\n    <tr>\n      <th>0</th>\n      <td>2022-12-31</td>\n      <td>USD</td>\n      <td>9388000000</td>\n      <td>20762000000</td>\n      <td>11374000000</td>\n      <td>None</td>\n      <td>4808000000</td>\n      <td>3214000000</td>\n      <td>None</td>\n      <td>3866000000</td>\n      <td>...</td>\n      <td>2110000000</td>\n      <td>None</td>\n      <td>None</td>\n      <td>2971000000</td>\n      <td>740000000</td>\n      <td>-3591000000</td>\n      <td>None</td>\n      <td>-34618000000</td>\n      <td>None</td>\n      <td>7183000000</td>\n    </tr>\n    <tr>\n      <th>1</th>\n      <td>2021-12-31</td>\n      <td>USD</td>\n      <td>7725000000</td>\n      <td>18520000000</td>\n      <td>10795000000</td>\n      <td>None</td>\n      <td>3175000000</td>\n      <td>3042000000</td>\n      <td>None</td>\n      <td>3674000000</td>\n      <td>...</td>\n      <td>1822000000</td>\n      <td>None</td>\n      <td>None</td>\n      <td>7036000000</td>\n      <td>2806000000</td>\n      <td>2427000000</td>\n      <td>None</td>\n      <td>22778000000</td>\n      <td>None</td>\n      <td>5855000000</td>\n    </tr>\n    <tr>\n      <th>2</th>\n      <td>2020-12-31</td>\n      <td>USD</td>\n      <td>4290000000</td>\n      <td>11691000000</td>\n      <td>7401000000</td>\n      <td>None</td>\n      <td>1030000000</td>\n      <td>2225000000</td>\n      <td>None</td>\n      <td>2815000000</td>\n      <td>...</td>\n      <td>1280000000</td>\n      <td>None</td>\n      <td>None</td>\n      <td>3070000000</td>\n      <td>4940000000</td>\n      <td>5019000000</td>\n      <td>None</td>\n      <td>24983000000</td>\n      <td>None</td>\n      <td>3299000000</td>\n    </tr>\n    <tr>\n      <th>3</th>\n      <td>2019-12-31</td>\n      <td>USD</td>\n      <td>4853000000</td>\n      <td>10721000000</td>\n      <td>5868000000</td>\n      <td>1064000000</td>\n      <td>2422000000</td>\n      <td>1821000000</td>\n      <td>None</td>\n      <td>2170000000</td>\n      <td>...</td>\n      <td>1060000000</td>\n      <td>None</td>\n      <td>None</td>\n      <td>593000000</td>\n      <td>0</td>\n      <td>-2102000000</td>\n      <td>None</td>\n      <td>7350000000</td>\n      <td>None</td>\n      <td>3704000000</td>\n    </tr>\n    <tr>\n      <th>4</th>\n      <td>2018-12-31</td>\n      <td>USD</td>\n      <td>4568000000</td>\n      <td>10132000000</td>\n      <td>5564000000</td>\n      <td>857000000</td>\n      <td>2098000000</td>\n      <td>1851000000</td>\n      <td>None</td>\n      <td>2157000000</td>\n      <td>...</td>\n      <td>787000000</td>\n      <td>None</td>\n      <td>None</td>\n      <td>3024000000</td>\n      <td>0</td>\n      <td>-875000000</td>\n      <td>None</td>\n      <td>19067000000</td>\n      <td>None</td>\n      <td>3507000000</td>\n    </tr>\n  </tbody>\n</table>\n<p>5 rows × 93 columns</p>\n</div>"
     },
     "execution_count": 12,
     "metadata": {},
     "output_type": "execute_result"
    }
   ],
   "source": [
    "# Combine the income statement, balance sheet, and cash flow data into a single DataFrame\n",
    "\n",
    "# Create a list of the dataframes\n",
    "dataframes = [pd.DataFrame(income_statement['annualReports']), pd.DataFrame(balance_sheet['annualReports']), pd.DataFrame(cash_flow['annualReports'])]\n",
    "\n",
    "# Concatenate the dataframes\n",
    "combined_df = pd.concat(dataframes, axis=1)\n",
    "\n",
    "# Display sample data\n",
    "combined_df"
   ],
   "metadata": {
    "collapsed": false,
    "ExecuteTime": {
     "start_time": "2023-04-02T18:29:05.917366Z",
     "end_time": "2023-04-02T18:29:05.938347Z"
    }
   }
  }
 ],
 "metadata": {
  "kernelspec": {
   "display_name": "Python 3",
   "language": "python",
   "name": "python3"
  },
  "language_info": {
   "codemirror_mode": {
    "name": "ipython",
    "version": 2
   },
   "file_extension": ".py",
   "mimetype": "text/x-python",
   "name": "python",
   "nbconvert_exporter": "python",
   "pygments_lexer": "ipython2",
   "version": "2.7.6"
  }
 },
 "nbformat": 4,
 "nbformat_minor": 0
}
