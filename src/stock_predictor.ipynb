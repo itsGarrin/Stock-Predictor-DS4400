{
 "cells": [
  {
   "cell_type": "code",
   "execution_count": 1,
   "metadata": {
    "collapsed": true,
    "ExecuteTime": {
     "start_time": "2023-04-02T17:35:20.562420Z",
     "end_time": "2023-04-02T17:35:21.947642Z"
    }
   },
   "outputs": [],
   "source": [
    "import datetime as dt\n",
    "\n",
    "import matplotlib.pyplot as plt\n",
    "import numpy as np\n",
    "import pandas as pd\n",
    "from alpaca.data import TimeFrame\n",
    "\n",
    "# Import libraries and dependencies\n",
    "import api_calls"
   ]
  },
  {
   "cell_type": "code",
   "execution_count": 3,
   "outputs": [
    {
     "data": {
      "text/plain": "           1. open 2. high    3. low 4. close 5. adjusted close  6. volume  \\\n2023-03-31  207.24  212.17    206.77   211.94            211.94   25440273   \n2023-03-30  203.38  208.09    202.82   207.84            207.84   22608303   \n2023-03-29  203.56  205.72  202.5355   205.35            205.35   18851137   \n2023-03-28  200.15  201.03     197.9   200.68            200.68   19127295   \n2023-03-27  204.81  205.86    201.36   202.84            202.84   18527184   \n...            ...     ...       ...      ...               ...        ...   \n2022-11-11  109.23   114.9    108.81   113.02            113.02   59961742   \n2022-11-10  107.12  112.75    104.61   111.87            111.87   80670961   \n2022-11-09  101.72   104.9    100.74   101.47            101.47  107677284   \n2022-11-08   95.92    97.8     94.79    96.47             96.47   52088320   \n2022-11-07   94.78   96.88      93.1    96.72             96.72   81987295   \n\n           7. dividend amount 8. split coefficient  \n2023-03-31             0.0000                  1.0  \n2023-03-30             0.0000                  1.0  \n2023-03-29             0.0000                  1.0  \n2023-03-28             0.0000                  1.0  \n2023-03-27             0.0000                  1.0  \n...                       ...                  ...  \n2022-11-11             0.0000                  1.0  \n2022-11-10             0.0000                  1.0  \n2022-11-09             0.0000                  1.0  \n2022-11-08             0.0000                  1.0  \n2022-11-07             0.0000                  1.0  \n\n[100 rows x 8 columns]",
      "text/html": "<div>\n<style scoped>\n    .dataframe tbody tr th:only-of-type {\n        vertical-align: middle;\n    }\n\n    .dataframe tbody tr th {\n        vertical-align: top;\n    }\n\n    .dataframe thead th {\n        text-align: right;\n    }\n</style>\n<table border=\"1\" class=\"dataframe\">\n  <thead>\n    <tr style=\"text-align: right;\">\n      <th></th>\n      <th>1. open</th>\n      <th>2. high</th>\n      <th>3. low</th>\n      <th>4. close</th>\n      <th>5. adjusted close</th>\n      <th>6. volume</th>\n      <th>7. dividend amount</th>\n      <th>8. split coefficient</th>\n    </tr>\n  </thead>\n  <tbody>\n    <tr>\n      <th>2023-03-31</th>\n      <td>207.24</td>\n      <td>212.17</td>\n      <td>206.77</td>\n      <td>211.94</td>\n      <td>211.94</td>\n      <td>25440273</td>\n      <td>0.0000</td>\n      <td>1.0</td>\n    </tr>\n    <tr>\n      <th>2023-03-30</th>\n      <td>203.38</td>\n      <td>208.09</td>\n      <td>202.82</td>\n      <td>207.84</td>\n      <td>207.84</td>\n      <td>22608303</td>\n      <td>0.0000</td>\n      <td>1.0</td>\n    </tr>\n    <tr>\n      <th>2023-03-29</th>\n      <td>203.56</td>\n      <td>205.72</td>\n      <td>202.5355</td>\n      <td>205.35</td>\n      <td>205.35</td>\n      <td>18851137</td>\n      <td>0.0000</td>\n      <td>1.0</td>\n    </tr>\n    <tr>\n      <th>2023-03-28</th>\n      <td>200.15</td>\n      <td>201.03</td>\n      <td>197.9</td>\n      <td>200.68</td>\n      <td>200.68</td>\n      <td>19127295</td>\n      <td>0.0000</td>\n      <td>1.0</td>\n    </tr>\n    <tr>\n      <th>2023-03-27</th>\n      <td>204.81</td>\n      <td>205.86</td>\n      <td>201.36</td>\n      <td>202.84</td>\n      <td>202.84</td>\n      <td>18527184</td>\n      <td>0.0000</td>\n      <td>1.0</td>\n    </tr>\n    <tr>\n      <th>...</th>\n      <td>...</td>\n      <td>...</td>\n      <td>...</td>\n      <td>...</td>\n      <td>...</td>\n      <td>...</td>\n      <td>...</td>\n      <td>...</td>\n    </tr>\n    <tr>\n      <th>2022-11-11</th>\n      <td>109.23</td>\n      <td>114.9</td>\n      <td>108.81</td>\n      <td>113.02</td>\n      <td>113.02</td>\n      <td>59961742</td>\n      <td>0.0000</td>\n      <td>1.0</td>\n    </tr>\n    <tr>\n      <th>2022-11-10</th>\n      <td>107.12</td>\n      <td>112.75</td>\n      <td>104.61</td>\n      <td>111.87</td>\n      <td>111.87</td>\n      <td>80670961</td>\n      <td>0.0000</td>\n      <td>1.0</td>\n    </tr>\n    <tr>\n      <th>2022-11-09</th>\n      <td>101.72</td>\n      <td>104.9</td>\n      <td>100.74</td>\n      <td>101.47</td>\n      <td>101.47</td>\n      <td>107677284</td>\n      <td>0.0000</td>\n      <td>1.0</td>\n    </tr>\n    <tr>\n      <th>2022-11-08</th>\n      <td>95.92</td>\n      <td>97.8</td>\n      <td>94.79</td>\n      <td>96.47</td>\n      <td>96.47</td>\n      <td>52088320</td>\n      <td>0.0000</td>\n      <td>1.0</td>\n    </tr>\n    <tr>\n      <th>2022-11-07</th>\n      <td>94.78</td>\n      <td>96.88</td>\n      <td>93.1</td>\n      <td>96.72</td>\n      <td>96.72</td>\n      <td>81987295</td>\n      <td>0.0000</td>\n      <td>1.0</td>\n    </tr>\n  </tbody>\n</table>\n<p>100 rows × 8 columns</p>\n</div>"
     },
     "execution_count": 3,
     "metadata": {},
     "output_type": "execute_result"
    }
   ],
   "source": [
    "# Call the alpaca api to get the data\n",
    "\n",
    "# Set the ticker\n",
    "ticker = \"META\"\n",
    "\n",
    "# Set timeframe to '1D'\n",
    "timeframe = TimeFrame.Day\n",
    "\n",
    "# Set start and end datetimes, between now and 100 days ago.\n",
    "start_date = dt.datetime.now() - dt.timedelta(100)\n",
    "end_date = dt.datetime.now()\n",
    "\n",
    "# Get 100 days' worth of historical data for SPY\n",
    "stock_data = api_calls.call_alpha_vantage_daily(ticker)\n",
    "\n",
    "stock_data_df = pd.DataFrame(stock_data['Time Series (Daily)']).T\n",
    "\n",
    "stock_data_df"
   ],
   "metadata": {
    "collapsed": false,
    "ExecuteTime": {
     "start_time": "2023-04-02T17:35:50.259052Z",
     "end_time": "2023-04-02T17:35:50.428019Z"
    }
   }
  },
  {
   "cell_type": "code",
   "execution_count": 11,
   "outputs": [
    {
     "data": {
      "text/plain": "<Figure size 432x288 with 1 Axes>",
      "image/png": "[encoded data removed]"
     },
     "metadata": {
      "needs_background": "light"
     },
     "output_type": "display_data"
    }
   ],
   "source": [
    "# Plot the adjusted closing prices of the stock\n",
    "plt.plot(stock_data_df['5. adjusted close'])\n",
    "\n",
    "# Scale the x-axis to show the full range of dates in ascending order\n",
    "plt.xlim(0, len(stock_data_df))\n",
    "\n",
    "# Set the x-tick locations to correspond to just the dates you entered.\n",
    "plt.xticks(range(0, len(stock_data_df), 5), stock_data_df.index[::5], rotation=45)\n",
    "\n",
    "# Scale the y-axis to show the full range of prices\n",
    "plt.ylim(min(stock_data_df['5. adjusted close']), max(stock_data_df['5. adjusted close']))\n",
    "\n",
    "# Set the y-tick locations to correspond to just the prices you entered.\n",
    "plt.yticks(\n",
    "    np.arange(float(min(stock_data_df['5. adjusted close'])), float(max(stock_data_df['5. adjusted close'])), 10.0))\n",
    "\n",
    "# Set the y-axis label\n",
    "plt.ylabel(\"Price ($)\")\n",
    "\n",
    "plt.show()"
   ],
   "metadata": {
    "collapsed": false,
    "ExecuteTime": {
     "start_time": "2023-03-30T20:48:33.250015Z",
     "end_time": "2023-03-30T20:48:33.334087Z"
    }
   }
  },
  {
   "cell_type": "code",
   "execution_count": 6,
   "outputs": [
    {
     "data": {
      "text/plain": "                                                 title  \\\n0    Pitney Bowes  ( NYSE:PBI )  Stock Rating Lower...   \n1    The Charles Schwab Corporation  ( SCHW )  Stoc...   \n2    TD Announces Dividend Rates on Non-Cumulative ...   \n3     QuoteMedia Announces 16% Revenue Growth for 2022   \n4    Investors 'are pretty afraid right now,' finan...   \n..                                                 ...   \n195  H World Group  ( NASDAQ:HTHT )  Now Covered by...   \n196  Aethlon Medical  ( NASDAQ:AEMD )  Research Cov...   \n197  Frontline  ( NYSE:FRO )  Now Covered by Analys...   \n198  Lindblad Expeditions  ( NASDAQ:LIND )  Researc...   \n199  RPM International  ( NYSE:RPM )  Now Covered b...   \n\n                                                   url      time_published  \\\n0    https://www.defenseworld.net/2023/04/01/pitney... 2023-04-01 05:16:42   \n1    https://www.zacks.com/stock/news/2073378/the-c... 2023-03-31 22:00:18   \n2    https://www.newswire.ca/news-releases/td-annou... 2023-03-31 21:20:00   \n3    https://www.globenewswire.com/news-release/202... 2023-03-31 19:10:00   \n4    https://www.cnbc.com/2023/03/31/financial-psyc... 2023-03-31 17:34:49   \n..                                                 ...                 ...   \n195  https://www.defenseworld.net/2023/03/17/h-worl... 2023-03-17 05:24:45   \n196  https://www.defenseworld.net/2023/03/17/aethlo... 2023-03-17 05:24:44   \n197  https://www.defenseworld.net/2023/03/17/frontl... 2023-03-17 05:24:44   \n198  https://www.defenseworld.net/2023/03/17/lindbl... 2023-03-17 05:24:44   \n199  https://www.defenseworld.net/2023/03/17/rpm-in... 2023-03-17 05:24:44   \n\n                         authors  \\\n0          [Defense World Staff]   \n1    [Zacks Investment Research]   \n2                [TD Bank Group]   \n3             [Inc., QuoteMedia]   \n4                   [Annie Nova]   \n..                           ...   \n195        [Defense World Staff]   \n196        [Defense World Staff]   \n197        [Defense World Staff]   \n198        [Defense World Staff]   \n199        [Defense World Staff]   \n\n                                               summary  \\\n0    Pitney Bowes ( NYSE:PBI - Get Rating ) was dow...   \n1    The Charles Schwab Corporation (SCHW) closed t...   \n2    TD Announces Dividend Rates on Non-Cumulative ...   \n3    PHOENIX, March 31, 2023 ( GLOBE NEWSWIRE ) -- ...   \n4    We're in a period of high uncertainty and many...   \n..                                                 ...   \n195  Analysts at StockNews.com started coverage on ...   \n196  Aethlon Medical ( NASDAQ:AEMD ) Research Cover...   \n197  Research analysts at StockNews.com assumed cov...   \n198  Lindblad Expeditions ( NASDAQ:LIND ) Research ...   \n199  RPM International ( NYSE:RPM ) Now Covered by ...   \n\n                                          banner_image            source  \\\n0    https://www.marketbeat.com/logos/pitney-bowes-...     Stocknews.com   \n1    https://staticx-tuner.zacks.com/images/default...  Zacks Commentary   \n2                                                        Canada Newswire   \n3    https://ml.globenewswire.com/Resource/Download...     GlobeNewswire   \n4    https://image.cnbcfm.com/api/v1/image/10721798...              CNBC   \n..                                                 ...               ...   \n195  https://www.marketbeat.com/logos/h-world-group...     Stocknews.com   \n196  https://www.marketbeat.com/logos/aethlon-medic...     Stocknews.com   \n197  https://www.americanbankingnews.com/wp-content...     Stocknews.com   \n198  https://www.marketbeat.com/logos/lindblad-expe...     Stocknews.com   \n199  https://www.marketbeat.com/scripts/RatingsChar...     Stocknews.com   \n\n    category_within_source          source_domain  \\\n0                      n/a   www.defenseworld.net   \n1                      n/a          www.zacks.com   \n2                      n/a        www.newswire.ca   \n3                      n/a  www.globenewswire.com   \n4                 Top News           www.cnbc.com   \n..                     ...                    ...   \n195                    n/a   www.defenseworld.net   \n196                    n/a   www.defenseworld.net   \n197                    n/a   www.defenseworld.net   \n198                    n/a   www.defenseworld.net   \n199                    n/a   www.defenseworld.net   \n\n                                                topics  \\\n0    [{'topic': 'Financial Markets', 'relevance_sco...   \n1    [{'topic': 'Earnings', 'relevance_score': '0.9...   \n2    [{'topic': 'Technology', 'relevance_score': '0...   \n3    [{'topic': 'Financial Markets', 'relevance_sco...   \n4    [{'topic': 'Economy - Monetary', 'relevance_sc...   \n..                                                 ...   \n195  [{'topic': 'Retail & Wholesale', 'relevance_sc...   \n196  [{'topic': 'Life Sciences', 'relevance_score':...   \n197  [{'topic': 'Retail & Wholesale', 'relevance_sc...   \n198  [{'topic': 'Retail & Wholesale', 'relevance_sc...   \n199  [{'topic': 'Life Sciences', 'relevance_score':...   \n\n     overall_sentiment_score overall_sentiment_label  \\\n0                   0.291819        Somewhat-Bullish   \n1                   0.191206        Somewhat-Bullish   \n2                   0.377385                 Bullish   \n3                   0.387196                 Bullish   \n4                  -0.024427                 Neutral   \n..                       ...                     ...   \n195                 0.287845        Somewhat-Bullish   \n196                 0.181982        Somewhat-Bullish   \n197                 0.215066        Somewhat-Bullish   \n198                 0.244567        Somewhat-Bullish   \n199                 0.258671        Somewhat-Bullish   \n\n                                      ticker_sentiment  \n0    [{'ticker': 'BLK', 'relevance_score': '0.14646...  \n1    [{'ticker': 'SCHW', 'relevance_score': '0.6957...  \n2    [{'ticker': 'TD', 'relevance_score': '0.967314...  \n3    [{'ticker': 'BOM', 'relevance_score': '0.03566...  \n4    [{'ticker': 'SCHW', 'relevance_score': '0.0875...  \n..                                                 ...  \n195  [{'ticker': 'DKNG', 'relevance_score': '0.0644...  \n196  [{'ticker': 'DKNG', 'relevance_score': '0.0925...  \n197  [{'ticker': 'DKNG', 'relevance_score': '0.0810...  \n198  [{'ticker': 'BLK', 'relevance_score': '0.15851...  \n199  [{'ticker': 'DKNG', 'relevance_score': '0.0625...  \n\n[200 rows x 13 columns]",
      "text/html": "<div>\n<style scoped>\n    .dataframe tbody tr th:only-of-type {\n        vertical-align: middle;\n    }\n\n    .dataframe tbody tr th {\n        vertical-align: top;\n    }\n\n    .dataframe thead th {\n        text-align: right;\n    }\n</style>\n<table border=\"1\" class=\"dataframe\">\n  <thead>\n    <tr style=\"text-align: right;\">\n      <th></th>\n      <th>title</th>\n      <th>url</th>\n      <th>time_published</th>\n      <th>authors</th>\n      <th>summary</th>\n      <th>banner_image</th>\n      <th>source</th>\n      <th>category_within_source</th>\n      <th>source_domain</th>\n      <th>topics</th>\n      <th>overall_sentiment_score</th>\n      <th>overall_sentiment_label</th>\n      <th>ticker_sentiment</th>\n    </tr>\n  </thead>\n  <tbody>\n    <tr>\n      <th>0</th>\n      <td>Pitney Bowes  ( NYSE:PBI )  Stock Rating Lower...</td>\n      <td>https://www.defenseworld.net/2023/04/01/pitney...</td>\n      <td>2023-04-01 05:16:42</td>\n      <td>[Defense World Staff]</td>\n      <td>Pitney Bowes ( NYSE:PBI - Get Rating ) was dow...</td>\n      <td>https://www.marketbeat.com/logos/pitney-bowes-...</td>\n      <td>Stocknews.com</td>\n      <td>n/a</td>\n      <td>www.defenseworld.net</td>\n      <td>[{'topic': 'Financial Markets', 'relevance_sco...</td>\n      <td>0.291819</td>\n      <td>Somewhat-Bullish</td>\n      <td>[{'ticker': 'BLK', 'relevance_score': '0.14646...</td>\n    </tr>\n    <tr>\n      <th>1</th>\n      <td>The Charles Schwab Corporation  ( SCHW )  Stoc...</td>\n      <td>https://www.zacks.com/stock/news/2073378/the-c...</td>\n      <td>2023-03-31 22:00:18</td>\n      <td>[Zacks Investment Research]</td>\n      <td>The Charles Schwab Corporation (SCHW) closed t...</td>\n      <td>https://staticx-tuner.zacks.com/images/default...</td>\n      <td>Zacks Commentary</td>\n      <td>n/a</td>\n      <td>www.zacks.com</td>\n      <td>[{'topic': 'Earnings', 'relevance_score': '0.9...</td>\n      <td>0.191206</td>\n      <td>Somewhat-Bullish</td>\n      <td>[{'ticker': 'SCHW', 'relevance_score': '0.6957...</td>\n    </tr>\n    <tr>\n      <th>2</th>\n      <td>TD Announces Dividend Rates on Non-Cumulative ...</td>\n      <td>https://www.newswire.ca/news-releases/td-annou...</td>\n      <td>2023-03-31 21:20:00</td>\n      <td>[TD Bank Group]</td>\n      <td>TD Announces Dividend Rates on Non-Cumulative ...</td>\n      <td></td>\n      <td>Canada Newswire</td>\n      <td>n/a</td>\n      <td>www.newswire.ca</td>\n      <td>[{'topic': 'Technology', 'relevance_score': '0...</td>\n      <td>0.377385</td>\n      <td>Bullish</td>\n      <td>[{'ticker': 'TD', 'relevance_score': '0.967314...</td>\n    </tr>\n    <tr>\n      <th>3</th>\n      <td>QuoteMedia Announces 16% Revenue Growth for 2022</td>\n      <td>https://www.globenewswire.com/news-release/202...</td>\n      <td>2023-03-31 19:10:00</td>\n      <td>[Inc., QuoteMedia]</td>\n      <td>PHOENIX, March 31, 2023 ( GLOBE NEWSWIRE ) -- ...</td>\n      <td>https://ml.globenewswire.com/Resource/Download...</td>\n      <td>GlobeNewswire</td>\n      <td>n/a</td>\n      <td>www.globenewswire.com</td>\n      <td>[{'topic': 'Financial Markets', 'relevance_sco...</td>\n      <td>0.387196</td>\n      <td>Bullish</td>\n      <td>[{'ticker': 'BOM', 'relevance_score': '0.03566...</td>\n    </tr>\n    <tr>\n      <th>4</th>\n      <td>Investors 'are pretty afraid right now,' finan...</td>\n      <td>https://www.cnbc.com/2023/03/31/financial-psyc...</td>\n      <td>2023-03-31 17:34:49</td>\n      <td>[Annie Nova]</td>\n      <td>We're in a period of high uncertainty and many...</td>\n      <td>https://image.cnbcfm.com/api/v1/image/10721798...</td>\n      <td>CNBC</td>\n      <td>Top News</td>\n      <td>www.cnbc.com</td>\n      <td>[{'topic': 'Economy - Monetary', 'relevance_sc...</td>\n      <td>-0.024427</td>\n      <td>Neutral</td>\n      <td>[{'ticker': 'SCHW', 'relevance_score': '0.0875...</td>\n    </tr>\n    <tr>\n      <th>...</th>\n      <td>...</td>\n      <td>...</td>\n      <td>...</td>\n      <td>...</td>\n      <td>...</td>\n      <td>...</td>\n      <td>...</td>\n      <td>...</td>\n      <td>...</td>\n      <td>...</td>\n      <td>...</td>\n      <td>...</td>\n      <td>...</td>\n    </tr>\n    <tr>\n      <th>195</th>\n      <td>H World Group  ( NASDAQ:HTHT )  Now Covered by...</td>\n      <td>https://www.defenseworld.net/2023/03/17/h-worl...</td>\n      <td>2023-03-17 05:24:45</td>\n      <td>[Defense World Staff]</td>\n      <td>Analysts at StockNews.com started coverage on ...</td>\n      <td>https://www.marketbeat.com/logos/h-world-group...</td>\n      <td>Stocknews.com</td>\n      <td>n/a</td>\n      <td>www.defenseworld.net</td>\n      <td>[{'topic': 'Retail &amp; Wholesale', 'relevance_sc...</td>\n      <td>0.287845</td>\n      <td>Somewhat-Bullish</td>\n      <td>[{'ticker': 'DKNG', 'relevance_score': '0.0644...</td>\n    </tr>\n    <tr>\n      <th>196</th>\n      <td>Aethlon Medical  ( NASDAQ:AEMD )  Research Cov...</td>\n      <td>https://www.defenseworld.net/2023/03/17/aethlo...</td>\n      <td>2023-03-17 05:24:44</td>\n      <td>[Defense World Staff]</td>\n      <td>Aethlon Medical ( NASDAQ:AEMD ) Research Cover...</td>\n      <td>https://www.marketbeat.com/logos/aethlon-medic...</td>\n      <td>Stocknews.com</td>\n      <td>n/a</td>\n      <td>www.defenseworld.net</td>\n      <td>[{'topic': 'Life Sciences', 'relevance_score':...</td>\n      <td>0.181982</td>\n      <td>Somewhat-Bullish</td>\n      <td>[{'ticker': 'DKNG', 'relevance_score': '0.0925...</td>\n    </tr>\n    <tr>\n      <th>197</th>\n      <td>Frontline  ( NYSE:FRO )  Now Covered by Analys...</td>\n      <td>https://www.defenseworld.net/2023/03/17/frontl...</td>\n      <td>2023-03-17 05:24:44</td>\n      <td>[Defense World Staff]</td>\n      <td>Research analysts at StockNews.com assumed cov...</td>\n      <td>https://www.americanbankingnews.com/wp-content...</td>\n      <td>Stocknews.com</td>\n      <td>n/a</td>\n      <td>www.defenseworld.net</td>\n      <td>[{'topic': 'Retail &amp; Wholesale', 'relevance_sc...</td>\n      <td>0.215066</td>\n      <td>Somewhat-Bullish</td>\n      <td>[{'ticker': 'DKNG', 'relevance_score': '0.0810...</td>\n    </tr>\n    <tr>\n      <th>198</th>\n      <td>Lindblad Expeditions  ( NASDAQ:LIND )  Researc...</td>\n      <td>https://www.defenseworld.net/2023/03/17/lindbl...</td>\n      <td>2023-03-17 05:24:44</td>\n      <td>[Defense World Staff]</td>\n      <td>Lindblad Expeditions ( NASDAQ:LIND ) Research ...</td>\n      <td>https://www.marketbeat.com/logos/lindblad-expe...</td>\n      <td>Stocknews.com</td>\n      <td>n/a</td>\n      <td>www.defenseworld.net</td>\n      <td>[{'topic': 'Retail &amp; Wholesale', 'relevance_sc...</td>\n      <td>0.244567</td>\n      <td>Somewhat-Bullish</td>\n      <td>[{'ticker': 'BLK', 'relevance_score': '0.15851...</td>\n    </tr>\n    <tr>\n      <th>199</th>\n      <td>RPM International  ( NYSE:RPM )  Now Covered b...</td>\n      <td>https://www.defenseworld.net/2023/03/17/rpm-in...</td>\n      <td>2023-03-17 05:24:44</td>\n      <td>[Defense World Staff]</td>\n      <td>RPM International ( NYSE:RPM ) Now Covered by ...</td>\n      <td>https://www.marketbeat.com/scripts/RatingsChar...</td>\n      <td>Stocknews.com</td>\n      <td>n/a</td>\n      <td>www.defenseworld.net</td>\n      <td>[{'topic': 'Life Sciences', 'relevance_score':...</td>\n      <td>0.258671</td>\n      <td>Somewhat-Bullish</td>\n      <td>[{'ticker': 'DKNG', 'relevance_score': '0.0625...</td>\n    </tr>\n  </tbody>\n</table>\n<p>200 rows × 13 columns</p>\n</div>"
     },
     "execution_count": 6,
     "metadata": {},
     "output_type": "execute_result"
    }
   ],
   "source": [
    "# Call the alpha vantage api to get the news data\n",
    "\n",
    "# Set the ticker\n",
    "ticker = \"SCHW\"\n",
    "\n",
    "# Call the news api\n",
    "news = api_calls.call_alpha_vantage_news(ticker)\n",
    "\n",
    "# Convert time to datetime\n",
    "for i in range(len(news['feed'])):\n",
    "    news['feed'][i]['time_published'] = dt.datetime.strptime(news['feed'][i]['time_published'], \"%Y%m%dT%H%M%S\")\n",
    "\n",
    "# Create a Pandas DataFrame\n",
    "stock_news = pd.DataFrame(news['feed'])\n",
    "\n",
    "# Display sample data\n",
    "stock_news"
   ],
   "metadata": {
    "collapsed": false,
    "ExecuteTime": {
     "start_time": "2023-04-02T18:02:52.400078Z",
     "end_time": "2023-04-02T18:02:53.017273Z"
    }
   }
  },
  {
   "cell_type": "code",
   "execution_count": 23,
   "outputs": [
    {
     "data": {
      "text/plain": "<Figure size 432x288 with 1 Axes>",
      "image/png": "[encoded data removed]"
     },
     "metadata": {
      "needs_background": "light"
     },
     "output_type": "display_data"
    }
   ],
   "source": [
    "# Create a boxplot of the sentiment analysis of the news\n",
    "stock_news.boxplot(column=['overall_sentiment_score'])\n",
    "plt.show()"
   ],
   "metadata": {
    "collapsed": false,
    "ExecuteTime": {
     "start_time": "2023-03-30T21:02:27.383000Z",
     "end_time": "2023-03-30T21:02:27.432530Z"
    }
   }
  },
  {
   "cell_type": "code",
   "execution_count": 5,
   "outputs": [],
   "source": [],
   "metadata": {
    "collapsed": false,
    "ExecuteTime": {
     "start_time": "2023-03-30T20:44:10.026210Z",
     "end_time": "2023-03-30T20:44:10.062597Z"
    }
   }
  }
 ],
 "metadata": {
  "kernelspec": {
   "display_name": "Python 3",
   "language": "python",
   "name": "python3"
  },
  "language_info": {
   "codemirror_mode": {
    "name": "ipython",
    "version": 2
   },
   "file_extension": ".py",
   "mimetype": "text/x-python",
   "name": "python",
   "nbconvert_exporter": "python",
   "pygments_lexer": "ipython2",
   "version": "2.7.6"
  }
 },
 "nbformat": 4,
 "nbformat_minor": 0
}
